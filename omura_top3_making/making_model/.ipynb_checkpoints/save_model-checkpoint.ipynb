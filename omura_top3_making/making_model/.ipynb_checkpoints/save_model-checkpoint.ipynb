{
 "cells": [
  {
   "cell_type": "code",
   "execution_count": 1,
   "metadata": {},
   "outputs": [],
   "source": [
    "import pandas as pd\n",
    "import numpy as np\n",
    "from sklearn.metrics import accuracy_score\n",
    "from sklearn.model_selection import cross_val_score\n",
    "from matplotlib import pyplot as plt\n",
    "import seaborn\n",
    "from pandas import DataFrame\n",
    "from tqdm import tqdm\n",
    "from imblearn.under_sampling import RandomUnderSampler #アンダーサンプリング用\n",
    "import pickle\n",
    "# 機械学習用\n",
    "from sklearn.cluster import KMeans #クラスタリング用\n",
    "from sklearn.ensemble import RandomForestClassifier#ランダムフォレスト\n",
    "from copy import deepcopy as cp\n",
    "from sklearn.linear_model import LogisticRegression\n",
    "from sklearn.ensemble import AdaBoostClassifier\n",
    "import lightgbm as lgb\n",
    "from sklearn.linear_model import LogisticRegression as LR\n",
    "\n",
    "pd.set_option('display.width',400)#勝手に改行コードを入れられるのを防ぐ"
   ]
  },
  {
   "cell_type": "markdown",
   "metadata": {},
   "source": [
    "## 前処理&学習、本番データ切り分け"
   ]
  },
  {
   "cell_type": "code",
   "execution_count": 2,
   "metadata": {},
   "outputs": [],
   "source": [
    "#学習データの読み込み\n",
    "place=\"omura\"\n",
    "result_df = pd.read_csv('train_{}.csv'.format(place))\n",
    "\n",
    "result_df=result_df.drop([\"Unnamed: 0\"],axis=1)#csvファイルについている名無しの列を削除\n",
    "#result_df=result_df.iloc[7000:]\n",
    "result_df=result_df.drop([\"racer_1_ID\",\"racer_2_ID\",\"racer_3_ID\",\"racer_4_ID\",\"racer_5_ID\",\"racer_6_ID\",],axis=1)#IDはいらないので削除\n",
    "result_df=result_df.replace(0.0000,{\"racer_1_ave_st_time\":0.22})#新人のave_st_timeを0.22に\n",
    "result_df=result_df.replace(0.0000,{\"racer_2_ave_st_time\":0.22})\n",
    "result_df=result_df.replace(0.0000,{\"racer_3_ave_st_time\":0.22})\n",
    "result_df=result_df.replace(0.0000,{\"racer_4_ave_st_time\":0.22})\n",
    "result_df=result_df.replace(0.0000,{\"racer_5_ave_st_time\":0.22})\n",
    "result_df=result_df.replace(0.0000,{\"racer_6_ave_st_time\":0.22})\n",
    "result_df=result_df.replace(0.0000,{\"racer_1_doub_win\":0.02})#新人の着に絡む確率ave_st_timeを0.02に(新人の半期の偏差から導出)\n",
    "result_df=result_df.replace(0.0000,{\"racer_2_doub_win\":0.02})\n",
    "result_df=result_df.replace(0.0000,{\"racer_3_doub_win\":0.02})\n",
    "result_df=result_df.replace(0.0000,{\"racer_4_doub_win\":0.02})\n",
    "result_df=result_df.replace(0.0000,{\"racer_5_doub_win\":0.02})\n",
    "result_df=result_df.replace(0.0000,{\"racer_6_doub_win\":0.02})\n",
    "\n",
    "#レース番号ダミー化=======================================================\n",
    "result_df_dummie=result_df\n",
    "race_dummie_df=pd.get_dummies(result_df_dummie['number_race'])#number_raceをダミー化\n",
    "for column, val in race_dummie_df.iteritems():\n",
    "    result_df_dummie['race_{}'.format(int(column))]=val\n",
    "result_df_dummie=result_df_dummie.drop('number_race',axis=1)\n",
    "\n",
    "cols=list(result_df_dummie.columns)\n",
    "male_cols=[s for s in cols if 'male' in s]#性別を示すカラムを取り出す\n",
    "\n",
    "for col in male_cols:\n",
    "    male_dummie_df=pd.get_dummies(result_df_dummie[col])#number_raceをダミー化\n",
    "    for column, val in male_dummie_df.iteritems():\n",
    "        result_df_dummie['{}_{}'.format(col,int(column))]=val\n",
    "    result_df_dummie=result_df_dummie.drop('{}'.format(col),axis=1)\n",
    "\n",
    "#ボート、モータもダミー化=============================================================================\n",
    "cols=list(result_df_dummie.columns)\n",
    "moter_cols=[s for s in cols if '_mo' in s]#モーター番号を示すカラムを取り出す\n",
    "boat_cols=[s for s in cols if '_bo' in s]#ボート番号を示すカラムを取り出す\n",
    "#boat もmoterも番号は1~99とする\n",
    "numbers=np.arange(1, 100, 1)\n",
    "empty_arr=[0]*len(result_df_dummie)\n",
    "for col in moter_cols:\n",
    "    for number in numbers:\n",
    "        result_df_dummie['{}_{}'.format(col,int(number))]=empty_arr\n",
    "    moter_dummie_df=pd.get_dummies(result_df_dummie[col])#モータ番号をダミー化\n",
    "    for column, val in moter_dummie_df.iteritems():\n",
    "        result_df_dummie['{}_{}'.format(col,int(column))]=val\n",
    "    result_df_dummie=result_df_dummie.drop('{}'.format(col),axis=1)\n",
    "\n",
    "#boat番号をダミー化\n",
    "for col in boat_cols:\n",
    "    for number in numbers:\n",
    "        result_df_dummie['{}_{}'.format(col,int(number))]=empty_arr\n",
    "    boat_dummie_df=pd.get_dummies(result_df_dummie[col])#boat番号をダミー化\n",
    "    for column, val in boat_dummie_df.iteritems():\n",
    "        result_df_dummie['{}_{}'.format(col,int(column))]=val\n",
    "    result_df_dummie=result_df_dummie.drop('{}'.format(col),axis=1)\n",
    "result_df=result_df_dummie\n",
    "\n",
    "#クラスタリングラベルの付与==================================================================\n",
    "#クラスタリングに使わないカラムを取り除く\n",
    "train_drops_df=pd.DataFrame({})\n",
    "drop_col_names=['result_com','money']\n",
    "train_drops_df['result_com']=result_df['result_com']\n",
    "train_drops_df['money']=result_df['money']\n",
    "cluster_target_df=result_df.drop(drop_col_names,axis=1)\n",
    "\n",
    "#クラスタリング\n",
    "#分けてみるクラスタの数は[8,10]の2個\n",
    "#cluster_target_df　　trainのデータからリザルトと配当金を取り除いたもの\n",
    "target_num_cluster=[8,10]\n",
    "#test_clustaring_df=train_has_PCA_df\n",
    "clustaring_df=cluster_target_df\n",
    "for num_cluster in target_num_cluster:\n",
    "    pred = KMeans(n_clusters=num_cluster).fit_predict(cluster_target_df)\n",
    "    clustaring_df['num={}'.format(num_cluster)]=pred\n",
    "\n",
    "    \n",
    "    #result_comと配当金を戻す\n",
    "clustaring_df['result_com']=result_df['result_com']#正解ラベルを戻してあげる\n",
    "clustaring_df['money']=result_df['money']#配当金を戻してあげる\n",
    "df=clustaring_df\n",
    "\n",
    "#学習、テストデータ切り分け\n",
    "num_data = len(df) \n",
    "num_valid = int(num_data/6.0)\n",
    "valid_df = df.loc[(num_data-num_valid):num_data, :]#なるべく最新のデータを未知データに\n",
    "train_df = df.loc[0:(num_data-num_valid-1), :]\n",
    "train_money=pd.Series(train_df['money'])\n",
    "valid_money=pd.Series(valid_df['money'])"
   ]
  },
  {
   "cell_type": "markdown",
   "metadata": {},
   "source": [
    "### target_comと、パラメータを渡してモデルを作成する関数"
   ]
  },
  {
   "cell_type": "code",
   "execution_count": 3,
   "metadata": {},
   "outputs": [],
   "source": [
    "def making_model(result_com,depth,target_per):\n",
    "    result_com\n",
    "    print(result_com)\n",
    "    \n",
    "    #学習データのラベル変換==========================================================\n",
    "    result_train_df=train_df.copy() \n",
    "    result_arr=[0]*len(result_train_df)\n",
    "    i=0\n",
    "    for result in result_train_df['result_com']:\n",
    "        if ((result==result_com)):\n",
    "            result_arr[i]=1\n",
    "        else:\n",
    "            result_arr[i]=0\n",
    "        i+=1\n",
    "    result_train_df['result_com']=result_arr\n",
    "    result_valid_df=valid_df.copy() \n",
    "    result_arr=[0]*len(result_valid_df)\n",
    "    i=0\n",
    "    for result in result_valid_df['result_com']:\n",
    "        if ((result==result_com)):\n",
    "            result_arr[i]=1\n",
    "        else:\n",
    "            result_arr[i]=0\n",
    "        i+=1\n",
    "\n",
    "    result_valid_df['result_com']=result_arr\n",
    "\n",
    "    result_train_df['money']=train_money\n",
    "    result_valid_df['money']=valid_money\n",
    "    #学習データラベル変換終わり============================================\n",
    "\n",
    "    for_arr=np.arange(1,100,1)\n",
    "    accuracy_arr=[0]*len(for_arr)\n",
    "    target_per_arr=[0]*len(for_arr)\n",
    "    pred_0=[0]*len(for_arr)\n",
    "    gain_arr=[0]*len(for_arr)\n",
    "    model_gain_arr=[0]*len(result_valid_df)\n",
    "    valid_gain_arr=valid_money.values\n",
    "\n",
    "    depths_arr=[4,5,6,7,8]\n",
    "    #for depth in depths_arr:\n",
    "    #    for sum_target_per in tqdm(for_arr):\n",
    "\n",
    "    #index=sum_target_per-1\n",
    "    #target_per=50+sum_target_per\n",
    "    #target_per_arr[index]=target_per\n",
    "\n",
    "    #モデルの評価指標値を格納するseries======================\n",
    "    model_score_s=pd.Series(index=['target_com','depth','target_per','総収益', '投資金額','出現数','購買予測数','利益率','購買的中率','的中数'])\n",
    "    model_score_s['target_com']=result_com#目標としているresult_comラベル番号\n",
    "    model_score_s['depth']=depth#ハイパーパラメータ＿木の深さ\n",
    "    model_score_s['target_per']=target_per#学習データ_1に対してどの程度の0のデータを持たせるか。\n",
    "    #======================\n",
    "    #trainの[0]に対して、target_perの割合の量[1]を持った学習データの作成\n",
    "    # 一層目の判別機のtrainデータ　:terget_result_df\n",
    "    target_df=result_train_df#ベースのデータフレームをコピー\n",
    "    target_df=target_df.sample(frac=1, random_state=1)#シャッフル、時系列の偏りを無くす\n",
    "    target_1_df=target_df[target_df['result_com']==1]\n",
    "    len_1=len(target_1_df)\n",
    "    target_0_df=target_df[target_df['result_com']==0]\n",
    "    len_0=len(target_0_df)\n",
    "    target_0_df=target_0_df.iloc[(len_0-int(len_1*(target_per/100))):len_0]#1に対する目標の割合ぶん0の結果だったレースを抽出（後ろから抽出）\n",
    "    target_train_df=pd.concat([target_1_df, target_0_df])\n",
    "    #以下学習パート======================================================\n",
    "    target_x_train=target_train_df.drop('money',axis=1)\n",
    "    target_x_train=target_x_train.drop('result_com',axis=1)\n",
    "    target_y_train=target_train_df['result_com']\n",
    "    #テストデータ\n",
    "    target_y_valid=result_valid_df['result_com']\n",
    "    target_x_valid=result_valid_df.drop('money',axis=1)\n",
    "    target_x_valid=target_x_valid.drop('result_com',axis=1)\n",
    "    RF = RandomForestClassifier(random_state=1,n_estimators=1000,max_depth=depth)\n",
    "    RF = RF.fit(target_x_train,target_y_train)\n",
    "\n",
    "\n",
    "    #以下精度検証(１の正答率のみ調査)\n",
    "\n",
    "    # 未知データに対する予測値\n",
    "    predict_y_valid = RF.predict(target_x_valid)\n",
    "\n",
    "    #[1]の正答率を見る\n",
    "    pred_valid_df=pd.DataFrame({'pred':predict_y_valid\n",
    "                              , 'valid':target_y_valid})\n",
    "    num_1=len(pred_valid_df[pred_valid_df['valid']==1])\n",
    "    count=0\n",
    "    #追加　配当金の情報も考慮する。\n",
    "    gain_index=0\n",
    "    model_gain_arr=[0]*len(result_valid_df)\n",
    "    for _, s in pred_valid_df.iterrows():\n",
    "        if ((s['pred']==1) and (s['valid']==1)):\n",
    "            count+=1#的中回数\n",
    "            model_gain_arr[gain_index]=valid_gain_arr[gain_index]\n",
    "        gain_index+=1\n",
    "    #gain_arr[index]=sum(model_gain_arr)\n",
    "    #accuracy_arr[index]=(count/num_1)*100\n",
    "    #try:\n",
    "    #    pred_0[index]=pred_valid_df['pred'].value_counts()[0]\n",
    "    #except:\n",
    "    #    pred_0[index]=0\n",
    "    #scoreのseriesに情報書き込み==================\n",
    "    model_score_s['総収益']=sum(model_gain_arr)\n",
    "    model_score_s['投資金額']=100*sum(predict_y_valid)\n",
    "    model_score_s['出現数']=sum(target_y_valid)\n",
    "    model_score_s['購買予測数']=sum(predict_y_valid)\n",
    "    model_score_s['利益率']=(model_score_s['総収益']/model_score_s['投資金額'])*100\n",
    "    model_score_s['購買的中率']=(count/sum(predict_y_valid))*100\n",
    "    model_score_s['的中数']=count\n",
    "    display(model_score_s)\n",
    "    \n",
    "    return RF\n",
    "            "
   ]
  },
  {
   "cell_type": "code",
   "execution_count": 5,
   "metadata": {},
   "outputs": [
    {
     "name": "stdout",
     "output_type": "stream",
     "text": [
      "10\n"
     ]
    },
    {
     "data": {
      "text/plain": [
       "target_com      10.000000\n",
       "depth            8.000000\n",
       "target_per     144.000000\n",
       "総収益           9150.000000\n",
       "投資金額          6600.000000\n",
       "出現数            120.000000\n",
       "購買予測数           66.000000\n",
       "利益率            138.636364\n",
       "購買的中率           13.636364\n",
       "的中数              9.000000\n",
       "dtype: float64"
      ]
     },
     "metadata": {},
     "output_type": "display_data"
    }
   ],
   "source": [
    "#test_model=making_model(result_com,depth,target_per)\n",
    "target=10\n",
    "depth=8\n",
    "per0=144\n",
    "model=making_model(target,depth,per0)\n",
    "model\n",
    "\n",
    "#モデル保存\n",
    "filename = '../pickle_data/model_com{}_dep{}_per{}.sav'.format(target,depth,per0)\n",
    "\n",
    "pickle.dump(model, open(filename, 'wb'))\n"
   ]
  },
  {
   "cell_type": "code",
   "execution_count": 5,
   "metadata": {},
   "outputs": [],
   "source": [
    "#モデル保存\n",
    "#filename = '../pickle_data/model_com{}_dep{}_per{}.sav'.format(target,depth,per0)\n",
    "#pickle.dump(model, open(filename, 'wb'))"
   ]
  },
  {
   "cell_type": "markdown",
   "metadata": {},
   "source": [
    "### pickleデータの動作確認"
   ]
  },
  {
   "cell_type": "code",
   "execution_count": 6,
   "metadata": {},
   "outputs": [],
   "source": [
    "def pickle_model(result_com,depth,target_per):\n",
    "    filename = '../pickle_data/model_com{}_dep{}_per{}.sav'.format(result_com,depth,target_per)\n",
    "    result_com\n",
    "    print(result_com)\n",
    "    \n",
    "    #学習データのラベル変換==========================================================\n",
    "    result_train_df=train_df.copy() \n",
    "    result_arr=[0]*len(result_train_df)\n",
    "    i=0\n",
    "    for result in result_train_df['result_com']:\n",
    "        if ((result==result_com)):\n",
    "            result_arr[i]=1\n",
    "        else:\n",
    "            result_arr[i]=0\n",
    "        i+=1\n",
    "    result_train_df['result_com']=result_arr\n",
    "    result_valid_df=valid_df.copy() \n",
    "    result_arr=[0]*len(result_valid_df)\n",
    "    i=0\n",
    "    for result in result_valid_df['result_com']:\n",
    "        if ((result==result_com)):\n",
    "            result_arr[i]=1\n",
    "        else:\n",
    "            result_arr[i]=0\n",
    "        i+=1\n",
    "\n",
    "    result_valid_df['result_com']=result_arr\n",
    "\n",
    "    result_train_df['money']=train_money\n",
    "    result_valid_df['money']=valid_money\n",
    "    #学習データラベル変換終わり============================================\n",
    "\n",
    "    for_arr=np.arange(1,100,1)\n",
    "    accuracy_arr=[0]*len(for_arr)\n",
    "    target_per_arr=[0]*len(for_arr)\n",
    "    pred_0=[0]*len(for_arr)\n",
    "    gain_arr=[0]*len(for_arr)\n",
    "    model_gain_arr=[0]*len(result_valid_df)\n",
    "    valid_gain_arr=valid_money.values\n",
    "\n",
    "    depths_arr=[4,5,6,7,8]\n",
    "    #for depth in depths_arr:\n",
    "    #    for sum_target_per in tqdm(for_arr):\n",
    "\n",
    "    #index=sum_target_per-1\n",
    "    #target_per=50+sum_target_per\n",
    "    #target_per_arr[index]=target_per\n",
    "\n",
    "    #モデルの評価指標値を格納するseries======================\n",
    "    model_score_s=pd.Series(index=['target_com','depth','target_per','総収益', '投資金額','出現数','購買予測数','利益率','購買的中率','的中数'])\n",
    "    model_score_s['target_com']=result_com#目標としているresult_comラベル番号\n",
    "    model_score_s['depth']=depth#ハイパーパラメータ＿木の深さ\n",
    "    model_score_s['target_per']=target_per#学習データ_1に対してどの程度の0のデータを持たせるか。\n",
    "    #======================\n",
    "    #trainの[0]に対して、target_perの割合の量[1]を持った学習データの作成\n",
    "    # 一層目の判別機のtrainデータ　:terget_result_df\n",
    "    target_df=result_train_df#ベースのデータフレームをコピー\n",
    "    target_df=target_df.sample(frac=1, random_state=1)#シャッフル、時系列の偏りを無くす\n",
    "    target_1_df=target_df[target_df['result_com']==1]\n",
    "    len_1=len(target_1_df)\n",
    "    target_0_df=target_df[target_df['result_com']==0]\n",
    "    len_0=len(target_0_df)\n",
    "    target_0_df=target_0_df.iloc[(len_0-int(len_1*(target_per/100))):len_0]#1に対する目標の割合ぶん0の結果だったレースを抽出（後ろから抽出）\n",
    "    target_train_df=pd.concat([target_1_df, target_0_df])\n",
    "    #以下学習パート======================================================\n",
    "    target_x_train=target_train_df.drop('money',axis=1)\n",
    "    target_x_train=target_x_train.drop('result_com',axis=1)\n",
    "    target_y_train=target_train_df['result_com']\n",
    "    #テストデータ\n",
    "    target_y_valid=result_valid_df['result_com']\n",
    "    target_x_valid=result_valid_df.drop('money',axis=1)\n",
    "    target_x_valid=target_x_valid.drop('result_com',axis=1)\n",
    "    RF = pickle.load(open(filename, 'rb'))\n",
    "\n",
    "\n",
    "    #以下精度検証(１の正答率のみ調査)\n",
    "\n",
    "    # 未知データに対する予測値\n",
    "    predict_y_valid = RF.predict(target_x_valid)\n",
    "\n",
    "    #[1]の正答率を見る\n",
    "    pred_valid_df=pd.DataFrame({'pred':predict_y_valid\n",
    "                              , 'valid':target_y_valid})\n",
    "    num_1=len(pred_valid_df[pred_valid_df['valid']==1])\n",
    "    count=0\n",
    "    #追加　配当金の情報も考慮する。\n",
    "    gain_index=0\n",
    "    model_gain_arr=[0]*len(result_valid_df)\n",
    "    for _, s in pred_valid_df.iterrows():\n",
    "        if ((s['pred']==1) and (s['valid']==1)):\n",
    "            count+=1#的中回数\n",
    "            model_gain_arr[gain_index]=valid_gain_arr[gain_index]\n",
    "        gain_index+=1\n",
    "    #gain_arr[index]=sum(model_gain_arr)\n",
    "    #accuracy_arr[index]=(count/num_1)*100\n",
    "    #try:\n",
    "    #    pred_0[index]=pred_valid_df['pred'].value_counts()[0]\n",
    "    #except:\n",
    "    #    pred_0[index]=0\n",
    "    #scoreのseriesに情報書き込み==================\n",
    "    model_score_s['総収益']=sum(model_gain_arr)\n",
    "    model_score_s['投資金額']=100*sum(predict_y_valid)\n",
    "    model_score_s['出現数']=sum(target_y_valid)\n",
    "    model_score_s['購買予測数']=sum(predict_y_valid)\n",
    "    model_score_s['利益率']=(model_score_s['総収益']/model_score_s['投資金額'])*100\n",
    "    model_score_s['購買的中率']=(count/sum(predict_y_valid))*100\n",
    "    model_score_s['的中数']=count\n",
    "    display(model_score_s)\n",
    "    return RF\n",
    "            "
   ]
  },
  {
   "cell_type": "code",
   "execution_count": 7,
   "metadata": {},
   "outputs": [
    {
     "name": "stdout",
     "output_type": "stream",
     "text": [
      "3\n"
     ]
    },
    {
     "data": {
      "text/plain": [
       "target_com        3.000000\n",
       "depth             6.000000\n",
       "target_per      121.000000\n",
       "総収益            8350.000000\n",
       "投資金額          15300.000000\n",
       "出現数             151.000000\n",
       "購買予測数           153.000000\n",
       "利益率              54.575163\n",
       "購買的中率             9.150327\n",
       "的中数              14.000000\n",
       "dtype: float64"
      ]
     },
     "metadata": {},
     "output_type": "display_data"
    },
    {
     "data": {
      "text/plain": [
       "RandomForestClassifier(max_depth=6, n_estimators=1000, random_state=1)"
      ]
     },
     "execution_count": 7,
     "metadata": {},
     "output_type": "execute_result"
    }
   ],
   "source": [
    "target=3\n",
    "depth=6\n",
    "per0=121\n",
    "model=pickle_model(target,depth,per0)\n",
    "model"
   ]
  },
  {
   "cell_type": "code",
   "execution_count": 8,
   "metadata": {},
   "outputs": [
    {
     "name": "stdout",
     "output_type": "stream",
     "text": [
      "4\n"
     ]
    },
    {
     "data": {
      "text/plain": [
       "target_com        4.000000\n",
       "depth             7.000000\n",
       "target_per      131.000000\n",
       "総収益           24060.000000\n",
       "投資金額          20600.000000\n",
       "出現数              88.000000\n",
       "購買予測数           206.000000\n",
       "利益率             116.796117\n",
       "購買的中率             9.223301\n",
       "的中数              19.000000\n",
       "dtype: float64"
      ]
     },
     "metadata": {},
     "output_type": "display_data"
    },
    {
     "data": {
      "text/plain": [
       "RandomForestClassifier(max_depth=7, n_estimators=1000, random_state=1)"
      ]
     },
     "execution_count": 8,
     "metadata": {},
     "output_type": "execute_result"
    }
   ],
   "source": [
    "target=4\n",
    "depth=7\n",
    "per0=131\n",
    "model=pickle_model(target,depth,per0)\n",
    "model"
   ]
  },
  {
   "cell_type": "code",
   "execution_count": 9,
   "metadata": {},
   "outputs": [
    {
     "name": "stdout",
     "output_type": "stream",
     "text": [
      "5\n"
     ]
    },
    {
     "data": {
      "text/plain": [
       "target_com        5.000000\n",
       "depth             8.000000\n",
       "target_per      122.000000\n",
       "総収益           16740.000000\n",
       "投資金額          15700.000000\n",
       "出現数             221.000000\n",
       "購買予測数           157.000000\n",
       "利益率             106.624204\n",
       "購買的中率            12.101911\n",
       "的中数              19.000000\n",
       "dtype: float64"
      ]
     },
     "metadata": {},
     "output_type": "display_data"
    },
    {
     "data": {
      "text/plain": [
       "RandomForestClassifier(max_depth=8, n_estimators=1000, random_state=1)"
      ]
     },
     "execution_count": 9,
     "metadata": {},
     "output_type": "execute_result"
    }
   ],
   "source": [
    "target=5\n",
    "depth=8\n",
    "per0=122\n",
    "model=pickle_model(target,depth,per0)\n",
    "model"
   ]
  },
  {
   "cell_type": "code",
   "execution_count": 10,
   "metadata": {},
   "outputs": [
    {
     "name": "stdout",
     "output_type": "stream",
     "text": [
      "7\n"
     ]
    },
    {
     "data": {
      "text/plain": [
       "target_com       7.000\n",
       "depth            7.000\n",
       "target_per     146.000\n",
       "総収益           1420.000\n",
       "投資金額          3200.000\n",
       "出現数            140.000\n",
       "購買予測数           32.000\n",
       "利益率             44.375\n",
       "購買的中率            6.250\n",
       "的中数              2.000\n",
       "dtype: float64"
      ]
     },
     "metadata": {},
     "output_type": "display_data"
    },
    {
     "data": {
      "text/plain": [
       "RandomForestClassifier(max_depth=7, n_estimators=1000, random_state=1)"
      ]
     },
     "execution_count": 10,
     "metadata": {},
     "output_type": "execute_result"
    }
   ],
   "source": [
    "target=7\n",
    "depth=7\n",
    "per0=146\n",
    "model=pickle_model(target,depth,per0)\n",
    "model"
   ]
  },
  {
   "cell_type": "code",
   "execution_count": 11,
   "metadata": {},
   "outputs": [
    {
     "name": "stdout",
     "output_type": "stream",
     "text": [
      "13\n"
     ]
    },
    {
     "data": {
      "text/plain": [
       "target_com       13.000000\n",
       "depth             6.000000\n",
       "target_per      115.000000\n",
       "総収益           61900.000000\n",
       "投資金額          62900.000000\n",
       "出現数              71.000000\n",
       "購買予測数           629.000000\n",
       "利益率              98.410175\n",
       "購買的中率             4.928458\n",
       "的中数              31.000000\n",
       "dtype: float64"
      ]
     },
     "metadata": {},
     "output_type": "display_data"
    },
    {
     "data": {
      "text/plain": [
       "RandomForestClassifier(max_depth=6, n_estimators=1000, random_state=1)"
      ]
     },
     "execution_count": 11,
     "metadata": {},
     "output_type": "execute_result"
    }
   ],
   "source": [
    "target=13\n",
    "depth=6\n",
    "per0=115\n",
    "model=pickle_model(target,depth,per0)\n",
    "model"
   ]
  },
  {
   "cell_type": "code",
   "execution_count": 12,
   "metadata": {},
   "outputs": [
    {
     "name": "stdout",
     "output_type": "stream",
     "text": [
      "14\n"
     ]
    },
    {
     "data": {
      "text/plain": [
       "target_com      14.000000\n",
       "depth            4.000000\n",
       "target_per     123.000000\n",
       "総収益           2560.000000\n",
       "投資金額          7900.000000\n",
       "出現数             69.000000\n",
       "購買予測数           79.000000\n",
       "利益率             32.405063\n",
       "購買的中率            1.265823\n",
       "的中数              1.000000\n",
       "dtype: float64"
      ]
     },
     "metadata": {},
     "output_type": "display_data"
    },
    {
     "data": {
      "text/plain": [
       "RandomForestClassifier(max_depth=4, n_estimators=1000, random_state=1)"
      ]
     },
     "execution_count": 12,
     "metadata": {},
     "output_type": "execute_result"
    }
   ],
   "source": [
    "target=14\n",
    "depth=4\n",
    "per0=123\n",
    "model=pickle_model(target,depth,per0)\n",
    "model"
   ]
  },
  {
   "cell_type": "code",
   "execution_count": 13,
   "metadata": {},
   "outputs": [
    {
     "ename": "NameError",
     "evalue": "name 'target_x_valid' is not defined",
     "output_type": "error",
     "traceback": [
      "\u001b[1;31m---------------------------------------------------------------------------\u001b[0m",
      "\u001b[1;31mNameError\u001b[0m                                 Traceback (most recent call last)",
      "\u001b[1;32m<ipython-input-13-ffde0062b6cb>\u001b[0m in \u001b[0;36m<module>\u001b[1;34m\u001b[0m\n\u001b[1;32m----> 1\u001b[1;33m \u001b[1;32mfor\u001b[0m \u001b[0mi\u001b[0m \u001b[1;32min\u001b[0m \u001b[0mtarget_x_valid\u001b[0m\u001b[1;33m.\u001b[0m\u001b[0mcolumns\u001b[0m\u001b[1;33m:\u001b[0m\u001b[1;33m\u001b[0m\u001b[1;33m\u001b[0m\u001b[0m\n\u001b[0m\u001b[0;32m      2\u001b[0m     \u001b[0mprint\u001b[0m\u001b[1;33m(\u001b[0m\u001b[0mi\u001b[0m\u001b[1;33m)\u001b[0m\u001b[1;33m\u001b[0m\u001b[1;33m\u001b[0m\u001b[0m\n",
      "\u001b[1;31mNameError\u001b[0m: name 'target_x_valid' is not defined"
     ]
    }
   ],
   "source": [
    "for i in target_x_valid.columns:\n",
    "    print(i)"
   ]
  },
  {
   "cell_type": "code",
   "execution_count": null,
   "metadata": {},
   "outputs": [],
   "source": []
  }
 ],
 "metadata": {
  "kernelspec": {
   "display_name": "Python 3",
   "language": "python",
   "name": "python3"
  },
  "language_info": {
   "codemirror_mode": {
    "name": "ipython",
    "version": 3
   },
   "file_extension": ".py",
   "mimetype": "text/x-python",
   "name": "python",
   "nbconvert_exporter": "python",
   "pygments_lexer": "ipython3",
   "version": "3.7.4"
  }
 },
 "nbformat": 4,
 "nbformat_minor": 2
}
