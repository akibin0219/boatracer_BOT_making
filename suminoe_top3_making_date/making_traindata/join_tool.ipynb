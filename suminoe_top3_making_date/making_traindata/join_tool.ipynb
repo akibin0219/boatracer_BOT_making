{
 "cells": [
  {
   "cell_type": "code",
   "execution_count": 1,
   "metadata": {
    "colab": {},
    "colab_type": "code",
    "id": "SDpzeLExeXu8"
   },
   "outputs": [],
   "source": [
    "import pandas as pd\n",
    "import numpy as np\n",
    "pd.set_option('display.width',200)#勝手に改行コードを入れられるのを防ぐ"
   ]
  },
  {
   "cell_type": "code",
   "execution_count": 2,
   "metadata": {
    "colab": {
     "base_uri": "https://localhost:8080/",
     "height": 153
    },
    "colab_type": "code",
    "executionInfo": {
     "elapsed": 678230,
     "status": "ok",
     "timestamp": 1576857675029,
     "user": {
      "displayName": "ta ku",
      "photoUrl": "https://lh3.googleusercontent.com/a-/AAuE7mDW1GwUN8_s-mnB8Ci6mbpeOP9SpQo6o5Csf0rphQ=s64",
      "userId": "14345004097153540112"
     },
     "user_tz": -540
    },
    "id": "Z4o0yTuG9gVN",
    "outputId": "621142d1-c819-46d4-ef84-aa80fc3bc17d"
   },
   "outputs": [
    {
     "name": "stderr",
     "output_type": "stream",
     "text": [
      "c:\\users\\nabe0\\desktop\\nabepy\\env\\lib\\site-packages\\pandas\\core\\frame.py:7138: FutureWarning: Sorting because non-concatenation axis is not aligned. A future version\n",
      "of pandas will change to not sort by default.\n",
      "\n",
      "To accept the future behavior, pass 'sort=False'.\n",
      "\n",
      "To retain the current behavior and silence the warning, pass 'sort=True'.\n",
      "\n",
      "  sort=sort,\n"
     ]
    }
   ],
   "source": [
    "train_data_df=pd.DataFrame(columns=['date','result_com','number_race','racer_1_ID','racer_2_ID','racer_3_ID','racer_4_ID','racer_5_ID','racer_6_ID','racer_1_rank','racer_1_male','racer_1_age','racer_1_doub','racer_1_ave_st','racer_2_rank','racer_2_male','racer_2_age','racer_2_doub','racer_2_ave_st','racer_3_rank','racer_3_male','racer_3_age','racer_3_doub','racer_3_ave_st','racer_4_rank','racer_4_male','racer_4_age','racer_4_doub','racer_4_ave_st','racer_5_rank','racer_5_male','racer_5_age','racer_5_doub','racer_5_ave_st','racer_6_rank','racer_6_male','racer_6_age','racer_6_doub','racer_6_ave_st'])\n",
    "years=[\"12\",\"13\",\"14\",\"15\",\"16\",\"17\",\"18\",\"19\",\"20\"]\n",
    "#write_train_file_path=\"/content/drive/My Drive/making_traindata/train_asiya.csv\"\n",
    "place=\"suminoe\"\n",
    "write_train_file_path=\"train_{}.csv\".format(place)\n",
    "for year in years:\n",
    "    #使用するファイルの定義\n",
    "    para_file_path=\"racerpara_by_year_csv/{}/{}.csv\".format(year,year)\n",
    "    result_file_path=\"{}_result_csv/20{}_result_{}.csv\".format(place,year,place)\n",
    "    write_train_by_year_file_path=\"train_by_year_{}/train_20{}_{}.csv\".format(place,year,place)\n",
    "    #write_train_file_path=\"/content/drive/My Drive/making_traindata/train_asiya.csv\"\n",
    "    \n",
    "    #/////////////////////////////////////////////以下データフレームの作成\n",
    "    train_data_by_year_df=pd.DataFrame(columns=['date','result_com','number_race','racer_1_ID','racer_2_ID','racer_3_ID','racer_4_ID','racer_5_ID','racer_6_ID','racer_1_rank','racer_1_male','racer_1_age','racer_1_doub','racer_1_ave_st','racer_2_rank','racer_2_male','racer_2_age','racer_2_doub','racer_2_ave_st','racer_3_rank','racer_3_male','racer_3_age','racer_3_doub','racer_3_ave_st','racer_4_rank','racer_4_male','racer_4_age','racer_4_doub','racer_4_ave_st','racer_5_rank','racer_5_male','racer_5_age','racer_5_doub','racer_5_ave_st','racer_6_rank','racer_6_male','racer_6_age','racer_6_doub','racer_6_ave_st'])\n",
    "    para_df=pd.read_csv(para_file_path)\n",
    "    para_df=para_df.drop([\"Unnamed: 0\"],axis=1)#csvファイルについている名無しの列を削除\n",
    "    #para_df=para_df.set_index([\"racer_ID\"])#インデックスを選手のIDに。\n",
    "    result_df=pd.read_csv(result_file_path)\n",
    "    result_df=result_df.drop([\"Unnamed: 0\"],axis=1)#csvファイルについている名無しの列を削除\n",
    "    \n",
    "    for index,series in result_df.iterrows():\n",
    "        add_df=pd.DataFrame(columns=['date','result_com','number_race','racer_1_ID','racer_2_ID','racer_3_ID','racer_4_ID','racer_5_ID','racer_6_ID','racer_1_rank','racer_1_male','racer_1_age','racer_1_doub','racer_1_ave_st','racer_2_rank','racer_2_male','racer_2_age','racer_2_doub','racer_2_ave_st','racer_3_rank','racer_3_male','racer_3_age','racer_3_doub','racer_3_ave_st','racer_4_rank','racer_4_male','racer_4_age','racer_4_doub','racer_4_ave_st','racer_5_rank','racer_5_male','racer_5_age','racer_5_doub','racer_5_ave_st','racer_6_rank','racer_6_male','racer_6_age','racer_6_doub','racer_6_ave_st'])\n",
    "        #///////////////////////////////////////レースに出ているレーサーの成績を検索＆取得\n",
    "        ID_1=series['racer_1_ID']\n",
    "        ID_2=series['racer_2_ID']\n",
    "        ID_3=series['racer_3_ID']\n",
    "        ID_4=series['racer_4_ID']\n",
    "        ID_5=series['racer_5_ID']\n",
    "        ID_6=series['racer_6_ID']\n",
    "        racer_1_df=para_df[para_df['racer_ID']==ID_1]\n",
    "        racer_2_df=para_df[para_df['racer_ID']==ID_2]\n",
    "        racer_3_df=para_df[para_df['racer_ID']==ID_3]\n",
    "        racer_4_df=para_df[para_df['racer_ID']==ID_4]\n",
    "        racer_5_df=para_df[para_df['racer_ID']==ID_5]\n",
    "        racer_6_df=para_df[para_df['racer_ID']==ID_6]\n",
    "\n",
    "        if series['result_com']==40:\n",
    "            pass#同着のデータは削除\n",
    "        #追加していくデータフレームを作成\n",
    "        else:\n",
    "            add_df= pd.DataFrame({'date':series['date'],\n",
    "                                    'result_com':series['result_com'],\n",
    "                                    'money':series['money'],\n",
    "                                    'number_race':series['number_race'],\n",
    "                                    'racer_1_ID':series['racer_1_ID'],\n",
    "                                    'racer_2_ID':series['racer_2_ID'],\n",
    "                                    'racer_3_ID':series['racer_3_ID'],\n",
    "                                    'racer_4_ID':series['racer_4_ID'],\n",
    "                                    'racer_5_ID':series['racer_5_ID'],\n",
    "                                    'racer_6_ID':series['racer_6_ID'],\n",
    "                                    'racer_1_bo':series['racer_1_b'],\n",
    "                                    'racer_1_mo':series['racer_1_m'],\n",
    "                                    'racer_2_bo':series['racer_2_b'],\n",
    "                                    'racer_2_mo':series['racer_2_m'],\n",
    "                                    'racer_3_bo':series['racer_3_b'],\n",
    "                                    'racer_3_mo':series['racer_3_m'],\n",
    "                                    'racer_4_bo':series['racer_4_b'],\n",
    "                                    'racer_4_mo':series['racer_4_m'],\n",
    "                                    'racer_5_bo':series['racer_5_b'],\n",
    "                                    'racer_5_mo':series['racer_5_m'],\n",
    "                                    'racer_6_bo':series['racer_6_b'],\n",
    "                                    'racer_6_mo':series['racer_6_m'],\n",
    "                                    'racer_1_rank':racer_1_df.iat[0,1],\n",
    "                                    'racer_1_male':racer_1_df.iat[0,2],\n",
    "                                    'racer_1_age':racer_1_df.iat[0,3],\n",
    "                                    'racer_1_doub':racer_1_df.iat[0,4],\n",
    "                                    'racer_1_ave_st':racer_1_df.iat[0,5],\n",
    "                                    'racer_2_rank':racer_2_df.iat[0,1],\n",
    "                                    'racer_2_male':racer_2_df.iat[0,2],\n",
    "                                    'racer_2_age':racer_2_df.iat[0,3],\n",
    "                                    'racer_2_doub':racer_2_df.iat[0,4],\n",
    "                                    'racer_2_ave_st':racer_2_df.iat[0,5],\n",
    "                                    'racer_3_rank':racer_3_df.iat[0,1],\n",
    "                                    'racer_3_male':racer_3_df.iat[0,2],\n",
    "                                    'racer_3_age':racer_3_df.iat[0,3],\n",
    "                                    'racer_3_doub':racer_3_df.iat[0,4],\n",
    "                                    'racer_3_ave_st':racer_3_df.iat[0,5],\n",
    "                                    'racer_4_rank':racer_4_df.iat[0,1],\n",
    "                                    'racer_4_male':racer_4_df.iat[0,2],\n",
    "                                    'racer_4_age':racer_4_df.iat[0,3],\n",
    "                                    'racer_4_doub':racer_4_df.iat[0,4],\n",
    "                                    'racer_4_ave_st':racer_4_df.iat[0,5],\n",
    "                                    'racer_5_rank':racer_5_df.iat[0,1],\n",
    "                                    'racer_5_male':racer_5_df.iat[0,2],\n",
    "                                    'racer_5_age':racer_5_df.iat[0,3],\n",
    "                                    'racer_5_doub':racer_5_df.iat[0,4],\n",
    "                                    'racer_5_ave_st':racer_5_df.iat[0,5],\n",
    "                                    'racer_6_rank':racer_6_df.iat[0,1],\n",
    "                                    'racer_6_male':racer_6_df.iat[0,2],\n",
    "                                    'racer_6_age':racer_6_df.iat[0,3],\n",
    "                                    'racer_6_doub':racer_6_df.iat[0,4],\n",
    "                                    'racer_6_ave_st':racer_6_df.iat[0,5] }, index=[''])\n",
    "        #//////////////////////////////データフレームにadd_dfを追加していく。\n",
    "        train_data_by_year_df=train_data_by_year_df.append(add_df)\n",
    "        train_data_df=train_data_df.append(add_df)\n",
    "    #train_data_df=train_data_df.append(train_data_by_year_df)\n",
    "    train_data_by_year_df.to_csv(write_train_by_year_file_path)\n",
    "train_data_df.to_csv(write_train_file_path)"
   ]
  },
  {
   "cell_type": "code",
   "execution_count": 3,
   "metadata": {
    "colab": {
     "base_uri": "https://localhost:8080/",
     "height": 255
    },
    "colab_type": "code",
    "executionInfo": {
     "elapsed": 641,
     "status": "ok",
     "timestamp": 1576857703930,
     "user": {
      "displayName": "ta ku",
      "photoUrl": "https://lh3.googleusercontent.com/a-/AAuE7mDW1GwUN8_s-mnB8Ci6mbpeOP9SpQo6o5Csf0rphQ=s64",
      "userId": "14345004097153540112"
     },
     "user_tz": -540
    },
    "id": "gwWx_0emsdGP",
    "outputId": "97ce5416-4941-40ee-9820-08046e92938e"
   },
   "outputs": [
    {
     "name": "stdout",
     "output_type": "stream",
     "text": [
      "          date   money number_race racer_1_ID  racer_1_age  racer_1_ave_st  racer_1_bo  racer_1_doub racer_1_male  racer_1_mo  ... racer_5_rank racer_6_ID  racer_6_age  racer_6_ave_st  racer_6_bo  \\\n",
      "    2012-04-09  4410.0           1       3006         55.0            0.20        78.0         0.171            1        65.0  ...            2       4597         28.0            0.18        27.0   \n",
      "    2012-04-09  3050.0           2       2223         68.0            0.22        33.0         0.144            1        60.0  ...            1       4665         29.0            0.16        68.0   \n",
      "    2012-04-09   980.0           3       3536         46.0            0.17         8.0         0.391            1        75.0  ...            3       4649         28.0            0.21        37.0   \n",
      "    2012-04-09  2080.0           4       3633         42.0            0.18        24.0         0.113            1        40.0  ...            2       3689         42.0            0.24        52.0   \n",
      "    2012-04-09  1060.0           5       3619         39.0            0.20        38.0         0.328            1        15.0  ...            4       4090         32.0            0.13         3.0   \n",
      "..         ...     ...         ...        ...          ...             ...         ...           ...          ...         ...  ...          ...        ...          ...             ...         ...   \n",
      "    2020-03-25   510.0           8       3963         41.0            0.15        13.0         0.456            1        62.0  ...            2       4211         37.0            0.17        64.0   \n",
      "    2020-03-25  2340.0           9       4441         34.0            0.13        34.0         0.419            1        58.0  ...            2       4100         41.0            0.18        11.0   \n",
      "    2020-03-25  1940.0          10       4391         34.0            0.14        12.0         0.536            1        65.0  ...            3       4126         41.0            0.16        38.0   \n",
      "    2020-03-25  1930.0          11       4247         38.0            0.16        69.0         0.333            1        57.0  ...            3       3800         46.0            0.15        54.0   \n",
      "    2020-03-25  2590.0          12       4760         31.0            0.13        62.0         0.447            1        32.0  ...            3       3562         51.0            0.18        53.0   \n",
      "\n",
      "    racer_6_doub racer_6_male  racer_6_mo racer_6_rank result_com  \n",
      "           0.012            1        57.0            1         66  \n",
      "           0.041            1        68.0            1         26  \n",
      "           0.100            1        38.0            2         22  \n",
      "           0.175            1        23.0            2         29  \n",
      "           0.494            1        81.0            4         56  \n",
      "..           ...          ...         ...          ...        ...  \n",
      "           0.230            1        13.0            2          5  \n",
      "           0.376            1        30.0            2          9  \n",
      "           0.208            1        60.0            2          3  \n",
      "           0.428            1        61.0            4         21  \n",
      "           0.448            1        79.0            3         10  \n",
      "\n",
      "[18520 rows x 52 columns]\n"
     ]
    }
   ],
   "source": [
    "print(train_data_df)\n",
    "#print(series)"
   ]
  },
  {
   "cell_type": "code",
   "execution_count": 4,
   "metadata": {
    "colab": {},
    "colab_type": "code",
    "id": "g6aRIHIRsx-M"
   },
   "outputs": [
    {
     "name": "stdout",
     "output_type": "stream",
     "text": [
      "20\n"
     ]
    }
   ],
   "source": [
    "print(year)"
   ]
  },
  {
   "cell_type": "code",
   "execution_count": null,
   "metadata": {},
   "outputs": [],
   "source": []
  }
 ],
 "metadata": {
  "accelerator": "GPU",
  "colab": {
   "collapsed_sections": [],
   "name": "join_tool.ipynb",
   "provenance": []
  },
  "kernelspec": {
   "display_name": "Python 3",
   "language": "python",
   "name": "python3"
  },
  "language_info": {
   "codemirror_mode": {
    "name": "ipython",
    "version": 3
   },
   "file_extension": ".py",
   "mimetype": "text/x-python",
   "name": "python",
   "nbconvert_exporter": "python",
   "pygments_lexer": "ipython3",
   "version": "3.7.4"
  }
 },
 "nbformat": 4,
 "nbformat_minor": 1
}
