{
 "cells": [
  {
   "cell_type": "markdown",
   "metadata": {},
   "source": [
    "# dateや季節のデータを持ったデータを取得したのでそれに合わせて\n",
    "# ダミー変換に手を加えたトレインデータ作成\n",
    "#### ゴール:従来のトレーンデータに月、大会の日数、大会の何日目か、季節の情報をダミー化して追加したカラムの作成"
   ]
  },
  {
   "cell_type": "code",
   "execution_count": 1,
   "metadata": {},
   "outputs": [],
   "source": [
    "import pandas as pd\n",
    "import numpy as np\n",
    "from sklearn.metrics import accuracy_score\n",
    "from sklearn.model_selection import cross_val_score\n",
    "from matplotlib import pyplot as plt\n",
    "import seaborn\n",
    "from pandas import DataFrame\n",
    "from tqdm import tqdm\n",
    "from imblearn.under_sampling import RandomUnderSampler #アンダーサンプリング用\n",
    "import pickle\n",
    "# 機械学習用\n",
    "from sklearn.cluster import KMeans #クラスタリング用\n",
    "from sklearn.ensemble import RandomForestClassifier#ランダムフォレスト\n",
    "from copy import deepcopy as cp\n",
    "from sklearn.linear_model import LogisticRegression\n",
    "from sklearn.ensemble import AdaBoostClassifier\n",
    "import lightgbm as lgb\n",
    "from sklearn.linear_model import LogisticRegression as LR\n",
    "\n",
    "pd.set_option('display.width',400)#勝手に改行コードを入れられるのを防ぐ"
   ]
  },
  {
   "cell_type": "markdown",
   "metadata": {},
   "source": [
    "### 前処理"
   ]
  },
  {
   "cell_type": "code",
   "execution_count": 30,
   "metadata": {},
   "outputs": [],
   "source": [
    "def make_PCA_df(PCA_arr):#PCAで削減したものは二次元配列で帰ってくるので、それをデータフレームにして返す関数\n",
    "    X=[0]*len(PCA_arr)\n",
    "    Y=[0]*len(PCA_arr)\n",
    "    index=0\n",
    "    for arr in PCA_arr:\n",
    "        X[index]=arr[0]\n",
    "        Y[index]=arr[1]\n",
    "        index+=1\n",
    "    return pd.DataFrame({'X':X,'Y':Y})\n",
    "\n",
    "def making_pred_df(df):#配当金、着の情報は切りぬかなくてもうまいことやってくれる。\n",
    "    pred_race_df=df\n",
    "    #pred_race_df=pred_race_df.drop([\"Unnamed: 0\"],axis=1)#csvファイルについている名無しの列を削除\n",
    "    result_df=pred_race_df\n",
    "    result_df=result_df.drop([\"racer_1_ID\",\"racer_2_ID\",\"racer_3_ID\",\"racer_4_ID\",\"racer_5_ID\",\"racer_6_ID\",],axis=1)#IDはいらないので削除\n",
    "    result_df=result_df.replace(0.0000,{\"racer_1_ave_st_time\":0.22})#新人のave_st_timeを0.22に\n",
    "    result_df=result_df.replace(0.0000,{\"racer_2_ave_st_time\":0.22})\n",
    "    result_df=result_df.replace(0.0000,{\"racer_3_ave_st_time\":0.22})\n",
    "    result_df=result_df.replace(0.0000,{\"racer_4_ave_st_time\":0.22})\n",
    "    result_df=result_df.replace(0.0000,{\"racer_5_ave_st_time\":0.22})\n",
    "    result_df=result_df.replace(0.0000,{\"racer_6_ave_st_time\":0.22})\n",
    "    result_df=result_df.replace(0.0000,{\"racer_1_doub_win\":0.02})#新人の着に絡む確率ave_st_timeを0.02に(新人の半期の偏差から導出)\n",
    "    result_df=result_df.replace(0.0000,{\"racer_2_doub_win\":0.02})\n",
    "    result_df=result_df.replace(0.0000,{\"racer_3_doub_win\":0.02})\n",
    "    result_df=result_df.replace(0.0000,{\"racer_4_doub_win\":0.02})\n",
    "    result_df=result_df.replace(0.0000,{\"racer_5_doub_win\":0.02})\n",
    "    result_df=result_df.replace(0.0000,{\"racer_6_doub_win\":0.02})\n",
    "    #配当金と結果の情報を横によけておく。(仮のデータフレームに格納する）=========================================================\n",
    "    #クラスタリングに使わないカラムを取り除く\n",
    "    drop_col_names=['result_com','money']\n",
    "    train_drops_df=pd.DataFrame(columns=drop_col_names)\n",
    "    train_drops_df['result_com']=result_df['result_com']\n",
    "    train_drops_df['money']=result_df['money']\n",
    "    result_df=result_df.drop(drop_col_names,axis=1)\n",
    "    #==============================================================================================================================\n",
    "    #ダミー変数化\n",
    "    #月をダミー化\n",
    "    empty_arr=[0]*len(result_df)\n",
    "    for number in np.arange(1,13,1):\n",
    "        result_df['month_{}'.format(int(number))]=empty_arr\n",
    "    dummie_df=pd.get_dummies(result_df['month'])#月をダミー化\n",
    "    for column, val in dummie_df.iteritems():\n",
    "        result_df['month_{}'.format(int(column))]=val\n",
    "\n",
    "        \n",
    "    #季節のダミー化   \n",
    "    empty_arr=[0]*len(result_df)\n",
    "    seasons=['sp','su','au','wi']\n",
    "    for season in seasons:\n",
    "        result_df['{}'.format(number)]=empty_arr\n",
    "    dummie_df=pd.get_dummies(result_df['season'])#季節をダミー化\n",
    "    for column, val in dummie_df.iteritems():\n",
    "        result_df['{}'.format(column)]=val\n",
    "\n",
    "\n",
    "    #開催日数のダミー化\n",
    "    empty_arr=[0]*len(result_df)\n",
    "    ranges=[1,2,3,4,5,6,7]#年末がおかしくなるっぽいから、一応からむだけ作っておく　\n",
    "    for number in ranges:\n",
    "        result_df['range_{}'.format(int(number))]=empty_arr\n",
    "    dummie_df=pd.get_dummies(result_df['range_date'])#開催日数をダミー化\n",
    "    for column, val in dummie_df.iteritems():\n",
    "        result_df['range_{}'.format(int(column))]=val\n",
    "        \n",
    "    #開催日数のうちの何日目かのダミー化\n",
    "    empty_arr=[0]*len(result_df)\n",
    "    num_dates=[1,2,3,4,5,6,7]\n",
    "    for number in num_dates:\n",
    "        result_df['num_date_{}'.format(int(number))]=empty_arr\n",
    "    dummie_df=pd.get_dummies(result_df['num_date'])#開催日数をダミー化\n",
    "    for column, val in dummie_df.iteritems():\n",
    "        result_df['num_date_{}'.format(int(column))]=val\n",
    "        \n",
    "    result_df=result_df.drop(['month','season','range_date','num_date'],axis=1)#ダミー化し終わったカラムは削除する\n",
    "    #レース番号のダミー化===============================================\n",
    "    result_df_dummie=result_df\n",
    "    race_dummie_df=pd.get_dummies(result_df_dummie['number_race'])#number_raceをダミー化\n",
    "    for column, val in race_dummie_df.iteritems():\n",
    "        result_df_dummie['race_{}'.format(int(column))]=val\n",
    "    result_df_dummie=result_df_dummie.drop('number_race',axis=1)    \n",
    "    #===========================新規、性別の取り出し機能が良くなかったため作り直す\n",
    "    cols=list(result_df_dummie.columns)\n",
    "    male_cols=[s for s in cols if 'male' in s]#性別を示すカラムを取り出す\n",
    "    empty_arr=[0]*len(result_df_dummie)\n",
    "    for col in male_cols:\n",
    "        for number in np.arange(0,2,1):\n",
    "              result_df_dummie['{}_{}'.format(col,int(number))]=empty_arr\n",
    "        male_dummie_df=pd.get_dummies(result_df_dummie[col])#性別をダミー化\n",
    "        for column, val in male_dummie_df.iteritems():\n",
    "              result_df_dummie['{}_{}'.format(col,int(column))]=val\n",
    "        result_df_dummie=result_df_dummie.drop('{}'.format(col),axis=1)\n",
    "\n",
    "    cols=list(result_df_dummie.columns)\n",
    "    moter_cols=[s for s in cols if '_mo' in s]#モーター番号を示すカラムを取り出す\n",
    "    boat_cols=[s for s in cols if '_bo' in s]#ボート番号を示すカラムを取り出す\n",
    "    #boat もmoterも番号は1~99とする\n",
    "    numbers=np.arange(1, 100, 1)\n",
    "    empty_arr=[0]*len(result_df_dummie)\n",
    "    for col in moter_cols:\n",
    "        for number in numbers:\n",
    "              result_df_dummie['{}_{}'.format(col,int(number))]=empty_arr\n",
    "        moter_dummie_df=pd.get_dummies(result_df_dummie[col])#モータ番号をダミー化\n",
    "        for column, val in moter_dummie_df.iteritems():\n",
    "              result_df_dummie['{}_{}'.format(col,int(column))]=val\n",
    "        result_df_dummie=result_df_dummie.drop('{}'.format(col),axis=1)\n",
    "\n",
    "    #boat番号をダミー化\n",
    "    for col in boat_cols:\n",
    "        for number in numbers:\n",
    "              result_df_dummie['{}_{}'.format(col,int(number))]=empty_arr\n",
    "        boat_dummie_df=pd.get_dummies(result_df_dummie[col])#boat番号をダミー化\n",
    "        for column, val in boat_dummie_df.iteritems():\n",
    "              result_df_dummie['{}_{}'.format(col,int(column))]=val\n",
    "        result_df_dummie=result_df_dummie.drop('{}'.format(col),axis=1)\n",
    "    result_df=result_df_dummie\n",
    "\n",
    "\n",
    "\n",
    "    #クラスタリング\n",
    "    #分けてみるクラスタの数は[8,10]の2個\n",
    "    #cluster_target_df　　trainのデータからリザルトと配当金を取り除いたもの\n",
    "    target_num_cluster=[8,10]\n",
    "    #test_clustaring_df=train_has_PCA_df\n",
    "    clustar_target_df=result_df\n",
    "    clustaring_df=clustar_target_df\n",
    "    for num_cluster in target_num_cluster:\n",
    "        pred = KMeans(random_state=1,n_clusters=num_cluster).fit_predict(clustar_target_df)\n",
    "        clustaring_df['num={}'.format(num_cluster)]=pred\n",
    "\n",
    "    clustaring_df['result_com']=train_drops_df['result_com']#正解ラベルを戻してあげる\n",
    "    clustaring_df['money']=train_drops_df['money']#配当金を戻してあげる\n",
    "    model_df=clustaring_df\n",
    "\n",
    "    return model_df"
   ]
  },
  {
   "cell_type": "code",
   "execution_count": 48,
   "metadata": {},
   "outputs": [
    {
     "data": {
      "text/plain": [
       "0         1160.0\n",
       "1         2960.0\n",
       "2        21490.0\n",
       "3         5100.0\n",
       "4         1980.0\n",
       "          ...   \n",
       "15166    15230.0\n",
       "15167     1350.0\n",
       "15168      640.0\n",
       "15169     5160.0\n",
       "15170     1310.0\n",
       "Name: money, Length: 15171, dtype: float64"
      ]
     },
     "execution_count": 48,
     "metadata": {},
     "output_type": "execute_result"
    }
   ],
   "source": [
    "place='tokuyama'\n",
    "\n",
    "result_df=pd.read_csv('../csv/train_{}_date.csv'.format(place),encoding='utf-8')\n",
    "result_df=result_df.drop([\"Unnamed: 0\"],axis=1)\n",
    "\n",
    "result_df=result_df.drop(['date','day'],axis=1)#現状使わないカラムは削除する\n",
    "\n",
    "date_cols=['year','month','num_date','range_date','season']\n",
    "date_df=pd.DataFrame(index=result_df.index)\n",
    "for col in date_cols:\n",
    "    date_df[col]=result_df[col]\n",
    "result_df=result_df.drop('year',axis=1)#yearカラムはデータの切り抜きで使うが学習では使わないがので削除（関数内でdropされないから）\n",
    "#result_df=result_df.drop(col,axis=1)\n",
    "#money_col=result_df['money']\n",
    "#result_df=result_df.drop('money',axis=1)#配当金情報の削除\n",
    "#result_col=result_df['result_com']\n",
    "#result_df=result_df.drop('result_com',axis=1)#着の組み合わせ\n",
    "result_df=making_pred_df(result_df)#モデルに突っ込むだけの状態に加工（新人選手の情報、欠損地加工とダミー化）\n",
    "result_df.to_csv('train_df.csv')\n",
    "df=result_df\n",
    "### 学習データのベースを作成(validとtrainに分割)\n",
    "#学習、テストデータ切り分け(2019,2020のデータを検証用データに、ほかは学習)\n",
    "df['year']=date_df['year']\n",
    "valid_df = df[(df['year']==2019) | ((df['year']==2020) )]#2019,2020のデータを検証用データに。\n",
    "train_df =  df[(df['year']!=2019) & ((df['year']!=2020) )]#そのほかを学習データに\n",
    "#学習データを切り分けたらyearはいらないから削除する\n",
    "valid_df=valid_df.drop(['year'],axis=1)\n",
    "train_df=train_df.drop(['year'],axis=1)\n",
    "\n",
    "train_money=pd.Series(train_df['money'])\n",
    "valid_money=pd.Series(valid_df['money'])\n",
    "valid_total_df=valid_df.copy()#あとで分析用に全部のまとめ先のDf\n",
    "train_total_df=train_df.copy()#あとで分析用に全部のまとめ先のDf\n"
   ]
  },
  {
   "cell_type": "code",
   "execution_count": 46,
   "metadata": {},
   "outputs": [
    {
     "data": {
      "text/html": [
       "<div>\n",
       "<style scoped>\n",
       "    .dataframe tbody tr th:only-of-type {\n",
       "        vertical-align: middle;\n",
       "    }\n",
       "\n",
       "    .dataframe tbody tr th {\n",
       "        vertical-align: top;\n",
       "    }\n",
       "\n",
       "    .dataframe thead th {\n",
       "        text-align: right;\n",
       "    }\n",
       "</style>\n",
       "<table border=\"1\" class=\"dataframe\">\n",
       "  <thead>\n",
       "    <tr style=\"text-align: right;\">\n",
       "      <th></th>\n",
       "      <th>racer_1_age</th>\n",
       "      <th>racer_1_ave_st</th>\n",
       "      <th>racer_1_doub</th>\n",
       "      <th>racer_1_rank</th>\n",
       "      <th>racer_2_age</th>\n",
       "      <th>racer_2_ave_st</th>\n",
       "      <th>racer_2_doub</th>\n",
       "      <th>racer_2_rank</th>\n",
       "      <th>racer_3_age</th>\n",
       "      <th>racer_3_ave_st</th>\n",
       "      <th>...</th>\n",
       "      <th>racer_6_bo_95</th>\n",
       "      <th>racer_6_bo_96</th>\n",
       "      <th>racer_6_bo_97</th>\n",
       "      <th>racer_6_bo_98</th>\n",
       "      <th>racer_6_bo_99</th>\n",
       "      <th>num=8</th>\n",
       "      <th>num=10</th>\n",
       "      <th>result_com</th>\n",
       "      <th>money</th>\n",
       "      <th>year</th>\n",
       "    </tr>\n",
       "  </thead>\n",
       "  <tbody>\n",
       "    <tr>\n",
       "      <th>15171</th>\n",
       "      <td>31.0</td>\n",
       "      <td>0.16</td>\n",
       "      <td>0.453</td>\n",
       "      <td>4</td>\n",
       "      <td>27.0</td>\n",
       "      <td>0.16</td>\n",
       "      <td>0.170</td>\n",
       "      <td>1</td>\n",
       "      <td>51.0</td>\n",
       "      <td>0.20</td>\n",
       "      <td>...</td>\n",
       "      <td>0</td>\n",
       "      <td>0</td>\n",
       "      <td>0</td>\n",
       "      <td>0</td>\n",
       "      <td>0</td>\n",
       "      <td>7</td>\n",
       "      <td>3</td>\n",
       "      <td>7</td>\n",
       "      <td>5780.0</td>\n",
       "      <td>2019</td>\n",
       "    </tr>\n",
       "    <tr>\n",
       "      <th>15172</th>\n",
       "      <td>52.0</td>\n",
       "      <td>0.18</td>\n",
       "      <td>0.328</td>\n",
       "      <td>3</td>\n",
       "      <td>34.0</td>\n",
       "      <td>0.21</td>\n",
       "      <td>0.121</td>\n",
       "      <td>1</td>\n",
       "      <td>23.0</td>\n",
       "      <td>0.12</td>\n",
       "      <td>...</td>\n",
       "      <td>0</td>\n",
       "      <td>0</td>\n",
       "      <td>0</td>\n",
       "      <td>0</td>\n",
       "      <td>0</td>\n",
       "      <td>0</td>\n",
       "      <td>8</td>\n",
       "      <td>5</td>\n",
       "      <td>790.0</td>\n",
       "      <td>2019</td>\n",
       "    </tr>\n",
       "    <tr>\n",
       "      <th>15173</th>\n",
       "      <td>38.0</td>\n",
       "      <td>0.16</td>\n",
       "      <td>0.525</td>\n",
       "      <td>4</td>\n",
       "      <td>57.0</td>\n",
       "      <td>0.22</td>\n",
       "      <td>0.078</td>\n",
       "      <td>2</td>\n",
       "      <td>34.0</td>\n",
       "      <td>0.16</td>\n",
       "      <td>...</td>\n",
       "      <td>0</td>\n",
       "      <td>0</td>\n",
       "      <td>0</td>\n",
       "      <td>0</td>\n",
       "      <td>0</td>\n",
       "      <td>6</td>\n",
       "      <td>7</td>\n",
       "      <td>6</td>\n",
       "      <td>390.0</td>\n",
       "      <td>2019</td>\n",
       "    </tr>\n",
       "    <tr>\n",
       "      <th>15174</th>\n",
       "      <td>31.0</td>\n",
       "      <td>0.19</td>\n",
       "      <td>0.344</td>\n",
       "      <td>3</td>\n",
       "      <td>38.0</td>\n",
       "      <td>0.18</td>\n",
       "      <td>0.450</td>\n",
       "      <td>4</td>\n",
       "      <td>34.0</td>\n",
       "      <td>0.20</td>\n",
       "      <td>...</td>\n",
       "      <td>0</td>\n",
       "      <td>0</td>\n",
       "      <td>0</td>\n",
       "      <td>0</td>\n",
       "      <td>0</td>\n",
       "      <td>3</td>\n",
       "      <td>9</td>\n",
       "      <td>31</td>\n",
       "      <td>3060.0</td>\n",
       "      <td>2019</td>\n",
       "    </tr>\n",
       "    <tr>\n",
       "      <th>15175</th>\n",
       "      <td>32.0</td>\n",
       "      <td>0.20</td>\n",
       "      <td>0.245</td>\n",
       "      <td>2</td>\n",
       "      <td>47.0</td>\n",
       "      <td>0.15</td>\n",
       "      <td>0.388</td>\n",
       "      <td>3</td>\n",
       "      <td>32.0</td>\n",
       "      <td>0.17</td>\n",
       "      <td>...</td>\n",
       "      <td>0</td>\n",
       "      <td>0</td>\n",
       "      <td>0</td>\n",
       "      <td>0</td>\n",
       "      <td>0</td>\n",
       "      <td>3</td>\n",
       "      <td>9</td>\n",
       "      <td>1</td>\n",
       "      <td>1360.0</td>\n",
       "      <td>2019</td>\n",
       "    </tr>\n",
       "    <tr>\n",
       "      <th>...</th>\n",
       "      <td>...</td>\n",
       "      <td>...</td>\n",
       "      <td>...</td>\n",
       "      <td>...</td>\n",
       "      <td>...</td>\n",
       "      <td>...</td>\n",
       "      <td>...</td>\n",
       "      <td>...</td>\n",
       "      <td>...</td>\n",
       "      <td>...</td>\n",
       "      <td>...</td>\n",
       "      <td>...</td>\n",
       "      <td>...</td>\n",
       "      <td>...</td>\n",
       "      <td>...</td>\n",
       "      <td>...</td>\n",
       "      <td>...</td>\n",
       "      <td>...</td>\n",
       "      <td>...</td>\n",
       "      <td>...</td>\n",
       "      <td>...</td>\n",
       "    </tr>\n",
       "    <tr>\n",
       "      <th>19337</th>\n",
       "      <td>51.0</td>\n",
       "      <td>0.19</td>\n",
       "      <td>0.156</td>\n",
       "      <td>2</td>\n",
       "      <td>42.0</td>\n",
       "      <td>0.13</td>\n",
       "      <td>0.508</td>\n",
       "      <td>4</td>\n",
       "      <td>44.0</td>\n",
       "      <td>0.17</td>\n",
       "      <td>...</td>\n",
       "      <td>0</td>\n",
       "      <td>0</td>\n",
       "      <td>0</td>\n",
       "      <td>0</td>\n",
       "      <td>0</td>\n",
       "      <td>2</td>\n",
       "      <td>0</td>\n",
       "      <td>83</td>\n",
       "      <td>54960.0</td>\n",
       "      <td>2020</td>\n",
       "    </tr>\n",
       "    <tr>\n",
       "      <th>19338</th>\n",
       "      <td>44.0</td>\n",
       "      <td>0.17</td>\n",
       "      <td>0.426</td>\n",
       "      <td>3</td>\n",
       "      <td>33.0</td>\n",
       "      <td>0.15</td>\n",
       "      <td>0.308</td>\n",
       "      <td>2</td>\n",
       "      <td>49.0</td>\n",
       "      <td>0.16</td>\n",
       "      <td>...</td>\n",
       "      <td>0</td>\n",
       "      <td>0</td>\n",
       "      <td>0</td>\n",
       "      <td>0</td>\n",
       "      <td>0</td>\n",
       "      <td>2</td>\n",
       "      <td>0</td>\n",
       "      <td>14</td>\n",
       "      <td>650.0</td>\n",
       "      <td>2020</td>\n",
       "    </tr>\n",
       "    <tr>\n",
       "      <th>19339</th>\n",
       "      <td>47.0</td>\n",
       "      <td>0.18</td>\n",
       "      <td>0.464</td>\n",
       "      <td>4</td>\n",
       "      <td>25.0</td>\n",
       "      <td>0.14</td>\n",
       "      <td>0.271</td>\n",
       "      <td>2</td>\n",
       "      <td>31.0</td>\n",
       "      <td>0.16</td>\n",
       "      <td>...</td>\n",
       "      <td>0</td>\n",
       "      <td>0</td>\n",
       "      <td>0</td>\n",
       "      <td>0</td>\n",
       "      <td>0</td>\n",
       "      <td>0</td>\n",
       "      <td>8</td>\n",
       "      <td>10</td>\n",
       "      <td>3930.0</td>\n",
       "      <td>2020</td>\n",
       "    </tr>\n",
       "    <tr>\n",
       "      <th>19340</th>\n",
       "      <td>46.0</td>\n",
       "      <td>0.17</td>\n",
       "      <td>0.247</td>\n",
       "      <td>2</td>\n",
       "      <td>33.0</td>\n",
       "      <td>0.15</td>\n",
       "      <td>0.510</td>\n",
       "      <td>4</td>\n",
       "      <td>42.0</td>\n",
       "      <td>0.13</td>\n",
       "      <td>...</td>\n",
       "      <td>0</td>\n",
       "      <td>0</td>\n",
       "      <td>0</td>\n",
       "      <td>0</td>\n",
       "      <td>0</td>\n",
       "      <td>4</td>\n",
       "      <td>4</td>\n",
       "      <td>25</td>\n",
       "      <td>1430.0</td>\n",
       "      <td>2020</td>\n",
       "    </tr>\n",
       "    <tr>\n",
       "      <th>19341</th>\n",
       "      <td>46.0</td>\n",
       "      <td>0.13</td>\n",
       "      <td>0.359</td>\n",
       "      <td>3</td>\n",
       "      <td>39.0</td>\n",
       "      <td>0.17</td>\n",
       "      <td>0.355</td>\n",
       "      <td>2</td>\n",
       "      <td>46.0</td>\n",
       "      <td>0.15</td>\n",
       "      <td>...</td>\n",
       "      <td>0</td>\n",
       "      <td>0</td>\n",
       "      <td>0</td>\n",
       "      <td>0</td>\n",
       "      <td>0</td>\n",
       "      <td>2</td>\n",
       "      <td>0</td>\n",
       "      <td>21</td>\n",
       "      <td>2800.0</td>\n",
       "      <td>2020</td>\n",
       "    </tr>\n",
       "  </tbody>\n",
       "</table>\n",
       "<p>4171 rows × 1272 columns</p>\n",
       "</div>"
      ],
      "text/plain": [
       "       racer_1_age  racer_1_ave_st  racer_1_doub  racer_1_rank  racer_2_age  racer_2_ave_st  racer_2_doub  racer_2_rank  racer_3_age  racer_3_ave_st  ...  racer_6_bo_95  racer_6_bo_96  racer_6_bo_97  racer_6_bo_98  racer_6_bo_99  num=8  num=10  result_com    money  year\n",
       "15171         31.0            0.16         0.453             4         27.0            0.16         0.170             1         51.0            0.20  ...              0              0              0              0              0      7       3           7   5780.0  2019\n",
       "15172         52.0            0.18         0.328             3         34.0            0.21         0.121             1         23.0            0.12  ...              0              0              0              0              0      0       8           5    790.0  2019\n",
       "15173         38.0            0.16         0.525             4         57.0            0.22         0.078             2         34.0            0.16  ...              0              0              0              0              0      6       7           6    390.0  2019\n",
       "15174         31.0            0.19         0.344             3         38.0            0.18         0.450             4         34.0            0.20  ...              0              0              0              0              0      3       9          31   3060.0  2019\n",
       "15175         32.0            0.20         0.245             2         47.0            0.15         0.388             3         32.0            0.17  ...              0              0              0              0              0      3       9           1   1360.0  2019\n",
       "...            ...             ...           ...           ...          ...             ...           ...           ...          ...             ...  ...            ...            ...            ...            ...            ...    ...     ...         ...      ...   ...\n",
       "19337         51.0            0.19         0.156             2         42.0            0.13         0.508             4         44.0            0.17  ...              0              0              0              0              0      2       0          83  54960.0  2020\n",
       "19338         44.0            0.17         0.426             3         33.0            0.15         0.308             2         49.0            0.16  ...              0              0              0              0              0      2       0          14    650.0  2020\n",
       "19339         47.0            0.18         0.464             4         25.0            0.14         0.271             2         31.0            0.16  ...              0              0              0              0              0      0       8          10   3930.0  2020\n",
       "19340         46.0            0.17         0.247             2         33.0            0.15         0.510             4         42.0            0.13  ...              0              0              0              0              0      4       4          25   1430.0  2020\n",
       "19341         46.0            0.13         0.359             3         39.0            0.17         0.355             2         46.0            0.15  ...              0              0              0              0              0      2       0          21   2800.0  2020\n",
       "\n",
       "[4171 rows x 1272 columns]"
      ]
     },
     "execution_count": 46,
     "metadata": {},
     "output_type": "execute_result"
    }
   ],
   "source": [
    "valid_df\n"
   ]
  },
  {
   "cell_type": "code",
   "execution_count": 47,
   "metadata": {},
   "outputs": [
    {
     "data": {
      "text/html": [
       "<div>\n",
       "<style scoped>\n",
       "    .dataframe tbody tr th:only-of-type {\n",
       "        vertical-align: middle;\n",
       "    }\n",
       "\n",
       "    .dataframe tbody tr th {\n",
       "        vertical-align: top;\n",
       "    }\n",
       "\n",
       "    .dataframe thead th {\n",
       "        text-align: right;\n",
       "    }\n",
       "</style>\n",
       "<table border=\"1\" class=\"dataframe\">\n",
       "  <thead>\n",
       "    <tr style=\"text-align: right;\">\n",
       "      <th></th>\n",
       "      <th>racer_1_age</th>\n",
       "      <th>racer_1_ave_st</th>\n",
       "      <th>racer_1_doub</th>\n",
       "      <th>racer_1_rank</th>\n",
       "      <th>racer_2_age</th>\n",
       "      <th>racer_2_ave_st</th>\n",
       "      <th>racer_2_doub</th>\n",
       "      <th>racer_2_rank</th>\n",
       "      <th>racer_3_age</th>\n",
       "      <th>racer_3_ave_st</th>\n",
       "      <th>...</th>\n",
       "      <th>racer_6_bo_95</th>\n",
       "      <th>racer_6_bo_96</th>\n",
       "      <th>racer_6_bo_97</th>\n",
       "      <th>racer_6_bo_98</th>\n",
       "      <th>racer_6_bo_99</th>\n",
       "      <th>num=8</th>\n",
       "      <th>num=10</th>\n",
       "      <th>result_com</th>\n",
       "      <th>money</th>\n",
       "      <th>year</th>\n",
       "    </tr>\n",
       "  </thead>\n",
       "  <tbody>\n",
       "    <tr>\n",
       "      <th>0</th>\n",
       "      <td>35.0</td>\n",
       "      <td>0.14</td>\n",
       "      <td>0.541</td>\n",
       "      <td>4</td>\n",
       "      <td>40.0</td>\n",
       "      <td>0.19</td>\n",
       "      <td>0.287</td>\n",
       "      <td>2</td>\n",
       "      <td>30.0</td>\n",
       "      <td>0.19</td>\n",
       "      <td>...</td>\n",
       "      <td>0</td>\n",
       "      <td>0</td>\n",
       "      <td>0</td>\n",
       "      <td>0</td>\n",
       "      <td>0</td>\n",
       "      <td>3</td>\n",
       "      <td>9</td>\n",
       "      <td>6</td>\n",
       "      <td>1160.0</td>\n",
       "      <td>2012</td>\n",
       "    </tr>\n",
       "    <tr>\n",
       "      <th>1</th>\n",
       "      <td>46.0</td>\n",
       "      <td>0.18</td>\n",
       "      <td>0.450</td>\n",
       "      <td>4</td>\n",
       "      <td>27.0</td>\n",
       "      <td>0.18</td>\n",
       "      <td>0.301</td>\n",
       "      <td>2</td>\n",
       "      <td>31.0</td>\n",
       "      <td>0.15</td>\n",
       "      <td>...</td>\n",
       "      <td>0</td>\n",
       "      <td>0</td>\n",
       "      <td>0</td>\n",
       "      <td>0</td>\n",
       "      <td>0</td>\n",
       "      <td>0</td>\n",
       "      <td>8</td>\n",
       "      <td>3</td>\n",
       "      <td>2960.0</td>\n",
       "      <td>2012</td>\n",
       "    </tr>\n",
       "    <tr>\n",
       "      <th>2</th>\n",
       "      <td>43.0</td>\n",
       "      <td>0.16</td>\n",
       "      <td>0.480</td>\n",
       "      <td>3</td>\n",
       "      <td>35.0</td>\n",
       "      <td>0.21</td>\n",
       "      <td>0.255</td>\n",
       "      <td>2</td>\n",
       "      <td>42.0</td>\n",
       "      <td>0.17</td>\n",
       "      <td>...</td>\n",
       "      <td>0</td>\n",
       "      <td>0</td>\n",
       "      <td>0</td>\n",
       "      <td>0</td>\n",
       "      <td>0</td>\n",
       "      <td>1</td>\n",
       "      <td>1</td>\n",
       "      <td>44</td>\n",
       "      <td>21490.0</td>\n",
       "      <td>2012</td>\n",
       "    </tr>\n",
       "    <tr>\n",
       "      <th>3</th>\n",
       "      <td>27.0</td>\n",
       "      <td>0.17</td>\n",
       "      <td>0.506</td>\n",
       "      <td>4</td>\n",
       "      <td>38.0</td>\n",
       "      <td>0.20</td>\n",
       "      <td>0.188</td>\n",
       "      <td>2</td>\n",
       "      <td>41.0</td>\n",
       "      <td>0.17</td>\n",
       "      <td>...</td>\n",
       "      <td>0</td>\n",
       "      <td>0</td>\n",
       "      <td>0</td>\n",
       "      <td>0</td>\n",
       "      <td>0</td>\n",
       "      <td>3</td>\n",
       "      <td>9</td>\n",
       "      <td>62</td>\n",
       "      <td>5100.0</td>\n",
       "      <td>2012</td>\n",
       "    </tr>\n",
       "    <tr>\n",
       "      <th>4</th>\n",
       "      <td>32.0</td>\n",
       "      <td>0.21</td>\n",
       "      <td>0.439</td>\n",
       "      <td>3</td>\n",
       "      <td>25.0</td>\n",
       "      <td>0.17</td>\n",
       "      <td>0.536</td>\n",
       "      <td>4</td>\n",
       "      <td>45.0</td>\n",
       "      <td>0.16</td>\n",
       "      <td>...</td>\n",
       "      <td>0</td>\n",
       "      <td>0</td>\n",
       "      <td>0</td>\n",
       "      <td>0</td>\n",
       "      <td>0</td>\n",
       "      <td>0</td>\n",
       "      <td>8</td>\n",
       "      <td>25</td>\n",
       "      <td>1980.0</td>\n",
       "      <td>2012</td>\n",
       "    </tr>\n",
       "    <tr>\n",
       "      <th>...</th>\n",
       "      <td>...</td>\n",
       "      <td>...</td>\n",
       "      <td>...</td>\n",
       "      <td>...</td>\n",
       "      <td>...</td>\n",
       "      <td>...</td>\n",
       "      <td>...</td>\n",
       "      <td>...</td>\n",
       "      <td>...</td>\n",
       "      <td>...</td>\n",
       "      <td>...</td>\n",
       "      <td>...</td>\n",
       "      <td>...</td>\n",
       "      <td>...</td>\n",
       "      <td>...</td>\n",
       "      <td>...</td>\n",
       "      <td>...</td>\n",
       "      <td>...</td>\n",
       "      <td>...</td>\n",
       "      <td>...</td>\n",
       "      <td>...</td>\n",
       "    </tr>\n",
       "    <tr>\n",
       "      <th>15166</th>\n",
       "      <td>37.0</td>\n",
       "      <td>0.15</td>\n",
       "      <td>0.142</td>\n",
       "      <td>2</td>\n",
       "      <td>27.0</td>\n",
       "      <td>0.17</td>\n",
       "      <td>0.069</td>\n",
       "      <td>2</td>\n",
       "      <td>45.0</td>\n",
       "      <td>0.17</td>\n",
       "      <td>...</td>\n",
       "      <td>0</td>\n",
       "      <td>0</td>\n",
       "      <td>0</td>\n",
       "      <td>0</td>\n",
       "      <td>0</td>\n",
       "      <td>1</td>\n",
       "      <td>1</td>\n",
       "      <td>16</td>\n",
       "      <td>15230.0</td>\n",
       "      <td>2018</td>\n",
       "    </tr>\n",
       "    <tr>\n",
       "      <th>15167</th>\n",
       "      <td>54.0</td>\n",
       "      <td>0.16</td>\n",
       "      <td>0.320</td>\n",
       "      <td>2</td>\n",
       "      <td>23.0</td>\n",
       "      <td>0.16</td>\n",
       "      <td>0.103</td>\n",
       "      <td>1</td>\n",
       "      <td>53.0</td>\n",
       "      <td>0.19</td>\n",
       "      <td>...</td>\n",
       "      <td>0</td>\n",
       "      <td>0</td>\n",
       "      <td>0</td>\n",
       "      <td>0</td>\n",
       "      <td>0</td>\n",
       "      <td>1</td>\n",
       "      <td>1</td>\n",
       "      <td>9</td>\n",
       "      <td>1350.0</td>\n",
       "      <td>2018</td>\n",
       "    </tr>\n",
       "    <tr>\n",
       "      <th>15168</th>\n",
       "      <td>49.0</td>\n",
       "      <td>0.15</td>\n",
       "      <td>0.487</td>\n",
       "      <td>4</td>\n",
       "      <td>51.0</td>\n",
       "      <td>0.19</td>\n",
       "      <td>0.428</td>\n",
       "      <td>1</td>\n",
       "      <td>51.0</td>\n",
       "      <td>0.18</td>\n",
       "      <td>...</td>\n",
       "      <td>0</td>\n",
       "      <td>0</td>\n",
       "      <td>0</td>\n",
       "      <td>0</td>\n",
       "      <td>0</td>\n",
       "      <td>6</td>\n",
       "      <td>2</td>\n",
       "      <td>2</td>\n",
       "      <td>640.0</td>\n",
       "      <td>2018</td>\n",
       "    </tr>\n",
       "    <tr>\n",
       "      <th>15169</th>\n",
       "      <td>47.0</td>\n",
       "      <td>0.14</td>\n",
       "      <td>0.425</td>\n",
       "      <td>4</td>\n",
       "      <td>49.0</td>\n",
       "      <td>0.17</td>\n",
       "      <td>0.287</td>\n",
       "      <td>2</td>\n",
       "      <td>33.0</td>\n",
       "      <td>0.16</td>\n",
       "      <td>...</td>\n",
       "      <td>0</td>\n",
       "      <td>0</td>\n",
       "      <td>0</td>\n",
       "      <td>0</td>\n",
       "      <td>0</td>\n",
       "      <td>2</td>\n",
       "      <td>2</td>\n",
       "      <td>21</td>\n",
       "      <td>5160.0</td>\n",
       "      <td>2018</td>\n",
       "    </tr>\n",
       "    <tr>\n",
       "      <th>15170</th>\n",
       "      <td>35.0</td>\n",
       "      <td>0.14</td>\n",
       "      <td>0.431</td>\n",
       "      <td>4</td>\n",
       "      <td>38.0</td>\n",
       "      <td>0.16</td>\n",
       "      <td>0.442</td>\n",
       "      <td>4</td>\n",
       "      <td>34.0</td>\n",
       "      <td>0.15</td>\n",
       "      <td>...</td>\n",
       "      <td>0</td>\n",
       "      <td>0</td>\n",
       "      <td>0</td>\n",
       "      <td>0</td>\n",
       "      <td>0</td>\n",
       "      <td>3</td>\n",
       "      <td>9</td>\n",
       "      <td>6</td>\n",
       "      <td>1310.0</td>\n",
       "      <td>2018</td>\n",
       "    </tr>\n",
       "  </tbody>\n",
       "</table>\n",
       "<p>15171 rows × 1272 columns</p>\n",
       "</div>"
      ],
      "text/plain": [
       "       racer_1_age  racer_1_ave_st  racer_1_doub  racer_1_rank  racer_2_age  racer_2_ave_st  racer_2_doub  racer_2_rank  racer_3_age  racer_3_ave_st  ...  racer_6_bo_95  racer_6_bo_96  racer_6_bo_97  racer_6_bo_98  racer_6_bo_99  num=8  num=10  result_com    money  year\n",
       "0             35.0            0.14         0.541             4         40.0            0.19         0.287             2         30.0            0.19  ...              0              0              0              0              0      3       9           6   1160.0  2012\n",
       "1             46.0            0.18         0.450             4         27.0            0.18         0.301             2         31.0            0.15  ...              0              0              0              0              0      0       8           3   2960.0  2012\n",
       "2             43.0            0.16         0.480             3         35.0            0.21         0.255             2         42.0            0.17  ...              0              0              0              0              0      1       1          44  21490.0  2012\n",
       "3             27.0            0.17         0.506             4         38.0            0.20         0.188             2         41.0            0.17  ...              0              0              0              0              0      3       9          62   5100.0  2012\n",
       "4             32.0            0.21         0.439             3         25.0            0.17         0.536             4         45.0            0.16  ...              0              0              0              0              0      0       8          25   1980.0  2012\n",
       "...            ...             ...           ...           ...          ...             ...           ...           ...          ...             ...  ...            ...            ...            ...            ...            ...    ...     ...         ...      ...   ...\n",
       "15166         37.0            0.15         0.142             2         27.0            0.17         0.069             2         45.0            0.17  ...              0              0              0              0              0      1       1          16  15230.0  2018\n",
       "15167         54.0            0.16         0.320             2         23.0            0.16         0.103             1         53.0            0.19  ...              0              0              0              0              0      1       1           9   1350.0  2018\n",
       "15168         49.0            0.15         0.487             4         51.0            0.19         0.428             1         51.0            0.18  ...              0              0              0              0              0      6       2           2    640.0  2018\n",
       "15169         47.0            0.14         0.425             4         49.0            0.17         0.287             2         33.0            0.16  ...              0              0              0              0              0      2       2          21   5160.0  2018\n",
       "15170         35.0            0.14         0.431             4         38.0            0.16         0.442             4         34.0            0.15  ...              0              0              0              0              0      3       9           6   1310.0  2018\n",
       "\n",
       "[15171 rows x 1272 columns]"
      ]
     },
     "execution_count": 47,
     "metadata": {},
     "output_type": "execute_result"
    }
   ],
   "source": [
    "train_df"
   ]
  },
  {
   "cell_type": "markdown",
   "metadata": {},
   "source": [
    "#### モデルの性能評価用のデータフレーム (モデルを使うかを判断する閾値を収納する)"
   ]
  },
  {
   "cell_type": "code",
   "execution_count": 41,
   "metadata": {},
   "outputs": [],
   "source": [
    "#出現数の分布\n",
    "result_com_s=valid_df['result_com'].value_counts()\n",
    "result_com_s=result_com_s.sort_index()\n",
    "gain_mean=valid_df.groupby('result_com')['money'].mean()\n",
    "gain_mean=gain_mean.sort_index()\n",
    "\n",
    "gain_median=valid_df.groupby('result_com')['money'].median()\n",
    "gain_median=gain_median.sort_index()\n",
    "result_com_df=pd.DataFrame({'result_com':result_com_s.index,\n",
    "                            'result_com_num':result_com_s.values,\n",
    "                            'result_com_per':result_com_s.values/sum(result_com_s.values)*100,\n",
    "                            'gain_mean':gain_mean.values,\n",
    "                            'gain_median':gain_median.values,})\n",
    "result_com_df=result_com_df.iloc[0:28]#探索的に探すにも最後のほうは役にモデルなのはわかっているため\n",
    "#result_com_df=result_com_df.set_index('result_com')"
   ]
  },
  {
   "cell_type": "code",
   "execution_count": 42,
   "metadata": {},
   "outputs": [
    {
     "data": {
      "text/html": [
       "<div>\n",
       "<style scoped>\n",
       "    .dataframe tbody tr th:only-of-type {\n",
       "        vertical-align: middle;\n",
       "    }\n",
       "\n",
       "    .dataframe tbody tr th {\n",
       "        vertical-align: top;\n",
       "    }\n",
       "\n",
       "    .dataframe thead th {\n",
       "        text-align: right;\n",
       "    }\n",
       "</style>\n",
       "<table border=\"1\" class=\"dataframe\">\n",
       "  <thead>\n",
       "    <tr style=\"text-align: right;\">\n",
       "      <th></th>\n",
       "      <th>result_com</th>\n",
       "      <th>result_com_num</th>\n",
       "      <th>result_com_per</th>\n",
       "      <th>gain_mean</th>\n",
       "      <th>gain_median</th>\n",
       "    </tr>\n",
       "  </thead>\n",
       "  <tbody>\n",
       "    <tr>\n",
       "      <th>0</th>\n",
       "      <td>1</td>\n",
       "      <td>327</td>\n",
       "      <td>7.839847</td>\n",
       "      <td>1101.773700</td>\n",
       "      <td>770.0</td>\n",
       "    </tr>\n",
       "    <tr>\n",
       "      <th>1</th>\n",
       "      <td>2</td>\n",
       "      <td>270</td>\n",
       "      <td>6.473268</td>\n",
       "      <td>1296.814815</td>\n",
       "      <td>870.0</td>\n",
       "    </tr>\n",
       "    <tr>\n",
       "      <th>2</th>\n",
       "      <td>3</td>\n",
       "      <td>184</td>\n",
       "      <td>4.411412</td>\n",
       "      <td>1945.163043</td>\n",
       "      <td>1260.0</td>\n",
       "    </tr>\n",
       "    <tr>\n",
       "      <th>3</th>\n",
       "      <td>4</td>\n",
       "      <td>107</td>\n",
       "      <td>2.565332</td>\n",
       "      <td>2463.644860</td>\n",
       "      <td>1720.0</td>\n",
       "    </tr>\n",
       "    <tr>\n",
       "      <th>4</th>\n",
       "      <td>5</td>\n",
       "      <td>238</td>\n",
       "      <td>5.706066</td>\n",
       "      <td>1335.546218</td>\n",
       "      <td>1020.0</td>\n",
       "    </tr>\n",
       "    <tr>\n",
       "      <th>5</th>\n",
       "      <td>6</td>\n",
       "      <td>223</td>\n",
       "      <td>5.346440</td>\n",
       "      <td>1274.304933</td>\n",
       "      <td>940.0</td>\n",
       "    </tr>\n",
       "    <tr>\n",
       "      <th>6</th>\n",
       "      <td>7</td>\n",
       "      <td>182</td>\n",
       "      <td>4.363462</td>\n",
       "      <td>1605.494505</td>\n",
       "      <td>975.0</td>\n",
       "    </tr>\n",
       "    <tr>\n",
       "      <th>7</th>\n",
       "      <td>8</td>\n",
       "      <td>104</td>\n",
       "      <td>2.493407</td>\n",
       "      <td>2787.788462</td>\n",
       "      <td>2270.0</td>\n",
       "    </tr>\n",
       "    <tr>\n",
       "      <th>8</th>\n",
       "      <td>9</td>\n",
       "      <td>176</td>\n",
       "      <td>4.219612</td>\n",
       "      <td>1629.034091</td>\n",
       "      <td>1050.0</td>\n",
       "    </tr>\n",
       "    <tr>\n",
       "      <th>9</th>\n",
       "      <td>10</td>\n",
       "      <td>170</td>\n",
       "      <td>4.075761</td>\n",
       "      <td>1715.176471</td>\n",
       "      <td>1220.0</td>\n",
       "    </tr>\n",
       "    <tr>\n",
       "      <th>10</th>\n",
       "      <td>11</td>\n",
       "      <td>108</td>\n",
       "      <td>2.589307</td>\n",
       "      <td>2659.351852</td>\n",
       "      <td>1685.0</td>\n",
       "    </tr>\n",
       "    <tr>\n",
       "      <th>11</th>\n",
       "      <td>12</td>\n",
       "      <td>86</td>\n",
       "      <td>2.061856</td>\n",
       "      <td>3349.418605</td>\n",
       "      <td>2005.0</td>\n",
       "    </tr>\n",
       "    <tr>\n",
       "      <th>12</th>\n",
       "      <td>13</td>\n",
       "      <td>107</td>\n",
       "      <td>2.565332</td>\n",
       "      <td>3678.411215</td>\n",
       "      <td>2710.0</td>\n",
       "    </tr>\n",
       "    <tr>\n",
       "      <th>13</th>\n",
       "      <td>14</td>\n",
       "      <td>108</td>\n",
       "      <td>2.589307</td>\n",
       "      <td>3956.111111</td>\n",
       "      <td>2345.0</td>\n",
       "    </tr>\n",
       "    <tr>\n",
       "      <th>14</th>\n",
       "      <td>15</td>\n",
       "      <td>61</td>\n",
       "      <td>1.462479</td>\n",
       "      <td>4953.114754</td>\n",
       "      <td>3790.0</td>\n",
       "    </tr>\n",
       "    <tr>\n",
       "      <th>15</th>\n",
       "      <td>16</td>\n",
       "      <td>43</td>\n",
       "      <td>1.030928</td>\n",
       "      <td>5118.139535</td>\n",
       "      <td>3860.0</td>\n",
       "    </tr>\n",
       "    <tr>\n",
       "      <th>16</th>\n",
       "      <td>17</td>\n",
       "      <td>45</td>\n",
       "      <td>1.078878</td>\n",
       "      <td>6528.000000</td>\n",
       "      <td>3340.0</td>\n",
       "    </tr>\n",
       "    <tr>\n",
       "      <th>17</th>\n",
       "      <td>18</td>\n",
       "      <td>37</td>\n",
       "      <td>0.887077</td>\n",
       "      <td>5902.162162</td>\n",
       "      <td>3490.0</td>\n",
       "    </tr>\n",
       "    <tr>\n",
       "      <th>18</th>\n",
       "      <td>19</td>\n",
       "      <td>28</td>\n",
       "      <td>0.671302</td>\n",
       "      <td>9216.071429</td>\n",
       "      <td>3610.0</td>\n",
       "    </tr>\n",
       "    <tr>\n",
       "      <th>19</th>\n",
       "      <td>20</td>\n",
       "      <td>23</td>\n",
       "      <td>0.551427</td>\n",
       "      <td>10414.782609</td>\n",
       "      <td>8120.0</td>\n",
       "    </tr>\n",
       "    <tr>\n",
       "      <th>20</th>\n",
       "      <td>21</td>\n",
       "      <td>91</td>\n",
       "      <td>2.181731</td>\n",
       "      <td>2961.648352</td>\n",
       "      <td>2290.0</td>\n",
       "    </tr>\n",
       "    <tr>\n",
       "      <th>21</th>\n",
       "      <td>22</td>\n",
       "      <td>81</td>\n",
       "      <td>1.941980</td>\n",
       "      <td>3725.308642</td>\n",
       "      <td>2790.0</td>\n",
       "    </tr>\n",
       "    <tr>\n",
       "      <th>22</th>\n",
       "      <td>23</td>\n",
       "      <td>62</td>\n",
       "      <td>1.486454</td>\n",
       "      <td>6067.258065</td>\n",
       "      <td>3505.0</td>\n",
       "    </tr>\n",
       "    <tr>\n",
       "      <th>23</th>\n",
       "      <td>24</td>\n",
       "      <td>33</td>\n",
       "      <td>0.791177</td>\n",
       "      <td>5633.030303</td>\n",
       "      <td>3490.0</td>\n",
       "    </tr>\n",
       "    <tr>\n",
       "      <th>24</th>\n",
       "      <td>25</td>\n",
       "      <td>40</td>\n",
       "      <td>0.959003</td>\n",
       "      <td>6168.250000</td>\n",
       "      <td>3795.0</td>\n",
       "    </tr>\n",
       "    <tr>\n",
       "      <th>25</th>\n",
       "      <td>26</td>\n",
       "      <td>26</td>\n",
       "      <td>0.623352</td>\n",
       "      <td>7200.384615</td>\n",
       "      <td>4970.0</td>\n",
       "    </tr>\n",
       "    <tr>\n",
       "      <th>26</th>\n",
       "      <td>27</td>\n",
       "      <td>19</td>\n",
       "      <td>0.455526</td>\n",
       "      <td>11253.684211</td>\n",
       "      <td>4630.0</td>\n",
       "    </tr>\n",
       "    <tr>\n",
       "      <th>27</th>\n",
       "      <td>28</td>\n",
       "      <td>19</td>\n",
       "      <td>0.455526</td>\n",
       "      <td>8726.315789</td>\n",
       "      <td>4390.0</td>\n",
       "    </tr>\n",
       "  </tbody>\n",
       "</table>\n",
       "</div>"
      ],
      "text/plain": [
       "    result_com  result_com_num  result_com_per     gain_mean  gain_median\n",
       "0            1             327        7.839847   1101.773700        770.0\n",
       "1            2             270        6.473268   1296.814815        870.0\n",
       "2            3             184        4.411412   1945.163043       1260.0\n",
       "3            4             107        2.565332   2463.644860       1720.0\n",
       "4            5             238        5.706066   1335.546218       1020.0\n",
       "5            6             223        5.346440   1274.304933        940.0\n",
       "6            7             182        4.363462   1605.494505        975.0\n",
       "7            8             104        2.493407   2787.788462       2270.0\n",
       "8            9             176        4.219612   1629.034091       1050.0\n",
       "9           10             170        4.075761   1715.176471       1220.0\n",
       "10          11             108        2.589307   2659.351852       1685.0\n",
       "11          12              86        2.061856   3349.418605       2005.0\n",
       "12          13             107        2.565332   3678.411215       2710.0\n",
       "13          14             108        2.589307   3956.111111       2345.0\n",
       "14          15              61        1.462479   4953.114754       3790.0\n",
       "15          16              43        1.030928   5118.139535       3860.0\n",
       "16          17              45        1.078878   6528.000000       3340.0\n",
       "17          18              37        0.887077   5902.162162       3490.0\n",
       "18          19              28        0.671302   9216.071429       3610.0\n",
       "19          20              23        0.551427  10414.782609       8120.0\n",
       "20          21              91        2.181731   2961.648352       2290.0\n",
       "21          22              81        1.941980   3725.308642       2790.0\n",
       "22          23              62        1.486454   6067.258065       3505.0\n",
       "23          24              33        0.791177   5633.030303       3490.0\n",
       "24          25              40        0.959003   6168.250000       3795.0\n",
       "25          26              26        0.623352   7200.384615       4970.0\n",
       "26          27              19        0.455526  11253.684211       4630.0\n",
       "27          28              19        0.455526   8726.315789       4390.0"
      ]
     },
     "execution_count": 42,
     "metadata": {},
     "output_type": "execute_result"
    }
   ],
   "source": [
    "result_com_df"
   ]
  },
  {
   "cell_type": "markdown",
   "metadata": {},
   "source": [
    "## モデリング(探索的にパラメータを決める)"
   ]
  },
  {
   "cell_type": "code",
   "execution_count": 27,
   "metadata": {},
   "outputs": [
    {
     "name": "stderr",
     "output_type": "stream",
     "text": [
      "\r",
      "  0%|                                                                                                                                                                                                                | 0/99 [00:00<?, ?it/s]"
     ]
    },
    {
     "name": "stdout",
     "output_type": "stream",
     "text": [
      "1.0\n"
     ]
    },
    {
     "name": "stderr",
     "output_type": "stream",
     "text": [
      " 91%|████████████████████████████████████████████████████████████████████████████████████████████████████████████████████████████████████████████████████████████████████████████████████▉                  | 90/99 [05:14<00:34,  3.81s/it]c:\\users\\nabe0\\desktop\\nabepy\\env\\lib\\site-packages\\ipykernel_launcher.py:114: RuntimeWarning: invalid value encountered in double_scalars\n",
      "c:\\users\\nabe0\\desktop\\nabepy\\env\\lib\\site-packages\\ipykernel_launcher.py:115: RuntimeWarning: invalid value encountered in longlong_scalars\n",
      " 93%|████████████████████████████████████████████████████████████████████████████████████████████████████████████████████████████████████████████████████████████████████████████████████████▉              | 92/99 [05:22<00:26,  3.83s/it]c:\\users\\nabe0\\desktop\\nabepy\\env\\lib\\site-packages\\ipykernel_launcher.py:114: RuntimeWarning: invalid value encountered in double_scalars\n",
      "c:\\users\\nabe0\\desktop\\nabepy\\env\\lib\\site-packages\\ipykernel_launcher.py:115: RuntimeWarning: invalid value encountered in longlong_scalars\n",
      " 94%|██████████████████████████████████████████████████████████████████████████████████████████████████████████████████████████████████████████████████████████████████████████████████████████▉            | 93/99 [05:26<00:23,  3.83s/it]c:\\users\\nabe0\\desktop\\nabepy\\env\\lib\\site-packages\\ipykernel_launcher.py:114: RuntimeWarning: invalid value encountered in double_scalars\n",
      "c:\\users\\nabe0\\desktop\\nabepy\\env\\lib\\site-packages\\ipykernel_launcher.py:115: RuntimeWarning: invalid value encountered in longlong_scalars\n",
      " 95%|████████████████████████████████████████████████████████████████████████████████████████████████████████████████████████████████████████████████████████████████████████████████████████████▉          | 94/99 [05:29<00:19,  3.85s/it]c:\\users\\nabe0\\desktop\\nabepy\\env\\lib\\site-packages\\ipykernel_launcher.py:114: RuntimeWarning: invalid value encountered in double_scalars\n",
      "c:\\users\\nabe0\\desktop\\nabepy\\env\\lib\\site-packages\\ipykernel_launcher.py:115: RuntimeWarning: invalid value encountered in longlong_scalars\n",
      " 96%|██████████████████████████████████████████████████████████████████████████████████████████████████████████████████████████████████████████████████████████████████████████████████████████████▉        | 95/99 [05:33<00:15,  3.84s/it]c:\\users\\nabe0\\desktop\\nabepy\\env\\lib\\site-packages\\ipykernel_launcher.py:114: RuntimeWarning: invalid value encountered in double_scalars\n",
      "c:\\users\\nabe0\\desktop\\nabepy\\env\\lib\\site-packages\\ipykernel_launcher.py:115: RuntimeWarning: invalid value encountered in longlong_scalars\n",
      " 97%|████████████████████████████████████████████████████████████████████████████████████████████████████████████████████████████████████████████████████████████████████████████████████████████████▉      | 96/99 [05:37<00:11,  3.88s/it]c:\\users\\nabe0\\desktop\\nabepy\\env\\lib\\site-packages\\ipykernel_launcher.py:114: RuntimeWarning: invalid value encountered in double_scalars\n",
      "c:\\users\\nabe0\\desktop\\nabepy\\env\\lib\\site-packages\\ipykernel_launcher.py:115: RuntimeWarning: invalid value encountered in longlong_scalars\n",
      " 98%|██████████████████████████████████████████████████████████████████████████████████████████████████████████████████████████████████████████████████████████████████████████████████████████████████▉    | 97/99 [05:41<00:07,  3.88s/it]c:\\users\\nabe0\\desktop\\nabepy\\env\\lib\\site-packages\\ipykernel_launcher.py:114: RuntimeWarning: invalid value encountered in double_scalars\n",
      "c:\\users\\nabe0\\desktop\\nabepy\\env\\lib\\site-packages\\ipykernel_launcher.py:115: RuntimeWarning: invalid value encountered in longlong_scalars\n",
      " 99%|████████████████████████████████████████████████████████████████████████████████████████████████████████████████████████████████████████████████████████████████████████████████████████████████████▉  | 98/99 [05:45<00:03,  3.88s/it]c:\\users\\nabe0\\desktop\\nabepy\\env\\lib\\site-packages\\ipykernel_launcher.py:114: RuntimeWarning: invalid value encountered in double_scalars\n",
      "c:\\users\\nabe0\\desktop\\nabepy\\env\\lib\\site-packages\\ipykernel_launcher.py:115: RuntimeWarning: invalid value encountered in longlong_scalars\n",
      "100%|███████████████████████████████████████████████████████████████████████████████████████████████████████████████████████████████████████████████████████████████████████████████████████████████████████| 99/99 [05:49<00:00,  3.53s/it]\n",
      "100%|███████████████████████████████████████████████████████████████████████████████████████████████████████████████████████████████████████████████████████████████████████████████████████████████████████| 99/99 [06:31<00:00,  3.95s/it]\n",
      "100%|███████████████████████████████████████████████████████████████████████████████████████████████████████████████████████████████████████████████████████████████████████████████████████████████████████| 99/99 [07:18<00:00,  4.43s/it]\n",
      "100%|███████████████████████████████████████████████████████████████████████████████████████████████████████████████████████████████████████████████████████████████████████████████████████████████████████| 99/99 [08:03<00:00,  4.88s/it]\n",
      "100%|███████████████████████████████████████████████████████████████████████████████████████████████████████████████████████████████████████████████████████████████████████████████████████████████████████| 99/99 [09:01<00:00,  5.47s/it]\n",
      "  0%|                                                                                                                                                                                                                | 0/99 [00:00<?, ?it/s]"
     ]
    },
    {
     "name": "stdout",
     "output_type": "stream",
     "text": [
      "2.0\n"
     ]
    },
    {
     "name": "stderr",
     "output_type": "stream",
     "text": [
      " 93%|████████████████████████████████████████████████████████████████████████████████████████████████████████████████████████████████████████████████████████████████████████████████████████▉              | 92/99 [06:05<00:30,  4.32s/it]c:\\users\\nabe0\\desktop\\nabepy\\env\\lib\\site-packages\\ipykernel_launcher.py:114: RuntimeWarning: invalid value encountered in double_scalars\n",
      "c:\\users\\nabe0\\desktop\\nabepy\\env\\lib\\site-packages\\ipykernel_launcher.py:115: RuntimeWarning: invalid value encountered in longlong_scalars\n",
      " 95%|████████████████████████████████████████████████████████████████████████████████████████████████████████████████████████████████████████████████████████████████████████████████████████████▉          | 94/99 [06:14<00:21,  4.34s/it]c:\\users\\nabe0\\desktop\\nabepy\\env\\lib\\site-packages\\ipykernel_launcher.py:114: RuntimeWarning: invalid value encountered in double_scalars\n",
      "c:\\users\\nabe0\\desktop\\nabepy\\env\\lib\\site-packages\\ipykernel_launcher.py:115: RuntimeWarning: invalid value encountered in longlong_scalars\n",
      " 96%|██████████████████████████████████████████████████████████████████████████████████████████████████████████████████████████████████████████████████████████████████████████████████████████████▉        | 95/99 [06:18<00:17,  4.32s/it]c:\\users\\nabe0\\desktop\\nabepy\\env\\lib\\site-packages\\ipykernel_launcher.py:114: RuntimeWarning: invalid value encountered in double_scalars\n",
      "c:\\users\\nabe0\\desktop\\nabepy\\env\\lib\\site-packages\\ipykernel_launcher.py:115: RuntimeWarning: invalid value encountered in longlong_scalars\n",
      " 97%|████████████████████████████████████████████████████████████████████████████████████████████████████████████████████████████████████████████████████████████████████████████████████████████████▉      | 96/99 [06:23<00:12,  4.31s/it]c:\\users\\nabe0\\desktop\\nabepy\\env\\lib\\site-packages\\ipykernel_launcher.py:114: RuntimeWarning: invalid value encountered in double_scalars\n",
      "c:\\users\\nabe0\\desktop\\nabepy\\env\\lib\\site-packages\\ipykernel_launcher.py:115: RuntimeWarning: invalid value encountered in longlong_scalars\n",
      " 98%|██████████████████████████████████████████████████████████████████████████████████████████████████████████████████████████████████████████████████████████████████████████████████████████████████▉    | 97/99 [06:27<00:08,  4.32s/it]c:\\users\\nabe0\\desktop\\nabepy\\env\\lib\\site-packages\\ipykernel_launcher.py:114: RuntimeWarning: invalid value encountered in double_scalars\n",
      "c:\\users\\nabe0\\desktop\\nabepy\\env\\lib\\site-packages\\ipykernel_launcher.py:115: RuntimeWarning: invalid value encountered in longlong_scalars\n",
      " 99%|████████████████████████████████████████████████████████████████████████████████████████████████████████████████████████████████████████████████████████████████████████████████████████████████████▉  | 98/99 [06:31<00:04,  4.33s/it]c:\\users\\nabe0\\desktop\\nabepy\\env\\lib\\site-packages\\ipykernel_launcher.py:114: RuntimeWarning: invalid value encountered in double_scalars\n",
      "c:\\users\\nabe0\\desktop\\nabepy\\env\\lib\\site-packages\\ipykernel_launcher.py:115: RuntimeWarning: invalid value encountered in longlong_scalars\n",
      "100%|███████████████████████████████████████████████████████████████████████████████████████████████████████████████████████████████████████████████████████████████████████████████████████████████████████| 99/99 [06:36<00:00,  4.00s/it]\n",
      "100%|███████████████████████████████████████████████████████████████████████████████████████████████████████████████████████████████████████████████████████████████████████████████████████████████████████| 99/99 [07:15<00:00,  4.40s/it]\n",
      "100%|███████████████████████████████████████████████████████████████████████████████████████████████████████████████████████████████████████████████████████████████████████████████████████████████████████| 99/99 [07:58<00:00,  4.83s/it]\n",
      "100%|███████████████████████████████████████████████████████████████████████████████████████████████████████████████████████████████████████████████████████████████████████████████████████████████████████| 99/99 [08:38<00:00,  5.24s/it]\n",
      "100%|███████████████████████████████████████████████████████████████████████████████████████████████████████████████████████████████████████████████████████████████████████████████████████████████████████| 99/99 [09:25<00:00,  5.71s/it]\n",
      "  0%|                                                                                                                                                                                                                | 0/99 [00:00<?, ?it/s]"
     ]
    },
    {
     "name": "stdout",
     "output_type": "stream",
     "text": [
      "3.0\n"
     ]
    },
    {
     "name": "stderr",
     "output_type": "stream",
     "text": [
      " 96%|██████████████████████████████████████████████████████████████████████████████████████████████████████████████████████████████████████████████████████████████████████████████████████████████▉        | 95/99 [05:35<00:15,  3.75s/it]c:\\users\\nabe0\\desktop\\nabepy\\env\\lib\\site-packages\\ipykernel_launcher.py:114: RuntimeWarning: invalid value encountered in double_scalars\n",
      "c:\\users\\nabe0\\desktop\\nabepy\\env\\lib\\site-packages\\ipykernel_launcher.py:115: RuntimeWarning: invalid value encountered in longlong_scalars\n",
      " 97%|████████████████████████████████████████████████████████████████████████████████████████████████████████████████████████████████████████████████████████████████████████████████████████████████▉      | 96/99 [05:39<00:11,  3.75s/it]c:\\users\\nabe0\\desktop\\nabepy\\env\\lib\\site-packages\\ipykernel_launcher.py:114: RuntimeWarning: invalid value encountered in double_scalars\n",
      "c:\\users\\nabe0\\desktop\\nabepy\\env\\lib\\site-packages\\ipykernel_launcher.py:115: RuntimeWarning: invalid value encountered in longlong_scalars\n",
      " 98%|██████████████████████████████████████████████████████████████████████████████████████████████████████████████████████████████████████████████████████████████████████████████████████████████████▉    | 97/99 [05:42<00:07,  3.76s/it]c:\\users\\nabe0\\desktop\\nabepy\\env\\lib\\site-packages\\ipykernel_launcher.py:114: RuntimeWarning: invalid value encountered in double_scalars\n",
      "c:\\users\\nabe0\\desktop\\nabepy\\env\\lib\\site-packages\\ipykernel_launcher.py:115: RuntimeWarning: invalid value encountered in longlong_scalars\n",
      " 99%|████████████████████████████████████████████████████████████████████████████████████████████████████████████████████████████████████████████████████████████████████████████████████████████████████▉  | 98/99 [05:46<00:03,  3.76s/it]c:\\users\\nabe0\\desktop\\nabepy\\env\\lib\\site-packages\\ipykernel_launcher.py:114: RuntimeWarning: invalid value encountered in double_scalars\n",
      "c:\\users\\nabe0\\desktop\\nabepy\\env\\lib\\site-packages\\ipykernel_launcher.py:115: RuntimeWarning: invalid value encountered in longlong_scalars\n",
      "100%|███████████████████████████████████████████████████████████████████████████████████████████████████████████████████████████████████████████████████████████████████████████████████████████████████████| 99/99 [05:50<00:00,  3.54s/it]\n",
      "100%|███████████████████████████████████████████████████████████████████████████████████████████████████████████████████████████████████████████████████████████████████████████████████████████████████████| 99/99 [06:20<00:00,  3.85s/it]\n",
      "100%|███████████████████████████████████████████████████████████████████████████████████████████████████████████████████████████████████████████████████████████████████████████████████████████████████████| 99/99 [06:49<00:00,  4.13s/it]\n",
      "100%|███████████████████████████████████████████████████████████████████████████████████████████████████████████████████████████████████████████████████████████████████████████████████████████████████████| 99/99 [06:46<00:00,  4.11s/it]\n",
      "100%|███████████████████████████████████████████████████████████████████████████████████████████████████████████████████████████████████████████████████████████████████████████████████████████████████████| 99/99 [06:08<00:00,  3.73s/it]\n",
      "  0%|                                                                                                                                                                                                                | 0/99 [00:00<?, ?it/s]"
     ]
    },
    {
     "name": "stdout",
     "output_type": "stream",
     "text": [
      "4.0\n"
     ]
    },
    {
     "name": "stderr",
     "output_type": "stream",
     "text": [
      "100%|███████████████████████████████████████████████████████████████████████████████████████████████████████████████████████████████████████████████████████████████████████████████████████████████████████| 99/99 [04:15<00:00,  2.58s/it]\n",
      "100%|███████████████████████████████████████████████████████████████████████████████████████████████████████████████████████████████████████████████████████████████████████████████████████████████████████| 99/99 [04:59<00:00,  3.02s/it]\n",
      "100%|███████████████████████████████████████████████████████████████████████████████████████████████████████████████████████████████████████████████████████████████████████████████████████████████████████| 99/99 [06:03<00:00,  3.67s/it]\n",
      "100%|███████████████████████████████████████████████████████████████████████████████████████████████████████████████████████████████████████████████████████████████████████████████████████████████████████| 99/99 [06:24<00:00,  3.88s/it]\n",
      "100%|███████████████████████████████████████████████████████████████████████████████████████████████████████████████████████████████████████████████████████████████████████████████████████████████████████| 99/99 [06:34<00:00,  3.99s/it]\n",
      "  0%|                                                                                                                                                                                                                | 0/99 [00:00<?, ?it/s]"
     ]
    },
    {
     "name": "stdout",
     "output_type": "stream",
     "text": [
      "5.0\n"
     ]
    },
    {
     "name": "stderr",
     "output_type": "stream",
     "text": [
      " 89%|████████████████████████████████████████████████████████████████████████████████████████████████████████████████████████████████████████████████████████████████████████████████▉                      | 88/99 [04:35<00:36,  3.32s/it]c:\\users\\nabe0\\desktop\\nabepy\\env\\lib\\site-packages\\ipykernel_launcher.py:114: RuntimeWarning: invalid value encountered in double_scalars\n",
      "c:\\users\\nabe0\\desktop\\nabepy\\env\\lib\\site-packages\\ipykernel_launcher.py:115: RuntimeWarning: invalid value encountered in longlong_scalars\n",
      " 90%|██████████████████████████████████████████████████████████████████████████████████████████████████████████████████████████████████████████████████████████████████████████████████▉                    | 89/99 [04:39<00:33,  3.31s/it]c:\\users\\nabe0\\desktop\\nabepy\\env\\lib\\site-packages\\ipykernel_launcher.py:114: RuntimeWarning: invalid value encountered in double_scalars\n",
      "c:\\users\\nabe0\\desktop\\nabepy\\env\\lib\\site-packages\\ipykernel_launcher.py:115: RuntimeWarning: invalid value encountered in longlong_scalars\n",
      " 91%|████████████████████████████████████████████████████████████████████████████████████████████████████████████████████████████████████████████████████████████████████████████████████▉                  | 90/99 [04:42<00:30,  3.34s/it]c:\\users\\nabe0\\desktop\\nabepy\\env\\lib\\site-packages\\ipykernel_launcher.py:114: RuntimeWarning: invalid value encountered in double_scalars\n",
      "c:\\users\\nabe0\\desktop\\nabepy\\env\\lib\\site-packages\\ipykernel_launcher.py:115: RuntimeWarning: invalid value encountered in longlong_scalars\n",
      " 92%|██████████████████████████████████████████████████████████████████████████████████████████████████████████████████████████████████████████████████████████████████████████████████████▉                | 91/99 [04:45<00:26,  3.36s/it]c:\\users\\nabe0\\desktop\\nabepy\\env\\lib\\site-packages\\ipykernel_launcher.py:114: RuntimeWarning: invalid value encountered in double_scalars\n",
      "c:\\users\\nabe0\\desktop\\nabepy\\env\\lib\\site-packages\\ipykernel_launcher.py:115: RuntimeWarning: invalid value encountered in longlong_scalars\n",
      " 93%|████████████████████████████████████████████████████████████████████████████████████████████████████████████████████████████████████████████████████████████████████████████████████████▉              | 92/99 [04:49<00:23,  3.37s/it]c:\\users\\nabe0\\desktop\\nabepy\\env\\lib\\site-packages\\ipykernel_launcher.py:114: RuntimeWarning: invalid value encountered in double_scalars\n",
      "c:\\users\\nabe0\\desktop\\nabepy\\env\\lib\\site-packages\\ipykernel_launcher.py:115: RuntimeWarning: invalid value encountered in longlong_scalars\n",
      " 94%|██████████████████████████████████████████████████████████████████████████████████████████████████████████████████████████████████████████████████████████████████████████████████████████▉            | 93/99 [04:52<00:20,  3.39s/it]c:\\users\\nabe0\\desktop\\nabepy\\env\\lib\\site-packages\\ipykernel_launcher.py:114: RuntimeWarning: invalid value encountered in double_scalars\n",
      "c:\\users\\nabe0\\desktop\\nabepy\\env\\lib\\site-packages\\ipykernel_launcher.py:115: RuntimeWarning: invalid value encountered in longlong_scalars\n",
      " 95%|████████████████████████████████████████████████████████████████████████████████████████████████████████████████████████████████████████████████████████████████████████████████████████████▉          | 94/99 [04:56<00:16,  3.39s/it]c:\\users\\nabe0\\desktop\\nabepy\\env\\lib\\site-packages\\ipykernel_launcher.py:114: RuntimeWarning: invalid value encountered in double_scalars\n",
      "c:\\users\\nabe0\\desktop\\nabepy\\env\\lib\\site-packages\\ipykernel_launcher.py:115: RuntimeWarning: invalid value encountered in longlong_scalars\n",
      " 96%|██████████████████████████████████████████████████████████████████████████████████████████████████████████████████████████████████████████████████████████████████████████████████████████████▉        | 95/99 [04:59<00:13,  3.40s/it]c:\\users\\nabe0\\desktop\\nabepy\\env\\lib\\site-packages\\ipykernel_launcher.py:114: RuntimeWarning: invalid value encountered in double_scalars\n",
      "c:\\users\\nabe0\\desktop\\nabepy\\env\\lib\\site-packages\\ipykernel_launcher.py:115: RuntimeWarning: invalid value encountered in longlong_scalars\n",
      " 97%|████████████████████████████████████████████████████████████████████████████████████████████████████████████████████████████████████████████████████████████████████████████████████████████████▉      | 96/99 [05:02<00:10,  3.40s/it]c:\\users\\nabe0\\desktop\\nabepy\\env\\lib\\site-packages\\ipykernel_launcher.py:114: RuntimeWarning: invalid value encountered in double_scalars\n",
      "c:\\users\\nabe0\\desktop\\nabepy\\env\\lib\\site-packages\\ipykernel_launcher.py:115: RuntimeWarning: invalid value encountered in longlong_scalars\n",
      " 98%|██████████████████████████████████████████████████████████████████████████████████████████████████████████████████████████████████████████████████████████████████████████████████████████████████▉    | 97/99 [05:06<00:06,  3.39s/it]c:\\users\\nabe0\\desktop\\nabepy\\env\\lib\\site-packages\\ipykernel_launcher.py:114: RuntimeWarning: invalid value encountered in double_scalars\n",
      "c:\\users\\nabe0\\desktop\\nabepy\\env\\lib\\site-packages\\ipykernel_launcher.py:115: RuntimeWarning: invalid value encountered in longlong_scalars\n",
      " 99%|████████████████████████████████████████████████████████████████████████████████████████████████████████████████████████████████████████████████████████████████████████████████████████████████████▉  | 98/99 [05:09<00:03,  3.41s/it]c:\\users\\nabe0\\desktop\\nabepy\\env\\lib\\site-packages\\ipykernel_launcher.py:114: RuntimeWarning: invalid value encountered in double_scalars\n",
      "c:\\users\\nabe0\\desktop\\nabepy\\env\\lib\\site-packages\\ipykernel_launcher.py:115: RuntimeWarning: invalid value encountered in longlong_scalars\n",
      "100%|███████████████████████████████████████████████████████████████████████████████████████████████████████████████████████████████████████████████████████████████████████████████████████████████████████| 99/99 [05:13<00:00,  3.16s/it]\n",
      "100%|███████████████████████████████████████████████████████████████████████████████████████████████████████████████████████████████████████████████████████████████████████████████████████████████████████| 99/99 [05:45<00:00,  3.49s/it]\n",
      "100%|███████████████████████████████████████████████████████████████████████████████████████████████████████████████████████████████████████████████████████████████████████████████████████████████████████| 99/99 [06:14<00:00,  3.78s/it]\n",
      "100%|███████████████████████████████████████████████████████████████████████████████████████████████████████████████████████████████████████████████████████████████████████████████████████████████████████| 99/99 [06:48<00:00,  4.13s/it]\n",
      "100%|███████████████████████████████████████████████████████████████████████████████████████████████████████████████████████████████████████████████████████████████████████████████████████████████████████| 99/99 [07:27<00:00,  4.52s/it]\n",
      "  0%|                                                                                                                                                                                                                | 0/99 [00:00<?, ?it/s]"
     ]
    },
    {
     "name": "stdout",
     "output_type": "stream",
     "text": [
      "6.0\n"
     ]
    },
    {
     "name": "stderr",
     "output_type": "stream",
     "text": [
      " 85%|████████████████████████████████████████████████████████████████████████████████████████████████████████████████████████████████████████████████████████████████████████▊                              | 84/99 [04:20<00:48,  3.26s/it]c:\\users\\nabe0\\desktop\\nabepy\\env\\lib\\site-packages\\ipykernel_launcher.py:114: RuntimeWarning: invalid value encountered in double_scalars\n",
      "c:\\users\\nabe0\\desktop\\nabepy\\env\\lib\\site-packages\\ipykernel_launcher.py:115: RuntimeWarning: invalid value encountered in longlong_scalars\n",
      " 86%|██████████████████████████████████████████████████████████████████████████████████████████████████████████████████████████████████████████████████████████████████████████▊                            | 85/99 [04:24<00:45,  3.25s/it]c:\\users\\nabe0\\desktop\\nabepy\\env\\lib\\site-packages\\ipykernel_launcher.py:114: RuntimeWarning: invalid value encountered in double_scalars\n",
      "c:\\users\\nabe0\\desktop\\nabepy\\env\\lib\\site-packages\\ipykernel_launcher.py:115: RuntimeWarning: invalid value encountered in longlong_scalars\n",
      " 87%|████████████████████████████████████████████████████████████████████████████████████████████████████████████████████████████████████████████████████████████████████████████▊                          | 86/99 [04:27<00:42,  3.25s/it]c:\\users\\nabe0\\desktop\\nabepy\\env\\lib\\site-packages\\ipykernel_launcher.py:114: RuntimeWarning: invalid value encountered in double_scalars\n",
      "c:\\users\\nabe0\\desktop\\nabepy\\env\\lib\\site-packages\\ipykernel_launcher.py:115: RuntimeWarning: invalid value encountered in longlong_scalars\n",
      " 88%|██████████████████████████████████████████████████████████████████████████████████████████████████████████████████████████████████████████████████████████████████████████████▉                        | 87/99 [04:30<00:38,  3.23s/it]c:\\users\\nabe0\\desktop\\nabepy\\env\\lib\\site-packages\\ipykernel_launcher.py:114: RuntimeWarning: invalid value encountered in double_scalars\n",
      "c:\\users\\nabe0\\desktop\\nabepy\\env\\lib\\site-packages\\ipykernel_launcher.py:115: RuntimeWarning: invalid value encountered in longlong_scalars\n",
      " 89%|████████████████████████████████████████████████████████████████████████████████████████████████████████████████████████████████████████████████████████████████████████████████▉                      | 88/99 [04:33<00:35,  3.24s/it]c:\\users\\nabe0\\desktop\\nabepy\\env\\lib\\site-packages\\ipykernel_launcher.py:114: RuntimeWarning: invalid value encountered in double_scalars\n",
      "c:\\users\\nabe0\\desktop\\nabepy\\env\\lib\\site-packages\\ipykernel_launcher.py:115: RuntimeWarning: invalid value encountered in longlong_scalars\n",
      " 90%|██████████████████████████████████████████████████████████████████████████████████████████████████████████████████████████████████████████████████████████████████████████████████▉                    | 89/99 [04:36<00:32,  3.24s/it]c:\\users\\nabe0\\desktop\\nabepy\\env\\lib\\site-packages\\ipykernel_launcher.py:114: RuntimeWarning: invalid value encountered in double_scalars\n",
      "c:\\users\\nabe0\\desktop\\nabepy\\env\\lib\\site-packages\\ipykernel_launcher.py:115: RuntimeWarning: invalid value encountered in longlong_scalars\n",
      " 91%|████████████████████████████████████████████████████████████████████████████████████████████████████████████████████████████████████████████████████████████████████████████████████▉                  | 90/99 [04:40<00:29,  3.25s/it]c:\\users\\nabe0\\desktop\\nabepy\\env\\lib\\site-packages\\ipykernel_launcher.py:114: RuntimeWarning: invalid value encountered in double_scalars\n",
      "c:\\users\\nabe0\\desktop\\nabepy\\env\\lib\\site-packages\\ipykernel_launcher.py:115: RuntimeWarning: invalid value encountered in longlong_scalars\n",
      " 92%|██████████████████████████████████████████████████████████████████████████████████████████████████████████████████████████████████████████████████████████████████████████████████████▉                | 91/99 [04:43<00:26,  3.28s/it]c:\\users\\nabe0\\desktop\\nabepy\\env\\lib\\site-packages\\ipykernel_launcher.py:114: RuntimeWarning: invalid value encountered in double_scalars\n",
      "c:\\users\\nabe0\\desktop\\nabepy\\env\\lib\\site-packages\\ipykernel_launcher.py:115: RuntimeWarning: invalid value encountered in longlong_scalars\n",
      " 93%|████████████████████████████████████████████████████████████████████████████████████████████████████████████████████████████████████████████████████████████████████████████████████████▉              | 92/99 [04:46<00:22,  3.27s/it]c:\\users\\nabe0\\desktop\\nabepy\\env\\lib\\site-packages\\ipykernel_launcher.py:114: RuntimeWarning: invalid value encountered in double_scalars\n",
      "c:\\users\\nabe0\\desktop\\nabepy\\env\\lib\\site-packages\\ipykernel_launcher.py:115: RuntimeWarning: invalid value encountered in longlong_scalars\n",
      " 94%|██████████████████████████████████████████████████████████████████████████████████████████████████████████████████████████████████████████████████████████████████████████████████████████▉            | 93/99 [04:50<00:19,  3.27s/it]c:\\users\\nabe0\\desktop\\nabepy\\env\\lib\\site-packages\\ipykernel_launcher.py:114: RuntimeWarning: invalid value encountered in double_scalars\n",
      "c:\\users\\nabe0\\desktop\\nabepy\\env\\lib\\site-packages\\ipykernel_launcher.py:115: RuntimeWarning: invalid value encountered in longlong_scalars\n",
      " 95%|████████████████████████████████████████████████████████████████████████████████████████████████████████████████████████████████████████████████████████████████████████████████████████████▉          | 94/99 [04:53<00:16,  3.27s/it]c:\\users\\nabe0\\desktop\\nabepy\\env\\lib\\site-packages\\ipykernel_launcher.py:114: RuntimeWarning: invalid value encountered in double_scalars\n",
      "c:\\users\\nabe0\\desktop\\nabepy\\env\\lib\\site-packages\\ipykernel_launcher.py:115: RuntimeWarning: invalid value encountered in longlong_scalars\n",
      " 96%|██████████████████████████████████████████████████████████████████████████████████████████████████████████████████████████████████████████████████████████████████████████████████████████████▉        | 95/99 [04:56<00:13,  3.29s/it]c:\\users\\nabe0\\desktop\\nabepy\\env\\lib\\site-packages\\ipykernel_launcher.py:114: RuntimeWarning: invalid value encountered in double_scalars\n",
      "c:\\users\\nabe0\\desktop\\nabepy\\env\\lib\\site-packages\\ipykernel_launcher.py:115: RuntimeWarning: invalid value encountered in longlong_scalars\n",
      " 97%|████████████████████████████████████████████████████████████████████████████████████████████████████████████████████████████████████████████████████████████████████████████████████████████████▉      | 96/99 [04:59<00:09,  3.29s/it]c:\\users\\nabe0\\desktop\\nabepy\\env\\lib\\site-packages\\ipykernel_launcher.py:114: RuntimeWarning: invalid value encountered in double_scalars\n",
      "c:\\users\\nabe0\\desktop\\nabepy\\env\\lib\\site-packages\\ipykernel_launcher.py:115: RuntimeWarning: invalid value encountered in longlong_scalars\n",
      " 98%|██████████████████████████████████████████████████████████████████████████████████████████████████████████████████████████████████████████████████████████████████████████████████████████████████▉    | 97/99 [05:03<00:06,  3.30s/it]c:\\users\\nabe0\\desktop\\nabepy\\env\\lib\\site-packages\\ipykernel_launcher.py:114: RuntimeWarning: invalid value encountered in double_scalars\n",
      "c:\\users\\nabe0\\desktop\\nabepy\\env\\lib\\site-packages\\ipykernel_launcher.py:115: RuntimeWarning: invalid value encountered in longlong_scalars\n",
      " 99%|████████████████████████████████████████████████████████████████████████████████████████████████████████████████████████████████████████████████████████████████████████████████████████████████████▉  | 98/99 [05:06<00:03,  3.29s/it]c:\\users\\nabe0\\desktop\\nabepy\\env\\lib\\site-packages\\ipykernel_launcher.py:114: RuntimeWarning: invalid value encountered in double_scalars\n",
      "c:\\users\\nabe0\\desktop\\nabepy\\env\\lib\\site-packages\\ipykernel_launcher.py:115: RuntimeWarning: invalid value encountered in longlong_scalars\n",
      "100%|███████████████████████████████████████████████████████████████████████████████████████████████████████████████████████████████████████████████████████████████████████████████████████████████████████| 99/99 [05:09<00:00,  3.13s/it]\n",
      " 94%|██████████████████████████████████████████████████████████████████████████████████████████████████████████████████████████████████████████████████████████████████████████████████████████▉            | 93/99 [05:13<00:21,  3.64s/it]c:\\users\\nabe0\\desktop\\nabepy\\env\\lib\\site-packages\\ipykernel_launcher.py:114: RuntimeWarning: invalid value encountered in double_scalars\n",
      "c:\\users\\nabe0\\desktop\\nabepy\\env\\lib\\site-packages\\ipykernel_launcher.py:115: RuntimeWarning: invalid value encountered in longlong_scalars\n",
      " 97%|████████████████████████████████████████████████████████████████████████████████████████████████████████████████████████████████████████████████████████████████████████████████████████████████▉      | 96/99 [05:24<00:10,  3.66s/it]c:\\users\\nabe0\\desktop\\nabepy\\env\\lib\\site-packages\\ipykernel_launcher.py:114: RuntimeWarning: invalid value encountered in double_scalars\n",
      "c:\\users\\nabe0\\desktop\\nabepy\\env\\lib\\site-packages\\ipykernel_launcher.py:115: RuntimeWarning: invalid value encountered in longlong_scalars\n",
      " 99%|████████████████████████████████████████████████████████████████████████████████████████████████████████████████████████████████████████████████████████████████████████████████████████████████████▉  | 98/99 [05:31<00:03,  3.67s/it]c:\\users\\nabe0\\desktop\\nabepy\\env\\lib\\site-packages\\ipykernel_launcher.py:114: RuntimeWarning: invalid value encountered in double_scalars\n",
      "c:\\users\\nabe0\\desktop\\nabepy\\env\\lib\\site-packages\\ipykernel_launcher.py:115: RuntimeWarning: invalid value encountered in longlong_scalars\n",
      "100%|███████████████████████████████████████████████████████████████████████████████████████████████████████████████████████████████████████████████████████████████████████████████████████████████████████| 99/99 [05:35<00:00,  3.39s/it]\n",
      "100%|███████████████████████████████████████████████████████████████████████████████████████████████████████████████████████████████████████████████████████████████████████████████████████████████████████| 99/99 [06:15<00:00,  3.80s/it]\n",
      "100%|███████████████████████████████████████████████████████████████████████████████████████████████████████████████████████████████████████████████████████████████████████████████████████████████████████| 99/99 [06:31<00:00,  3.95s/it]\n",
      "100%|███████████████████████████████████████████████████████████████████████████████████████████████████████████████████████████████████████████████████████████████████████████████████████████████████████| 99/99 [07:07<00:00,  4.31s/it]\n",
      "  0%|                                                                                                                                                                                                                | 0/99 [00:00<?, ?it/s]"
     ]
    },
    {
     "name": "stdout",
     "output_type": "stream",
     "text": [
      "7.0\n"
     ]
    },
    {
     "name": "stderr",
     "output_type": "stream",
     "text": [
      "100%|███████████████████████████████████████████████████████████████████████████████████████████████████████████████████████████████████████████████████████████████████████████████████████████████████████| 99/99 [04:40<00:00,  2.84s/it]\n",
      "100%|███████████████████████████████████████████████████████████████████████████████████████████████████████████████████████████████████████████████████████████████████████████████████████████████████████| 99/99 [04:52<00:00,  2.95s/it]\n",
      "100%|███████████████████████████████████████████████████████████████████████████████████████████████████████████████████████████████████████████████████████████████████████████████████████████████████████| 99/99 [05:13<00:00,  3.17s/it]\n",
      "100%|███████████████████████████████████████████████████████████████████████████████████████████████████████████████████████████████████████████████████████████████████████████████████████████████████████| 99/99 [05:32<00:00,  3.36s/it]\n",
      "100%|███████████████████████████████████████████████████████████████████████████████████████████████████████████████████████████████████████████████████████████████████████████████████████████████████████| 99/99 [07:21<00:00,  4.46s/it]\n",
      "  0%|                                                                                                                                                                                                                | 0/99 [00:00<?, ?it/s]"
     ]
    },
    {
     "name": "stdout",
     "output_type": "stream",
     "text": [
      "8.0\n"
     ]
    },
    {
     "name": "stderr",
     "output_type": "stream",
     "text": [
      " 94%|██████████████████████████████████████████████████████████████████████████████████████████████████████████████████████████████████████████████████████████████████████████████████████████▉            | 93/99 [04:50<00:19,  3.23s/it]c:\\users\\nabe0\\desktop\\nabepy\\env\\lib\\site-packages\\ipykernel_launcher.py:114: RuntimeWarning: invalid value encountered in double_scalars\n",
      "c:\\users\\nabe0\\desktop\\nabepy\\env\\lib\\site-packages\\ipykernel_launcher.py:115: RuntimeWarning: invalid value encountered in longlong_scalars\n",
      " 95%|████████████████████████████████████████████████████████████████████████████████████████████████████████████████████████████████████████████████████████████████████████████████████████████▉          | 94/99 [04:53<00:16,  3.27s/it]c:\\users\\nabe0\\desktop\\nabepy\\env\\lib\\site-packages\\ipykernel_launcher.py:114: RuntimeWarning: invalid value encountered in double_scalars\n",
      "c:\\users\\nabe0\\desktop\\nabepy\\env\\lib\\site-packages\\ipykernel_launcher.py:115: RuntimeWarning: invalid value encountered in longlong_scalars\n",
      " 96%|██████████████████████████████████████████████████████████████████████████████████████████████████████████████████████████████████████████████████████████████████████████████████████████████▉        | 95/99 [04:57<00:13,  3.25s/it]c:\\users\\nabe0\\desktop\\nabepy\\env\\lib\\site-packages\\ipykernel_launcher.py:114: RuntimeWarning: invalid value encountered in double_scalars\n",
      "c:\\users\\nabe0\\desktop\\nabepy\\env\\lib\\site-packages\\ipykernel_launcher.py:115: RuntimeWarning: invalid value encountered in longlong_scalars\n",
      " 97%|████████████████████████████████████████████████████████████████████████████████████████████████████████████████████████████████████████████████████████████████████████████████████████████████▉      | 96/99 [05:00<00:09,  3.26s/it]c:\\users\\nabe0\\desktop\\nabepy\\env\\lib\\site-packages\\ipykernel_launcher.py:114: RuntimeWarning: invalid value encountered in double_scalars\n",
      "c:\\users\\nabe0\\desktop\\nabepy\\env\\lib\\site-packages\\ipykernel_launcher.py:115: RuntimeWarning: invalid value encountered in longlong_scalars\n",
      " 98%|██████████████████████████████████████████████████████████████████████████████████████████████████████████████████████████████████████████████████████████████████████████████████████████████████▉    | 97/99 [05:03<00:06,  3.26s/it]c:\\users\\nabe0\\desktop\\nabepy\\env\\lib\\site-packages\\ipykernel_launcher.py:114: RuntimeWarning: invalid value encountered in double_scalars\n",
      "c:\\users\\nabe0\\desktop\\nabepy\\env\\lib\\site-packages\\ipykernel_launcher.py:115: RuntimeWarning: invalid value encountered in longlong_scalars\n",
      " 99%|████████████████████████████████████████████████████████████████████████████████████████████████████████████████████████████████████████████████████████████████████████████████████████████████████▉  | 98/99 [05:07<00:03,  3.29s/it]c:\\users\\nabe0\\desktop\\nabepy\\env\\lib\\site-packages\\ipykernel_launcher.py:114: RuntimeWarning: invalid value encountered in double_scalars\n",
      "c:\\users\\nabe0\\desktop\\nabepy\\env\\lib\\site-packages\\ipykernel_launcher.py:115: RuntimeWarning: invalid value encountered in longlong_scalars\n",
      "100%|███████████████████████████████████████████████████████████████████████████████████████████████████████████████████████████████████████████████████████████████████████████████████████████████████████| 99/99 [05:10<00:00,  3.13s/it]\n",
      "100%|███████████████████████████████████████████████████████████████████████████████████████████████████████████████████████████████████████████████████████████████████████████████████████████████████████| 99/99 [04:29<00:00,  2.72s/it]\n",
      "100%|███████████████████████████████████████████████████████████████████████████████████████████████████████████████████████████████████████████████████████████████████████████████████████████████████████| 99/99 [04:37<00:00,  2.80s/it]\n",
      "100%|███████████████████████████████████████████████████████████████████████████████████████████████████████████████████████████████████████████████████████████████████████████████████████████████████████| 99/99 [04:50<00:00,  2.93s/it]\n",
      "100%|███████████████████████████████████████████████████████████████████████████████████████████████████████████████████████████████████████████████████████████████████████████████████████████████████████| 99/99 [06:00<00:00,  3.64s/it]\n",
      "  0%|                                                                                                                                                                                                                | 0/99 [00:00<?, ?it/s]"
     ]
    },
    {
     "name": "stdout",
     "output_type": "stream",
     "text": [
      "9.0\n"
     ]
    },
    {
     "name": "stderr",
     "output_type": "stream",
     "text": [
      " 94%|██████████████████████████████████████████████████████████████████████████████████████████████████████████████████████████████████████████████████████████████████████████████████████████▉            | 93/99 [06:05<00:24,  4.12s/it]c:\\users\\nabe0\\desktop\\nabepy\\env\\lib\\site-packages\\ipykernel_launcher.py:114: RuntimeWarning: invalid value encountered in double_scalars\n",
      "c:\\users\\nabe0\\desktop\\nabepy\\env\\lib\\site-packages\\ipykernel_launcher.py:115: RuntimeWarning: invalid value encountered in longlong_scalars\n",
      " 96%|██████████████████████████████████████████████████████████████████████████████████████████████████████████████████████████████████████████████████████████████████████████████████████████████▉        | 95/99 [06:13<00:16,  4.21s/it]c:\\users\\nabe0\\desktop\\nabepy\\env\\lib\\site-packages\\ipykernel_launcher.py:114: RuntimeWarning: invalid value encountered in double_scalars\n",
      "c:\\users\\nabe0\\desktop\\nabepy\\env\\lib\\site-packages\\ipykernel_launcher.py:115: RuntimeWarning: invalid value encountered in longlong_scalars\n",
      " 97%|████████████████████████████████████████████████████████████████████████████████████████████████████████████████████████████████████████████████████████████████████████████████████████████████▉      | 96/99 [06:17<00:12,  4.18s/it]c:\\users\\nabe0\\desktop\\nabepy\\env\\lib\\site-packages\\ipykernel_launcher.py:114: RuntimeWarning: invalid value encountered in double_scalars\n",
      "c:\\users\\nabe0\\desktop\\nabepy\\env\\lib\\site-packages\\ipykernel_launcher.py:115: RuntimeWarning: invalid value encountered in longlong_scalars\n",
      " 99%|████████████████████████████████████████████████████████████████████████████████████████████████████████████████████████████████████████████████████████████████████████████████████████████████████▉  | 98/99 [06:26<00:04,  4.17s/it]c:\\users\\nabe0\\desktop\\nabepy\\env\\lib\\site-packages\\ipykernel_launcher.py:114: RuntimeWarning: invalid value encountered in double_scalars\n",
      "c:\\users\\nabe0\\desktop\\nabepy\\env\\lib\\site-packages\\ipykernel_launcher.py:115: RuntimeWarning: invalid value encountered in longlong_scalars\n",
      "100%|███████████████████████████████████████████████████████████████████████████████████████████████████████████████████████████████████████████████████████████████████████████████████████████████████████| 99/99 [06:30<00:00,  3.94s/it]\n",
      "100%|███████████████████████████████████████████████████████████████████████████████████████████████████████████████████████████████████████████████████████████████████████████████████████████████████████| 99/99 [06:58<00:00,  4.23s/it]\n",
      "100%|███████████████████████████████████████████████████████████████████████████████████████████████████████████████████████████████████████████████████████████████████████████████████████████████████████| 99/99 [07:37<00:00,  4.62s/it]\n",
      "100%|███████████████████████████████████████████████████████████████████████████████████████████████████████████████████████████████████████████████████████████████████████████████████████████████████████| 99/99 [08:07<00:00,  4.93s/it]\n",
      "100%|███████████████████████████████████████████████████████████████████████████████████████████████████████████████████████████████████████████████████████████████████████████████████████████████████████| 99/99 [06:57<00:00,  4.22s/it]\n",
      "  0%|                                                                                                                                                                                                                | 0/99 [00:00<?, ?it/s]"
     ]
    },
    {
     "name": "stdout",
     "output_type": "stream",
     "text": [
      "10.0\n"
     ]
    },
    {
     "name": "stderr",
     "output_type": "stream",
     "text": [
      " 99%|████████████████████████████████████████████████████████████████████████████████████████████████████████████████████████████████████████████████████████████████████████████████████████████████████▉  | 98/99 [04:32<00:02,  2.96s/it]c:\\users\\nabe0\\desktop\\nabepy\\env\\lib\\site-packages\\ipykernel_launcher.py:114: RuntimeWarning: invalid value encountered in double_scalars\n",
      "c:\\users\\nabe0\\desktop\\nabepy\\env\\lib\\site-packages\\ipykernel_launcher.py:115: RuntimeWarning: invalid value encountered in longlong_scalars\n",
      "100%|███████████████████████████████████████████████████████████████████████████████████████████████████████████████████████████████████████████████████████████████████████████████████████████████████████| 99/99 [04:34<00:00,  2.78s/it]\n",
      "100%|███████████████████████████████████████████████████████████████████████████████████████████████████████████████████████████████████████████████████████████████████████████████████████████████████████| 99/99 [04:55<00:00,  2.99s/it]\n",
      "100%|███████████████████████████████████████████████████████████████████████████████████████████████████████████████████████████████████████████████████████████████████████████████████████████████████████| 99/99 [06:19<00:00,  3.83s/it]\n",
      "100%|███████████████████████████████████████████████████████████████████████████████████████████████████████████████████████████████████████████████████████████████████████████████████████████████████████| 99/99 [07:08<00:00,  4.33s/it]\n",
      "100%|███████████████████████████████████████████████████████████████████████████████████████████████████████████████████████████████████████████████████████████████████████████████████████████████████████| 99/99 [07:42<00:00,  4.67s/it]\n",
      "  0%|                                                                                                                                                                                                                | 0/99 [00:00<?, ?it/s]"
     ]
    },
    {
     "name": "stdout",
     "output_type": "stream",
     "text": [
      "11.0\n"
     ]
    },
    {
     "name": "stderr",
     "output_type": "stream",
     "text": [
      " 86%|██████████████████████████████████████████████████████████████████████████████████████████████████████████████████████████████████████████████████████████████████████████▊                            | 85/99 [04:31<00:46,  3.32s/it]c:\\users\\nabe0\\desktop\\nabepy\\env\\lib\\site-packages\\ipykernel_launcher.py:114: RuntimeWarning: invalid value encountered in double_scalars\n",
      "c:\\users\\nabe0\\desktop\\nabepy\\env\\lib\\site-packages\\ipykernel_launcher.py:115: RuntimeWarning: invalid value encountered in longlong_scalars\n",
      " 89%|████████████████████████████████████████████████████████████████████████████████████████████████████████████████████████████████████████████████████████████████████████████████▉                      | 88/99 [04:41<00:37,  3.36s/it]c:\\users\\nabe0\\desktop\\nabepy\\env\\lib\\site-packages\\ipykernel_launcher.py:114: RuntimeWarning: invalid value encountered in double_scalars\n",
      "c:\\users\\nabe0\\desktop\\nabepy\\env\\lib\\site-packages\\ipykernel_launcher.py:115: RuntimeWarning: invalid value encountered in longlong_scalars\n",
      " 90%|██████████████████████████████████████████████████████████████████████████████████████████████████████████████████████████████████████████████████████████████████████████████████▉                    | 89/99 [04:45<00:33,  3.35s/it]c:\\users\\nabe0\\desktop\\nabepy\\env\\lib\\site-packages\\ipykernel_launcher.py:114: RuntimeWarning: invalid value encountered in double_scalars\n",
      "c:\\users\\nabe0\\desktop\\nabepy\\env\\lib\\site-packages\\ipykernel_launcher.py:115: RuntimeWarning: invalid value encountered in longlong_scalars\n",
      " 91%|████████████████████████████████████████████████████████████████████████████████████████████████████████████████████████████████████████████████████████████████████████████████████▉                  | 90/99 [04:48<00:30,  3.34s/it]c:\\users\\nabe0\\desktop\\nabepy\\env\\lib\\site-packages\\ipykernel_launcher.py:114: RuntimeWarning: invalid value encountered in double_scalars\n",
      "c:\\users\\nabe0\\desktop\\nabepy\\env\\lib\\site-packages\\ipykernel_launcher.py:115: RuntimeWarning: invalid value encountered in longlong_scalars\n",
      " 92%|██████████████████████████████████████████████████████████████████████████████████████████████████████████████████████████████████████████████████████████████████████████████████████▉                | 91/99 [04:51<00:26,  3.37s/it]c:\\users\\nabe0\\desktop\\nabepy\\env\\lib\\site-packages\\ipykernel_launcher.py:114: RuntimeWarning: invalid value encountered in double_scalars\n",
      "c:\\users\\nabe0\\desktop\\nabepy\\env\\lib\\site-packages\\ipykernel_launcher.py:115: RuntimeWarning: invalid value encountered in longlong_scalars\n",
      " 93%|████████████████████████████████████████████████████████████████████████████████████████████████████████████████████████████████████████████████████████████████████████████████████████▉              | 92/99 [04:55<00:23,  3.37s/it]c:\\users\\nabe0\\desktop\\nabepy\\env\\lib\\site-packages\\ipykernel_launcher.py:114: RuntimeWarning: invalid value encountered in double_scalars\n",
      "c:\\users\\nabe0\\desktop\\nabepy\\env\\lib\\site-packages\\ipykernel_launcher.py:115: RuntimeWarning: invalid value encountered in longlong_scalars\n",
      " 94%|██████████████████████████████████████████████████████████████████████████████████████████████████████████████████████████████████████████████████████████████████████████████████████████▉            | 93/99 [04:58<00:20,  3.37s/it]c:\\users\\nabe0\\desktop\\nabepy\\env\\lib\\site-packages\\ipykernel_launcher.py:114: RuntimeWarning: invalid value encountered in double_scalars\n",
      "c:\\users\\nabe0\\desktop\\nabepy\\env\\lib\\site-packages\\ipykernel_launcher.py:115: RuntimeWarning: invalid value encountered in longlong_scalars\n",
      " 95%|████████████████████████████████████████████████████████████████████████████████████████████████████████████████████████████████████████████████████████████████████████████████████████████▉          | 94/99 [05:02<00:16,  3.35s/it]c:\\users\\nabe0\\desktop\\nabepy\\env\\lib\\site-packages\\ipykernel_launcher.py:114: RuntimeWarning: invalid value encountered in double_scalars\n",
      "c:\\users\\nabe0\\desktop\\nabepy\\env\\lib\\site-packages\\ipykernel_launcher.py:115: RuntimeWarning: invalid value encountered in longlong_scalars\n",
      " 96%|██████████████████████████████████████████████████████████████████████████████████████████████████████████████████████████████████████████████████████████████████████████████████████████████▉        | 95/99 [05:05<00:13,  3.35s/it]c:\\users\\nabe0\\desktop\\nabepy\\env\\lib\\site-packages\\ipykernel_launcher.py:114: RuntimeWarning: invalid value encountered in double_scalars\n",
      "c:\\users\\nabe0\\desktop\\nabepy\\env\\lib\\site-packages\\ipykernel_launcher.py:115: RuntimeWarning: invalid value encountered in longlong_scalars\n",
      " 97%|████████████████████████████████████████████████████████████████████████████████████████████████████████████████████████████████████████████████████████████████████████████████████████████████▉      | 96/99 [05:08<00:10,  3.41s/it]c:\\users\\nabe0\\desktop\\nabepy\\env\\lib\\site-packages\\ipykernel_launcher.py:114: RuntimeWarning: invalid value encountered in double_scalars\n",
      "c:\\users\\nabe0\\desktop\\nabepy\\env\\lib\\site-packages\\ipykernel_launcher.py:115: RuntimeWarning: invalid value encountered in longlong_scalars\n",
      " 98%|██████████████████████████████████████████████████████████████████████████████████████████████████████████████████████████████████████████████████████████████████████████████████████████████████▉    | 97/99 [05:12<00:06,  3.41s/it]c:\\users\\nabe0\\desktop\\nabepy\\env\\lib\\site-packages\\ipykernel_launcher.py:114: RuntimeWarning: invalid value encountered in double_scalars\n",
      "c:\\users\\nabe0\\desktop\\nabepy\\env\\lib\\site-packages\\ipykernel_launcher.py:115: RuntimeWarning: invalid value encountered in longlong_scalars\n",
      " 99%|████████████████████████████████████████████████████████████████████████████████████████████████████████████████████████████████████████████████████████████████████████████████████████████████████▉  | 98/99 [05:15<00:03,  3.42s/it]c:\\users\\nabe0\\desktop\\nabepy\\env\\lib\\site-packages\\ipykernel_launcher.py:114: RuntimeWarning: invalid value encountered in double_scalars\n",
      "c:\\users\\nabe0\\desktop\\nabepy\\env\\lib\\site-packages\\ipykernel_launcher.py:115: RuntimeWarning: invalid value encountered in longlong_scalars\n",
      "100%|███████████████████████████████████████████████████████████████████████████████████████████████████████████████████████████████████████████████████████████████████████████████████████████████████████| 99/99 [05:19<00:00,  3.22s/it]\n",
      " 97%|████████████████████████████████████████████████████████████████████████████████████████████████████████████████████████████████████████████████████████████████████████████████████████████████▉      | 96/99 [05:32<00:11,  3.70s/it]c:\\users\\nabe0\\desktop\\nabepy\\env\\lib\\site-packages\\ipykernel_launcher.py:114: RuntimeWarning: invalid value encountered in double_scalars\n",
      "c:\\users\\nabe0\\desktop\\nabepy\\env\\lib\\site-packages\\ipykernel_launcher.py:115: RuntimeWarning: invalid value encountered in longlong_scalars\n",
      " 98%|██████████████████████████████████████████████████████████████████████████████████████████████████████████████████████████████████████████████████████████████████████████████████████████████████▉    | 97/99 [05:35<00:07,  3.67s/it]c:\\users\\nabe0\\desktop\\nabepy\\env\\lib\\site-packages\\ipykernel_launcher.py:114: RuntimeWarning: invalid value encountered in double_scalars\n",
      "c:\\users\\nabe0\\desktop\\nabepy\\env\\lib\\site-packages\\ipykernel_launcher.py:115: RuntimeWarning: invalid value encountered in longlong_scalars\n",
      " 99%|████████████████████████████████████████████████████████████████████████████████████████████████████████████████████████████████████████████████████████████████████████████████████████████████████▉  | 98/99 [05:39<00:03,  3.66s/it]c:\\users\\nabe0\\desktop\\nabepy\\env\\lib\\site-packages\\ipykernel_launcher.py:114: RuntimeWarning: invalid value encountered in double_scalars\n",
      "c:\\users\\nabe0\\desktop\\nabepy\\env\\lib\\site-packages\\ipykernel_launcher.py:115: RuntimeWarning: invalid value encountered in longlong_scalars\n",
      "100%|███████████████████████████████████████████████████████████████████████████████████████████████████████████████████████████████████████████████████████████████████████████████████████████████████████| 99/99 [05:43<00:00,  3.47s/it]\n",
      "100%|███████████████████████████████████████████████████████████████████████████████████████████████████████████████████████████████████████████████████████████████████████████████████████████████████████| 99/99 [05:13<00:00,  3.16s/it]\n",
      "100%|███████████████████████████████████████████████████████████████████████████████████████████████████████████████████████████████████████████████████████████████████████████████████████████████████████| 99/99 [05:01<00:00,  3.05s/it]\n",
      "100%|███████████████████████████████████████████████████████████████████████████████████████████████████████████████████████████████████████████████████████████████████████████████████████████████████████| 99/99 [05:20<00:00,  3.24s/it]\n",
      "  0%|                                                                                                                                                                                                                | 0/99 [00:00<?, ?it/s]"
     ]
    },
    {
     "name": "stdout",
     "output_type": "stream",
     "text": [
      "12.0\n"
     ]
    },
    {
     "name": "stderr",
     "output_type": "stream",
     "text": [
      "100%|███████████████████████████████████████████████████████████████████████████████████████████████████████████████████████████████████████████████████████████████████████████████████████████████████████| 99/99 [03:59<00:00,  2.42s/it]\n",
      "100%|███████████████████████████████████████████████████████████████████████████████████████████████████████████████████████████████████████████████████████████████████████████████████████████████████████| 99/99 [04:11<00:00,  2.54s/it]\n",
      "100%|███████████████████████████████████████████████████████████████████████████████████████████████████████████████████████████████████████████████████████████████████████████████████████████████████████| 99/99 [04:32<00:00,  2.75s/it]\n",
      "100%|███████████████████████████████████████████████████████████████████████████████████████████████████████████████████████████████████████████████████████████████████████████████████████████████████████| 99/99 [04:36<00:00,  2.79s/it]\n",
      "100%|███████████████████████████████████████████████████████████████████████████████████████████████████████████████████████████████████████████████████████████████████████████████████████████████████████| 99/99 [04:47<00:00,  2.91s/it]\n",
      "  0%|                                                                                                                                                                                                                | 0/99 [00:00<?, ?it/s]"
     ]
    },
    {
     "name": "stdout",
     "output_type": "stream",
     "text": [
      "13.0\n"
     ]
    },
    {
     "name": "stderr",
     "output_type": "stream",
     "text": [
      " 93%|████████████████████████████████████████████████████████████████████████████████████████████████████████████████████████████████████████████████████████████████████████████████████████▉              | 92/99 [03:44<00:17,  2.53s/it]c:\\users\\nabe0\\desktop\\nabepy\\env\\lib\\site-packages\\ipykernel_launcher.py:114: RuntimeWarning: invalid value encountered in double_scalars\n",
      "c:\\users\\nabe0\\desktop\\nabepy\\env\\lib\\site-packages\\ipykernel_launcher.py:115: RuntimeWarning: invalid value encountered in longlong_scalars\n",
      " 95%|████████████████████████████████████████████████████████████████████████████████████████████████████████████████████████████████████████████████████████████████████████████████████████████▉          | 94/99 [03:49<00:12,  2.52s/it]c:\\users\\nabe0\\desktop\\nabepy\\env\\lib\\site-packages\\ipykernel_launcher.py:114: RuntimeWarning: invalid value encountered in double_scalars\n",
      "c:\\users\\nabe0\\desktop\\nabepy\\env\\lib\\site-packages\\ipykernel_launcher.py:115: RuntimeWarning: invalid value encountered in longlong_scalars\n",
      " 97%|████████████████████████████████████████████████████████████████████████████████████████████████████████████████████████████████████████████████████████████████████████████████████████████████▉      | 96/99 [03:55<00:07,  2.53s/it]c:\\users\\nabe0\\desktop\\nabepy\\env\\lib\\site-packages\\ipykernel_launcher.py:114: RuntimeWarning: invalid value encountered in double_scalars\n",
      "c:\\users\\nabe0\\desktop\\nabepy\\env\\lib\\site-packages\\ipykernel_launcher.py:115: RuntimeWarning: invalid value encountered in longlong_scalars\n",
      " 98%|██████████████████████████████████████████████████████████████████████████████████████████████████████████████████████████████████████████████████████████████████████████████████████████████████▉    | 97/99 [03:57<00:05,  2.51s/it]c:\\users\\nabe0\\desktop\\nabepy\\env\\lib\\site-packages\\ipykernel_launcher.py:114: RuntimeWarning: invalid value encountered in double_scalars\n",
      "c:\\users\\nabe0\\desktop\\nabepy\\env\\lib\\site-packages\\ipykernel_launcher.py:115: RuntimeWarning: invalid value encountered in longlong_scalars\n",
      " 99%|████████████████████████████████████████████████████████████████████████████████████████████████████████████████████████████████████████████████████████████████████████████████████████████████████▉  | 98/99 [04:00<00:02,  2.53s/it]c:\\users\\nabe0\\desktop\\nabepy\\env\\lib\\site-packages\\ipykernel_launcher.py:114: RuntimeWarning: invalid value encountered in double_scalars\n",
      "c:\\users\\nabe0\\desktop\\nabepy\\env\\lib\\site-packages\\ipykernel_launcher.py:115: RuntimeWarning: invalid value encountered in longlong_scalars\n",
      "100%|███████████████████████████████████████████████████████████████████████████████████████████████████████████████████████████████████████████████████████████████████████████████████████████████████████| 99/99 [04:02<00:00,  2.45s/it]\n",
      "100%|███████████████████████████████████████████████████████████████████████████████████████████████████████████████████████████████████████████████████████████████████████████████████████████████████████| 99/99 [04:18<00:00,  2.61s/it]\n",
      "100%|███████████████████████████████████████████████████████████████████████████████████████████████████████████████████████████████████████████████████████████████████████████████████████████████████████| 99/99 [04:27<00:00,  2.70s/it]\n",
      "100%|███████████████████████████████████████████████████████████████████████████████████████████████████████████████████████████████████████████████████████████████████████████████████████████████████████| 99/99 [04:39<00:00,  2.83s/it]\n",
      "100%|███████████████████████████████████████████████████████████████████████████████████████████████████████████████████████████████████████████████████████████████████████████████████████████████████████| 99/99 [04:55<00:00,  2.99s/it]\n",
      "  0%|                                                                                                                                                                                                                | 0/99 [00:00<?, ?it/s]"
     ]
    },
    {
     "name": "stdout",
     "output_type": "stream",
     "text": [
      "14.0\n"
     ]
    },
    {
     "name": "stderr",
     "output_type": "stream",
     "text": [
      " 91%|████████████████████████████████████████████████████████████████████████████████████████████████████████████████████████████████████████████████████████████████████████████████████▉                  | 90/99 [03:44<00:23,  2.64s/it]c:\\users\\nabe0\\desktop\\nabepy\\env\\lib\\site-packages\\ipykernel_launcher.py:114: RuntimeWarning: invalid value encountered in double_scalars\n",
      "c:\\users\\nabe0\\desktop\\nabepy\\env\\lib\\site-packages\\ipykernel_launcher.py:115: RuntimeWarning: invalid value encountered in longlong_scalars\n",
      " 93%|████████████████████████████████████████████████████████████████████████████████████████████████████████████████████████████████████████████████████████████████████████████████████████▉              | 92/99 [03:49<00:18,  2.63s/it]c:\\users\\nabe0\\desktop\\nabepy\\env\\lib\\site-packages\\ipykernel_launcher.py:114: RuntimeWarning: invalid value encountered in double_scalars\n",
      "c:\\users\\nabe0\\desktop\\nabepy\\env\\lib\\site-packages\\ipykernel_launcher.py:115: RuntimeWarning: invalid value encountered in longlong_scalars\n",
      " 94%|██████████████████████████████████████████████████████████████████████████████████████████████████████████████████████████████████████████████████████████████████████████████████████████▉            | 93/99 [03:51<00:15,  2.61s/it]c:\\users\\nabe0\\desktop\\nabepy\\env\\lib\\site-packages\\ipykernel_launcher.py:114: RuntimeWarning: invalid value encountered in double_scalars\n",
      "c:\\users\\nabe0\\desktop\\nabepy\\env\\lib\\site-packages\\ipykernel_launcher.py:115: RuntimeWarning: invalid value encountered in longlong_scalars\n",
      " 95%|████████████████████████████████████████████████████████████████████████████████████████████████████████████████████████████████████████████████████████████████████████████████████████████▉          | 94/99 [03:54<00:12,  2.59s/it]c:\\users\\nabe0\\desktop\\nabepy\\env\\lib\\site-packages\\ipykernel_launcher.py:114: RuntimeWarning: invalid value encountered in double_scalars\n",
      "c:\\users\\nabe0\\desktop\\nabepy\\env\\lib\\site-packages\\ipykernel_launcher.py:115: RuntimeWarning: invalid value encountered in longlong_scalars\n",
      " 96%|██████████████████████████████████████████████████████████████████████████████████████████████████████████████████████████████████████████████████████████████████████████████████████████████▉        | 95/99 [03:57<00:10,  2.59s/it]c:\\users\\nabe0\\desktop\\nabepy\\env\\lib\\site-packages\\ipykernel_launcher.py:114: RuntimeWarning: invalid value encountered in double_scalars\n",
      "c:\\users\\nabe0\\desktop\\nabepy\\env\\lib\\site-packages\\ipykernel_launcher.py:115: RuntimeWarning: invalid value encountered in longlong_scalars\n",
      " 97%|████████████████████████████████████████████████████████████████████████████████████████████████████████████████████████████████████████████████████████████████████████████████████████████████▉      | 96/99 [03:59<00:07,  2.60s/it]c:\\users\\nabe0\\desktop\\nabepy\\env\\lib\\site-packages\\ipykernel_launcher.py:114: RuntimeWarning: invalid value encountered in double_scalars\n",
      "c:\\users\\nabe0\\desktop\\nabepy\\env\\lib\\site-packages\\ipykernel_launcher.py:115: RuntimeWarning: invalid value encountered in longlong_scalars\n",
      " 99%|████████████████████████████████████████████████████████████████████████████████████████████████████████████████████████████████████████████████████████████████████████████████████████████████████▉  | 98/99 [04:04<00:02,  2.59s/it]c:\\users\\nabe0\\desktop\\nabepy\\env\\lib\\site-packages\\ipykernel_launcher.py:114: RuntimeWarning: invalid value encountered in double_scalars\n",
      "c:\\users\\nabe0\\desktop\\nabepy\\env\\lib\\site-packages\\ipykernel_launcher.py:115: RuntimeWarning: invalid value encountered in longlong_scalars\n",
      "100%|███████████████████████████████████████████████████████████████████████████████████████████████████████████████████████████████████████████████████████████████████████████████████████████████████████| 99/99 [04:07<00:00,  2.50s/it]\n",
      "100%|███████████████████████████████████████████████████████████████████████████████████████████████████████████████████████████████████████████████████████████████████████████████████████████████████████| 99/99 [04:18<00:00,  2.61s/it]\n",
      "100%|███████████████████████████████████████████████████████████████████████████████████████████████████████████████████████████████████████████████████████████████████████████████████████████████████████| 99/99 [05:30<00:00,  3.34s/it]\n",
      "100%|███████████████████████████████████████████████████████████████████████████████████████████████████████████████████████████████████████████████████████████████████████████████████████████████████████| 99/99 [06:02<00:00,  3.66s/it]\n",
      "100%|███████████████████████████████████████████████████████████████████████████████████████████████████████████████████████████████████████████████████████████████████████████████████████████████████████| 99/99 [06:21<00:00,  3.85s/it]\n",
      "  0%|                                                                                                                                                                                                                | 0/99 [00:00<?, ?it/s]"
     ]
    },
    {
     "name": "stdout",
     "output_type": "stream",
     "text": [
      "15.0\n"
     ]
    },
    {
     "name": "stderr",
     "output_type": "stream",
     "text": [
      " 88%|██████████████████████████████████████████████████████████████████████████████████████████████████████████████████████████████████████████████████████████████████████████████▉                        | 87/99 [04:17<00:36,  3.01s/it]c:\\users\\nabe0\\desktop\\nabepy\\env\\lib\\site-packages\\ipykernel_launcher.py:114: RuntimeWarning: invalid value encountered in double_scalars\n",
      "c:\\users\\nabe0\\desktop\\nabepy\\env\\lib\\site-packages\\ipykernel_launcher.py:115: RuntimeWarning: invalid value encountered in longlong_scalars\n",
      " 89%|████████████████████████████████████████████████████████████████████████████████████████████████████████████████████████████████████████████████████████████████████████████████▉                      | 88/99 [04:20<00:33,  3.03s/it]c:\\users\\nabe0\\desktop\\nabepy\\env\\lib\\site-packages\\ipykernel_launcher.py:114: RuntimeWarning: invalid value encountered in double_scalars\n",
      "c:\\users\\nabe0\\desktop\\nabepy\\env\\lib\\site-packages\\ipykernel_launcher.py:115: RuntimeWarning: invalid value encountered in longlong_scalars\n",
      " 90%|██████████████████████████████████████████████████████████████████████████████████████████████████████████████████████████████████████████████████████████████████████████████████▉                    | 89/99 [04:24<00:30,  3.05s/it]c:\\users\\nabe0\\desktop\\nabepy\\env\\lib\\site-packages\\ipykernel_launcher.py:114: RuntimeWarning: invalid value encountered in double_scalars\n",
      "c:\\users\\nabe0\\desktop\\nabepy\\env\\lib\\site-packages\\ipykernel_launcher.py:115: RuntimeWarning: invalid value encountered in longlong_scalars\n",
      " 91%|████████████████████████████████████████████████████████████████████████████████████████████████████████████████████████████████████████████████████████████████████████████████████▉                  | 90/99 [04:27<00:27,  3.03s/it]c:\\users\\nabe0\\desktop\\nabepy\\env\\lib\\site-packages\\ipykernel_launcher.py:114: RuntimeWarning: invalid value encountered in double_scalars\n",
      "c:\\users\\nabe0\\desktop\\nabepy\\env\\lib\\site-packages\\ipykernel_launcher.py:115: RuntimeWarning: invalid value encountered in longlong_scalars\n",
      " 92%|██████████████████████████████████████████████████████████████████████████████████████████████████████████████████████████████████████████████████████████████████████████████████████▉                | 91/99 [04:30<00:24,  3.03s/it]c:\\users\\nabe0\\desktop\\nabepy\\env\\lib\\site-packages\\ipykernel_launcher.py:114: RuntimeWarning: invalid value encountered in double_scalars\n",
      "c:\\users\\nabe0\\desktop\\nabepy\\env\\lib\\site-packages\\ipykernel_launcher.py:115: RuntimeWarning: invalid value encountered in longlong_scalars\n",
      " 93%|████████████████████████████████████████████████████████████████████████████████████████████████████████████████████████████████████████████████████████████████████████████████████████▉              | 92/99 [04:33<00:21,  3.02s/it]c:\\users\\nabe0\\desktop\\nabepy\\env\\lib\\site-packages\\ipykernel_launcher.py:114: RuntimeWarning: invalid value encountered in double_scalars\n",
      "c:\\users\\nabe0\\desktop\\nabepy\\env\\lib\\site-packages\\ipykernel_launcher.py:115: RuntimeWarning: invalid value encountered in longlong_scalars\n",
      " 94%|██████████████████████████████████████████████████████████████████████████████████████████████████████████████████████████████████████████████████████████████████████████████████████████▉            | 93/99 [04:36<00:18,  3.02s/it]c:\\users\\nabe0\\desktop\\nabepy\\env\\lib\\site-packages\\ipykernel_launcher.py:114: RuntimeWarning: invalid value encountered in double_scalars\n",
      "c:\\users\\nabe0\\desktop\\nabepy\\env\\lib\\site-packages\\ipykernel_launcher.py:115: RuntimeWarning: invalid value encountered in longlong_scalars\n",
      " 95%|████████████████████████████████████████████████████████████████████████████████████████████████████████████████████████████████████████████████████████████████████████████████████████████▉          | 94/99 [04:39<00:15,  3.04s/it]c:\\users\\nabe0\\desktop\\nabepy\\env\\lib\\site-packages\\ipykernel_launcher.py:114: RuntimeWarning: invalid value encountered in double_scalars\n",
      "c:\\users\\nabe0\\desktop\\nabepy\\env\\lib\\site-packages\\ipykernel_launcher.py:115: RuntimeWarning: invalid value encountered in longlong_scalars\n",
      " 96%|██████████████████████████████████████████████████████████████████████████████████████████████████████████████████████████████████████████████████████████████████████████████████████████████▉        | 95/99 [04:42<00:12,  3.04s/it]c:\\users\\nabe0\\desktop\\nabepy\\env\\lib\\site-packages\\ipykernel_launcher.py:114: RuntimeWarning: invalid value encountered in double_scalars\n",
      "c:\\users\\nabe0\\desktop\\nabepy\\env\\lib\\site-packages\\ipykernel_launcher.py:115: RuntimeWarning: invalid value encountered in longlong_scalars\n",
      " 97%|████████████████████████████████████████████████████████████████████████████████████████████████████████████████████████████████████████████████████████████████████████████████████████████████▉      | 96/99 [04:45<00:09,  3.02s/it]c:\\users\\nabe0\\desktop\\nabepy\\env\\lib\\site-packages\\ipykernel_launcher.py:114: RuntimeWarning: invalid value encountered in double_scalars\n",
      "c:\\users\\nabe0\\desktop\\nabepy\\env\\lib\\site-packages\\ipykernel_launcher.py:115: RuntimeWarning: invalid value encountered in longlong_scalars\n",
      " 98%|██████████████████████████████████████████████████████████████████████████████████████████████████████████████████████████████████████████████████████████████████████████████████████████████████▉    | 97/99 [04:48<00:06,  3.01s/it]c:\\users\\nabe0\\desktop\\nabepy\\env\\lib\\site-packages\\ipykernel_launcher.py:114: RuntimeWarning: invalid value encountered in double_scalars\n",
      "c:\\users\\nabe0\\desktop\\nabepy\\env\\lib\\site-packages\\ipykernel_launcher.py:115: RuntimeWarning: invalid value encountered in longlong_scalars\n",
      " 99%|████████████████████████████████████████████████████████████████████████████████████████████████████████████████████████████████████████████████████████████████████████████████████████████████████▉  | 98/99 [04:51<00:03,  3.04s/it]c:\\users\\nabe0\\desktop\\nabepy\\env\\lib\\site-packages\\ipykernel_launcher.py:114: RuntimeWarning: invalid value encountered in double_scalars\n",
      "c:\\users\\nabe0\\desktop\\nabepy\\env\\lib\\site-packages\\ipykernel_launcher.py:115: RuntimeWarning: invalid value encountered in longlong_scalars\n",
      "100%|███████████████████████████████████████████████████████████████████████████████████████████████████████████████████████████████████████████████████████████████████████████████████████████████████████| 99/99 [04:54<00:00,  2.97s/it]\n",
      " 99%|████████████████████████████████████████████████████████████████████████████████████████████████████████████████████████████████████████████████████████████████████████████████████████████████████▉  | 98/99 [05:01<00:03,  3.19s/it]c:\\users\\nabe0\\desktop\\nabepy\\env\\lib\\site-packages\\ipykernel_launcher.py:114: RuntimeWarning: invalid value encountered in double_scalars\n",
      "c:\\users\\nabe0\\desktop\\nabepy\\env\\lib\\site-packages\\ipykernel_launcher.py:115: RuntimeWarning: invalid value encountered in longlong_scalars\n",
      "100%|███████████████████████████████████████████████████████████████████████████████████████████████████████████████████████████████████████████████████████████████████████████████████████████████████████| 99/99 [05:04<00:00,  3.08s/it]\n",
      "100%|███████████████████████████████████████████████████████████████████████████████████████████████████████████████████████████████████████████████████████████████████████████████████████████████████████| 99/99 [05:16<00:00,  3.20s/it]\n",
      "100%|███████████████████████████████████████████████████████████████████████████████████████████████████████████████████████████████████████████████████████████████████████████████████████████████████████| 99/99 [05:37<00:00,  3.41s/it]\n",
      "100%|███████████████████████████████████████████████████████████████████████████████████████████████████████████████████████████████████████████████████████████████████████████████████████████████████████| 99/99 [05:44<00:00,  3.48s/it]\n",
      "  0%|                                                                                                                                                                                                                | 0/99 [00:00<?, ?it/s]"
     ]
    },
    {
     "name": "stdout",
     "output_type": "stream",
     "text": [
      "16.0\n"
     ]
    },
    {
     "name": "stderr",
     "output_type": "stream",
     "text": [
      "100%|███████████████████████████████████████████████████████████████████████████████████████████████████████████████████████████████████████████████████████████████████████████████████████████████████████| 99/99 [04:37<00:00,  2.81s/it]\n",
      "100%|███████████████████████████████████████████████████████████████████████████████████████████████████████████████████████████████████████████████████████████████████████████████████████████████████████| 99/99 [04:49<00:00,  2.92s/it]\n",
      "100%|███████████████████████████████████████████████████████████████████████████████████████████████████████████████████████████████████████████████████████████████████████████████████████████████████████| 99/99 [04:52<00:00,  2.95s/it]\n",
      "100%|███████████████████████████████████████████████████████████████████████████████████████████████████████████████████████████████████████████████████████████████████████████████████████████████████████| 99/99 [05:02<00:00,  3.05s/it]\n",
      "100%|███████████████████████████████████████████████████████████████████████████████████████████████████████████████████████████████████████████████████████████████████████████████████████████████████████| 99/99 [05:11<00:00,  3.15s/it]\n",
      "  0%|                                                                                                                                                                                                                | 0/99 [00:00<?, ?it/s]"
     ]
    },
    {
     "name": "stdout",
     "output_type": "stream",
     "text": [
      "17.0\n"
     ]
    },
    {
     "name": "stderr",
     "output_type": "stream",
     "text": [
      " 97%|████████████████████████████████████████████████████████████████████████████████████████████████████████████████████████████████████████████████████████████████████████████████████████████████▉      | 96/99 [04:25<00:08,  2.84s/it]c:\\users\\nabe0\\desktop\\nabepy\\env\\lib\\site-packages\\ipykernel_launcher.py:114: RuntimeWarning: invalid value encountered in double_scalars\n",
      "c:\\users\\nabe0\\desktop\\nabepy\\env\\lib\\site-packages\\ipykernel_launcher.py:115: RuntimeWarning: invalid value encountered in longlong_scalars\n",
      " 98%|██████████████████████████████████████████████████████████████████████████████████████████████████████████████████████████████████████████████████████████████████████████████████████████████████▉    | 97/99 [04:28<00:05,  2.84s/it]c:\\users\\nabe0\\desktop\\nabepy\\env\\lib\\site-packages\\ipykernel_launcher.py:114: RuntimeWarning: invalid value encountered in double_scalars\n",
      "c:\\users\\nabe0\\desktop\\nabepy\\env\\lib\\site-packages\\ipykernel_launcher.py:115: RuntimeWarning: invalid value encountered in longlong_scalars\n",
      " 99%|████████████████████████████████████████████████████████████████████████████████████████████████████████████████████████████████████████████████████████████████████████████████████████████████████▉  | 98/99 [04:31<00:02,  2.85s/it]c:\\users\\nabe0\\desktop\\nabepy\\env\\lib\\site-packages\\ipykernel_launcher.py:114: RuntimeWarning: invalid value encountered in double_scalars\n",
      "c:\\users\\nabe0\\desktop\\nabepy\\env\\lib\\site-packages\\ipykernel_launcher.py:115: RuntimeWarning: invalid value encountered in longlong_scalars\n",
      "100%|███████████████████████████████████████████████████████████████████████████████████████████████████████████████████████████████████████████████████████████████████████████████████████████████████████| 99/99 [04:33<00:00,  2.77s/it]\n",
      "100%|███████████████████████████████████████████████████████████████████████████████████████████████████████████████████████████████████████████████████████████████████████████████████████████████████████| 99/99 [04:42<00:00,  2.86s/it]\n",
      "100%|███████████████████████████████████████████████████████████████████████████████████████████████████████████████████████████████████████████████████████████████████████████████████████████████████████| 99/99 [04:53<00:00,  2.97s/it]\n",
      "100%|███████████████████████████████████████████████████████████████████████████████████████████████████████████████████████████████████████████████████████████████████████████████████████████████████████| 99/99 [04:59<00:00,  3.02s/it]\n",
      "100%|███████████████████████████████████████████████████████████████████████████████████████████████████████████████████████████████████████████████████████████████████████████████████████████████████████| 99/99 [05:08<00:00,  3.12s/it]\n",
      "  0%|                                                                                                                                                                                                                | 0/99 [00:00<?, ?it/s]"
     ]
    },
    {
     "name": "stdout",
     "output_type": "stream",
     "text": [
      "18.0\n"
     ]
    },
    {
     "name": "stderr",
     "output_type": "stream",
     "text": [
      "100%|███████████████████████████████████████████████████████████████████████████████████████████████████████████████████████████████████████████████████████████████████████████████████████████████████████| 99/99 [04:36<00:00,  2.79s/it]\n",
      "100%|███████████████████████████████████████████████████████████████████████████████████████████████████████████████████████████████████████████████████████████████████████████████████████████████████████| 99/99 [04:39<00:00,  2.82s/it]\n",
      "100%|███████████████████████████████████████████████████████████████████████████████████████████████████████████████████████████████████████████████████████████████████████████████████████████████████████| 99/99 [04:47<00:00,  2.90s/it]\n",
      "100%|███████████████████████████████████████████████████████████████████████████████████████████████████████████████████████████████████████████████████████████████████████████████████████████████████████| 99/99 [04:58<00:00,  3.02s/it]\n",
      "100%|███████████████████████████████████████████████████████████████████████████████████████████████████████████████████████████████████████████████████████████████████████████████████████████████████████| 99/99 [05:02<00:00,  3.05s/it]\n",
      "  0%|                                                                                                                                                                                                                | 0/99 [00:00<?, ?it/s]"
     ]
    },
    {
     "name": "stdout",
     "output_type": "stream",
     "text": [
      "19.0\n"
     ]
    },
    {
     "name": "stderr",
     "output_type": "stream",
     "text": [
      "100%|███████████████████████████████████████████████████████████████████████████████████████████████████████████████████████████████████████████████████████████████████████████████████████████████████████| 99/99 [04:32<00:00,  2.76s/it]\n",
      "100%|███████████████████████████████████████████████████████████████████████████████████████████████████████████████████████████████████████████████████████████████████████████████████████████████████████| 99/99 [04:43<00:00,  2.86s/it]\n",
      "100%|███████████████████████████████████████████████████████████████████████████████████████████████████████████████████████████████████████████████████████████████████████████████████████████████████████| 99/99 [04:49<00:00,  2.93s/it]\n",
      "100%|███████████████████████████████████████████████████████████████████████████████████████████████████████████████████████████████████████████████████████████████████████████████████████████████████████| 99/99 [04:57<00:00,  3.01s/it]\n",
      "100%|███████████████████████████████████████████████████████████████████████████████████████████████████████████████████████████████████████████████████████████████████████████████████████████████████████| 99/99 [05:09<00:00,  3.13s/it]\n",
      "  0%|                                                                                                                                                                                                                | 0/99 [00:00<?, ?it/s]"
     ]
    },
    {
     "name": "stdout",
     "output_type": "stream",
     "text": [
      "20.0\n"
     ]
    },
    {
     "name": "stderr",
     "output_type": "stream",
     "text": [
      "100%|███████████████████████████████████████████████████████████████████████████████████████████████████████████████████████████████████████████████████████████████████████████████████████████████████████| 99/99 [04:22<00:00,  2.65s/it]\n",
      "100%|███████████████████████████████████████████████████████████████████████████████████████████████████████████████████████████████████████████████████████████████████████████████████████████████████████| 99/99 [04:28<00:00,  2.72s/it]\n",
      "100%|███████████████████████████████████████████████████████████████████████████████████████████████████████████████████████████████████████████████████████████████████████████████████████████████████████| 99/99 [04:36<00:00,  2.79s/it]\n",
      "100%|███████████████████████████████████████████████████████████████████████████████████████████████████████████████████████████████████████████████████████████████████████████████████████████████████████| 99/99 [04:40<00:00,  2.84s/it]\n",
      "100%|███████████████████████████████████████████████████████████████████████████████████████████████████████████████████████████████████████████████████████████████████████████████████████████████████████| 99/99 [04:45<00:00,  2.88s/it]\n",
      "  0%|                                                                                                                                                                                                                | 0/99 [00:00<?, ?it/s]"
     ]
    },
    {
     "name": "stdout",
     "output_type": "stream",
     "text": [
      "21.0\n"
     ]
    },
    {
     "name": "stderr",
     "output_type": "stream",
     "text": [
      " 96%|██████████████████████████████████████████████████████████████████████████████████████████████████████████████████████████████████████████████████████████████████████████████████████████████▉        | 95/99 [04:56<00:13,  3.30s/it]c:\\users\\nabe0\\desktop\\nabepy\\env\\lib\\site-packages\\ipykernel_launcher.py:114: RuntimeWarning: invalid value encountered in double_scalars\n",
      "c:\\users\\nabe0\\desktop\\nabepy\\env\\lib\\site-packages\\ipykernel_launcher.py:115: RuntimeWarning: invalid value encountered in longlong_scalars\n",
      " 99%|████████████████████████████████████████████████████████████████████████████████████████████████████████████████████████████████████████████████████████████████████████████████████████████████████▉  | 98/99 [05:06<00:03,  3.26s/it]c:\\users\\nabe0\\desktop\\nabepy\\env\\lib\\site-packages\\ipykernel_launcher.py:114: RuntimeWarning: invalid value encountered in double_scalars\n",
      "c:\\users\\nabe0\\desktop\\nabepy\\env\\lib\\site-packages\\ipykernel_launcher.py:115: RuntimeWarning: invalid value encountered in longlong_scalars\n",
      "100%|███████████████████████████████████████████████████████████████████████████████████████████████████████████████████████████████████████████████████████████████████████████████████████████████████████| 99/99 [05:09<00:00,  3.13s/it]\n",
      "100%|███████████████████████████████████████████████████████████████████████████████████████████████████████████████████████████████████████████████████████████████████████████████████████████████████████| 99/99 [05:27<00:00,  3.31s/it]\n",
      "100%|███████████████████████████████████████████████████████████████████████████████████████████████████████████████████████████████████████████████████████████████████████████████████████████████████████| 99/99 [05:41<00:00,  3.45s/it]\n",
      "100%|███████████████████████████████████████████████████████████████████████████████████████████████████████████████████████████████████████████████████████████████████████████████████████████████████████| 99/99 [06:01<00:00,  3.65s/it]\n",
      "100%|███████████████████████████████████████████████████████████████████████████████████████████████████████████████████████████████████████████████████████████████████████████████████████████████████████| 99/99 [06:17<00:00,  3.81s/it]\n",
      "  0%|                                                                                                                                                                                                                | 0/99 [00:00<?, ?it/s]"
     ]
    },
    {
     "name": "stdout",
     "output_type": "stream",
     "text": [
      "22.0\n"
     ]
    },
    {
     "name": "stderr",
     "output_type": "stream",
     "text": [
      " 99%|████████████████████████████████████████████████████████████████████████████████████████████████████████████████████████████████████████████████████████████████████████████████████████████████████▉  | 98/99 [04:54<00:03,  3.08s/it]c:\\users\\nabe0\\desktop\\nabepy\\env\\lib\\site-packages\\ipykernel_launcher.py:114: RuntimeWarning: invalid value encountered in double_scalars\n",
      "c:\\users\\nabe0\\desktop\\nabepy\\env\\lib\\site-packages\\ipykernel_launcher.py:115: RuntimeWarning: invalid value encountered in longlong_scalars\n",
      "100%|███████████████████████████████████████████████████████████████████████████████████████████████████████████████████████████████████████████████████████████████████████████████████████████████████████| 99/99 [04:57<00:00,  3.00s/it]\n",
      "100%|███████████████████████████████████████████████████████████████████████████████████████████████████████████████████████████████████████████████████████████████████████████████████████████████████████| 99/99 [05:14<00:00,  3.18s/it]\n",
      "100%|███████████████████████████████████████████████████████████████████████████████████████████████████████████████████████████████████████████████████████████████████████████████████████████████████████| 99/99 [05:25<00:00,  3.29s/it]\n",
      "100%|███████████████████████████████████████████████████████████████████████████████████████████████████████████████████████████████████████████████████████████████████████████████████████████████████████| 99/99 [05:43<00:00,  3.47s/it]\n",
      "100%|███████████████████████████████████████████████████████████████████████████████████████████████████████████████████████████████████████████████████████████████████████████████████████████████████████| 99/99 [06:00<00:00,  3.64s/it]\n",
      "  0%|                                                                                                                                                                                                                | 0/99 [00:00<?, ?it/s]"
     ]
    },
    {
     "name": "stdout",
     "output_type": "stream",
     "text": [
      "23.0\n"
     ]
    },
    {
     "name": "stderr",
     "output_type": "stream",
     "text": [
      "100%|███████████████████████████████████████████████████████████████████████████████████████████████████████████████████████████████████████████████████████████████████████████████████████████████████████| 99/99 [04:43<00:00,  2.86s/it]\n",
      "100%|███████████████████████████████████████████████████████████████████████████████████████████████████████████████████████████████████████████████████████████████████████████████████████████████████████| 99/99 [04:52<00:00,  2.96s/it]\n",
      "100%|███████████████████████████████████████████████████████████████████████████████████████████████████████████████████████████████████████████████████████████████████████████████████████████████████████| 99/99 [05:01<00:00,  3.05s/it]\n",
      "100%|███████████████████████████████████████████████████████████████████████████████████████████████████████████████████████████████████████████████████████████████████████████████████████████████████████| 99/99 [05:11<00:00,  3.14s/it]\n",
      "100%|███████████████████████████████████████████████████████████████████████████████████████████████████████████████████████████████████████████████████████████████████████████████████████████████████████| 99/99 [05:23<00:00,  3.27s/it]\n",
      "  0%|                                                                                                                                                                                                                | 0/99 [00:00<?, ?it/s]"
     ]
    },
    {
     "name": "stdout",
     "output_type": "stream",
     "text": [
      "24.0\n"
     ]
    },
    {
     "name": "stderr",
     "output_type": "stream",
     "text": [
      "100%|███████████████████████████████████████████████████████████████████████████████████████████████████████████████████████████████████████████████████████████████████████████████████████████████████████| 99/99 [04:33<00:00,  2.76s/it]\n",
      "100%|███████████████████████████████████████████████████████████████████████████████████████████████████████████████████████████████████████████████████████████████████████████████████████████████████████| 99/99 [04:54<00:00,  2.98s/it]\n",
      "100%|███████████████████████████████████████████████████████████████████████████████████████████████████████████████████████████████████████████████████████████████████████████████████████████████████████| 99/99 [04:55<00:00,  2.99s/it]\n",
      "100%|███████████████████████████████████████████████████████████████████████████████████████████████████████████████████████████████████████████████████████████████████████████████████████████████████████| 99/99 [04:59<00:00,  3.02s/it]\n",
      "100%|███████████████████████████████████████████████████████████████████████████████████████████████████████████████████████████████████████████████████████████████████████████████████████████████████████| 99/99 [05:07<00:00,  3.11s/it]\n",
      "  0%|                                                                                                                                                                                                                | 0/99 [00:00<?, ?it/s]"
     ]
    },
    {
     "name": "stdout",
     "output_type": "stream",
     "text": [
      "25.0\n"
     ]
    },
    {
     "name": "stderr",
     "output_type": "stream",
     "text": [
      "100%|███████████████████████████████████████████████████████████████████████████████████████████████████████████████████████████████████████████████████████████████████████████████████████████████████████| 99/99 [04:31<00:00,  2.74s/it]\n",
      "100%|███████████████████████████████████████████████████████████████████████████████████████████████████████████████████████████████████████████████████████████████████████████████████████████████████████| 99/99 [04:39<00:00,  2.82s/it]\n",
      "100%|███████████████████████████████████████████████████████████████████████████████████████████████████████████████████████████████████████████████████████████████████████████████████████████████████████| 99/99 [04:44<00:00,  2.87s/it]\n",
      "100%|███████████████████████████████████████████████████████████████████████████████████████████████████████████████████████████████████████████████████████████████████████████████████████████████████████| 99/99 [04:53<00:00,  2.96s/it]\n",
      "100%|███████████████████████████████████████████████████████████████████████████████████████████████████████████████████████████████████████████████████████████████████████████████████████████████████████| 99/99 [05:01<00:00,  3.05s/it]\n",
      "  0%|                                                                                                                                                                                                                | 0/99 [00:00<?, ?it/s]"
     ]
    },
    {
     "name": "stdout",
     "output_type": "stream",
     "text": [
      "26.0\n"
     ]
    },
    {
     "name": "stderr",
     "output_type": "stream",
     "text": [
      "100%|███████████████████████████████████████████████████████████████████████████████████████████████████████████████████████████████████████████████████████████████████████████████████████████████████████| 99/99 [04:20<00:00,  2.63s/it]\n",
      "100%|███████████████████████████████████████████████████████████████████████████████████████████████████████████████████████████████████████████████████████████████████████████████████████████████████████| 99/99 [04:25<00:00,  2.68s/it]\n",
      "100%|███████████████████████████████████████████████████████████████████████████████████████████████████████████████████████████████████████████████████████████████████████████████████████████████████████| 99/99 [04:32<00:00,  2.75s/it]\n",
      "100%|███████████████████████████████████████████████████████████████████████████████████████████████████████████████████████████████████████████████████████████████████████████████████████████████████████| 99/99 [04:35<00:00,  2.78s/it]\n",
      "100%|███████████████████████████████████████████████████████████████████████████████████████████████████████████████████████████████████████████████████████████████████████████████████████████████████████| 99/99 [04:39<00:00,  2.83s/it]\n",
      "  0%|                                                                                                                                                                                                                | 0/99 [00:00<?, ?it/s]"
     ]
    },
    {
     "name": "stdout",
     "output_type": "stream",
     "text": [
      "27.0\n"
     ]
    },
    {
     "name": "stderr",
     "output_type": "stream",
     "text": [
      "100%|███████████████████████████████████████████████████████████████████████████████████████████████████████████████████████████████████████████████████████████████████████████████████████████████████████| 99/99 [04:23<00:00,  2.66s/it]\n",
      "100%|███████████████████████████████████████████████████████████████████████████████████████████████████████████████████████████████████████████████████████████████████████████████████████████████████████| 99/99 [04:26<00:00,  2.69s/it]\n",
      "100%|███████████████████████████████████████████████████████████████████████████████████████████████████████████████████████████████████████████████████████████████████████████████████████████████████████| 99/99 [04:31<00:00,  2.74s/it]\n",
      "100%|███████████████████████████████████████████████████████████████████████████████████████████████████████████████████████████████████████████████████████████████████████████████████████████████████████| 99/99 [04:45<00:00,  2.89s/it]\n",
      "100%|███████████████████████████████████████████████████████████████████████████████████████████████████████████████████████████████████████████████████████████████████████████████████████████████████████| 99/99 [04:45<00:00,  2.88s/it]\n",
      "  0%|                                                                                                                                                                                                                | 0/99 [00:00<?, ?it/s]"
     ]
    },
    {
     "name": "stdout",
     "output_type": "stream",
     "text": [
      "28.0\n"
     ]
    },
    {
     "name": "stderr",
     "output_type": "stream",
     "text": [
      "100%|███████████████████████████████████████████████████████████████████████████████████████████████████████████████████████████████████████████████████████████████████████████████████████████████████████| 99/99 [04:19<00:00,  2.62s/it]\n",
      "100%|███████████████████████████████████████████████████████████████████████████████████████████████████████████████████████████████████████████████████████████████████████████████████████████████████████| 99/99 [04:20<00:00,  2.63s/it]\n",
      "100%|███████████████████████████████████████████████████████████████████████████████████████████████████████████████████████████████████████████████████████████████████████████████████████████████████████| 99/99 [04:30<00:00,  2.73s/it]\n",
      "100%|███████████████████████████████████████████████████████████████████████████████████████████████████████████████████████████████████████████████████████████████████████████████████████████████████████| 99/99 [04:30<00:00,  2.74s/it]\n",
      "100%|███████████████████████████████████████████████████████████████████████████████████████████████████████████████████████████████████████████████████████████████████████████████████████████████████████| 99/99 [04:35<00:00,  2.78s/it]\n",
      "  0%|                                                                                                                                                                                                                | 0/99 [00:00<?, ?it/s]"
     ]
    },
    {
     "name": "stdout",
     "output_type": "stream",
     "text": [
      "29.0\n"
     ]
    },
    {
     "name": "stderr",
     "output_type": "stream",
     "text": [
      "100%|███████████████████████████████████████████████████████████████████████████████████████████████████████████████████████████████████████████████████████████████████████████████████████████████████████| 99/99 [04:26<00:00,  2.70s/it]\n",
      "100%|███████████████████████████████████████████████████████████████████████████████████████████████████████████████████████████████████████████████████████████████████████████████████████████████████████| 99/99 [04:31<00:00,  2.74s/it]\n",
      "100%|███████████████████████████████████████████████████████████████████████████████████████████████████████████████████████████████████████████████████████████████████████████████████████████████████████| 99/99 [04:37<00:00,  2.80s/it]\n",
      "100%|███████████████████████████████████████████████████████████████████████████████████████████████████████████████████████████████████████████████████████████████████████████████████████████████████████| 99/99 [04:45<00:00,  2.88s/it]\n",
      "100%|███████████████████████████████████████████████████████████████████████████████████████████████████████████████████████████████████████████████████████████████████████████████████████████████████████| 99/99 [04:52<00:00,  2.95s/it]\n",
      "  0%|                                                                                                                                                                                                                | 0/99 [00:00<?, ?it/s]"
     ]
    },
    {
     "name": "stdout",
     "output_type": "stream",
     "text": [
      "30.0\n"
     ]
    },
    {
     "name": "stderr",
     "output_type": "stream",
     "text": [
      "100%|███████████████████████████████████████████████████████████████████████████████████████████████████████████████████████████████████████████████████████████████████████████████████████████████████████| 99/99 [04:18<00:00,  2.61s/it]\n",
      "100%|███████████████████████████████████████████████████████████████████████████████████████████████████████████████████████████████████████████████████████████████████████████████████████████████████████| 99/99 [04:24<00:00,  2.67s/it]\n",
      "100%|███████████████████████████████████████████████████████████████████████████████████████████████████████████████████████████████████████████████████████████████████████████████████████████████████████| 99/99 [04:32<00:00,  2.76s/it]\n",
      "100%|███████████████████████████████████████████████████████████████████████████████████████████████████████████████████████████████████████████████████████████████████████████████████████████████████████| 99/99 [04:33<00:00,  2.76s/it]\n",
      "100%|███████████████████████████████████████████████████████████████████████████████████████████████████████████████████████████████████████████████████████████████████████████████████████████████████████| 99/99 [04:38<00:00,  2.82s/it]\n",
      "  0%|                                                                                                                                                                                                                | 0/99 [00:00<?, ?it/s]"
     ]
    },
    {
     "name": "stdout",
     "output_type": "stream",
     "text": [
      "31.0\n"
     ]
    },
    {
     "name": "stderr",
     "output_type": "stream",
     "text": [
      "100%|███████████████████████████████████████████████████████████████████████████████████████████████████████████████████████████████████████████████████████████████████████████████████████████████████████| 99/99 [04:19<00:00,  2.62s/it]\n",
      "100%|███████████████████████████████████████████████████████████████████████████████████████████████████████████████████████████████████████████████████████████████████████████████████████████████████████| 99/99 [04:19<00:00,  2.62s/it]\n",
      "100%|███████████████████████████████████████████████████████████████████████████████████████████████████████████████████████████████████████████████████████████████████████████████████████████████████████| 99/99 [04:23<00:00,  2.67s/it]\n",
      "100%|███████████████████████████████████████████████████████████████████████████████████████████████████████████████████████████████████████████████████████████████████████████████████████████████████████| 99/99 [04:29<00:00,  2.72s/it]\n",
      "100%|███████████████████████████████████████████████████████████████████████████████████████████████████████████████████████████████████████████████████████████████████████████████████████████████████████| 99/99 [04:30<00:00,  2.73s/it]\n",
      "  0%|                                                                                                                                                                                                                | 0/99 [00:00<?, ?it/s]"
     ]
    },
    {
     "name": "stdout",
     "output_type": "stream",
     "text": [
      "32.0\n"
     ]
    },
    {
     "name": "stderr",
     "output_type": "stream",
     "text": [
      "100%|███████████████████████████████████████████████████████████████████████████████████████████████████████████████████████████████████████████████████████████████████████████████████████████████████████| 99/99 [04:13<00:00,  2.56s/it]\n",
      "100%|███████████████████████████████████████████████████████████████████████████████████████████████████████████████████████████████████████████████████████████████████████████████████████████████████████| 99/99 [04:14<00:00,  2.57s/it]\n",
      "100%|███████████████████████████████████████████████████████████████████████████████████████████████████████████████████████████████████████████████████████████████████████████████████████████████████████| 99/99 [04:20<00:00,  2.63s/it]\n",
      "100%|███████████████████████████████████████████████████████████████████████████████████████████████████████████████████████████████████████████████████████████████████████████████████████████████████████| 99/99 [04:20<00:00,  2.64s/it]\n",
      "100%|███████████████████████████████████████████████████████████████████████████████████████████████████████████████████████████████████████████████████████████████████████████████████████████████████████| 99/99 [04:22<00:00,  2.65s/it]\n",
      "  0%|                                                                                                                                                                                                                | 0/99 [00:00<?, ?it/s]"
     ]
    },
    {
     "name": "stdout",
     "output_type": "stream",
     "text": [
      "33.0\n"
     ]
    },
    {
     "name": "stderr",
     "output_type": "stream",
     "text": [
      "100%|███████████████████████████████████████████████████████████████████████████████████████████████████████████████████████████████████████████████████████████████████████████████████████████████████████| 99/99 [04:19<00:00,  2.63s/it]\n",
      "100%|███████████████████████████████████████████████████████████████████████████████████████████████████████████████████████████████████████████████████████████████████████████████████████████████████████| 99/99 [04:23<00:00,  2.66s/it]\n",
      "100%|███████████████████████████████████████████████████████████████████████████████████████████████████████████████████████████████████████████████████████████████████████████████████████████████████████| 99/99 [04:27<00:00,  2.70s/it]\n",
      "100%|███████████████████████████████████████████████████████████████████████████████████████████████████████████████████████████████████████████████████████████████████████████████████████████████████████| 99/99 [04:31<00:00,  2.74s/it]\n",
      "100%|███████████████████████████████████████████████████████████████████████████████████████████████████████████████████████████████████████████████████████████████████████████████████████████████████████| 99/99 [04:38<00:00,  2.81s/it]\n",
      "  0%|                                                                                                                                                                                                                | 0/99 [00:00<?, ?it/s]"
     ]
    },
    {
     "name": "stdout",
     "output_type": "stream",
     "text": [
      "34.0\n"
     ]
    },
    {
     "name": "stderr",
     "output_type": "stream",
     "text": [
      "100%|███████████████████████████████████████████████████████████████████████████████████████████████████████████████████████████████████████████████████████████████████████████████████████████████████████| 99/99 [04:15<00:00,  2.58s/it]\n",
      "100%|███████████████████████████████████████████████████████████████████████████████████████████████████████████████████████████████████████████████████████████████████████████████████████████████████████| 99/99 [04:23<00:00,  2.66s/it]\n",
      "100%|███████████████████████████████████████████████████████████████████████████████████████████████████████████████████████████████████████████████████████████████████████████████████████████████████████| 99/99 [04:05<00:00,  2.48s/it]\n",
      "100%|███████████████████████████████████████████████████████████████████████████████████████████████████████████████████████████████████████████████████████████████████████████████████████████████████████| 99/99 [03:32<00:00,  2.15s/it]\n",
      "100%|███████████████████████████████████████████████████████████████████████████████████████████████████████████████████████████████████████████████████████████████████████████████████████████████████████| 99/99 [03:34<00:00,  2.16s/it]\n",
      "  0%|                                                                                                                                                                                                                | 0/99 [00:00<?, ?it/s]"
     ]
    },
    {
     "name": "stdout",
     "output_type": "stream",
     "text": [
      "35.0\n"
     ]
    },
    {
     "name": "stderr",
     "output_type": "stream",
     "text": [
      "100%|███████████████████████████████████████████████████████████████████████████████████████████████████████████████████████████████████████████████████████████████████████████████████████████████████████| 99/99 [03:23<00:00,  2.06s/it]\n",
      "100%|███████████████████████████████████████████████████████████████████████████████████████████████████████████████████████████████████████████████████████████████████████████████████████████████████████| 99/99 [03:30<00:00,  2.13s/it]\n",
      "100%|███████████████████████████████████████████████████████████████████████████████████████████████████████████████████████████████████████████████████████████████████████████████████████████████████████| 99/99 [04:22<00:00,  2.65s/it]\n",
      "100%|███████████████████████████████████████████████████████████████████████████████████████████████████████████████████████████████████████████████████████████████████████████████████████████████████████| 99/99 [04:24<00:00,  2.67s/it]\n",
      "100%|███████████████████████████████████████████████████████████████████████████████████████████████████████████████████████████████████████████████████████████████████████████████████████████████████████| 99/99 [04:16<00:00,  2.59s/it]\n",
      "  0%|                                                                                                                                                                                                                | 0/99 [00:00<?, ?it/s]"
     ]
    },
    {
     "name": "stdout",
     "output_type": "stream",
     "text": [
      "36.0\n"
     ]
    },
    {
     "name": "stderr",
     "output_type": "stream",
     "text": [
      "100%|███████████████████████████████████████████████████████████████████████████████████████████████████████████████████████████████████████████████████████████████████████████████████████████████████████| 99/99 [03:45<00:00,  2.28s/it]\n",
      "100%|███████████████████████████████████████████████████████████████████████████████████████████████████████████████████████████████████████████████████████████████████████████████████████████████████████| 99/99 [03:25<00:00,  2.07s/it]\n",
      "100%|███████████████████████████████████████████████████████████████████████████████████████████████████████████████████████████████████████████████████████████████████████████████████████████████████████| 99/99 [03:24<00:00,  2.06s/it]\n",
      "100%|███████████████████████████████████████████████████████████████████████████████████████████████████████████████████████████████████████████████████████████████████████████████████████████████████████| 99/99 [03:27<00:00,  2.10s/it]\n",
      "100%|███████████████████████████████████████████████████████████████████████████████████████████████████████████████████████████████████████████████████████████████████████████████████████████████████████| 99/99 [04:21<00:00,  2.64s/it]\n",
      "  0%|                                                                                                                                                                                                                | 0/99 [00:00<?, ?it/s]"
     ]
    },
    {
     "name": "stdout",
     "output_type": "stream",
     "text": [
      "37.0\n"
     ]
    },
    {
     "name": "stderr",
     "output_type": "stream",
     "text": [
      "100%|███████████████████████████████████████████████████████████████████████████████████████████████████████████████████████████████████████████████████████████████████████████████████████████████████████| 99/99 [04:13<00:00,  2.56s/it]\n",
      "100%|███████████████████████████████████████████████████████████████████████████████████████████████████████████████████████████████████████████████████████████████████████████████████████████████████████| 99/99 [04:16<00:00,  2.59s/it]\n",
      "100%|███████████████████████████████████████████████████████████████████████████████████████████████████████████████████████████████████████████████████████████████████████████████████████████████████████| 99/99 [04:22<00:00,  2.65s/it]\n",
      "100%|███████████████████████████████████████████████████████████████████████████████████████████████████████████████████████████████████████████████████████████████████████████████████████████████████████| 99/99 [04:28<00:00,  2.71s/it]\n",
      "100%|███████████████████████████████████████████████████████████████████████████████████████████████████████████████████████████████████████████████████████████████████████████████████████████████████████| 99/99 [04:25<00:00,  2.68s/it]\n",
      "  0%|                                                                                                                                                                                                                | 0/99 [00:00<?, ?it/s]"
     ]
    },
    {
     "name": "stdout",
     "output_type": "stream",
     "text": [
      "38.0\n"
     ]
    },
    {
     "name": "stderr",
     "output_type": "stream",
     "text": [
      "100%|███████████████████████████████████████████████████████████████████████████████████████████████████████████████████████████████████████████████████████████████████████████████████████████████████████| 99/99 [04:12<00:00,  2.55s/it]\n",
      "100%|███████████████████████████████████████████████████████████████████████████████████████████████████████████████████████████████████████████████████████████████████████████████████████████████████████| 99/99 [04:17<00:00,  2.61s/it]\n",
      "100%|███████████████████████████████████████████████████████████████████████████████████████████████████████████████████████████████████████████████████████████████████████████████████████████████████████| 99/99 [04:19<00:00,  2.62s/it]\n",
      "100%|███████████████████████████████████████████████████████████████████████████████████████████████████████████████████████████████████████████████████████████████████████████████████████████████████████| 99/99 [04:22<00:00,  2.65s/it]\n",
      "100%|███████████████████████████████████████████████████████████████████████████████████████████████████████████████████████████████████████████████████████████████████████████████████████████████████████| 99/99 [04:29<00:00,  2.72s/it]\n",
      "  0%|                                                                                                                                                                                                                | 0/99 [00:00<?, ?it/s]"
     ]
    },
    {
     "name": "stdout",
     "output_type": "stream",
     "text": [
      "39.0\n"
     ]
    },
    {
     "name": "stderr",
     "output_type": "stream",
     "text": [
      "100%|███████████████████████████████████████████████████████████████████████████████████████████████████████████████████████████████████████████████████████████████████████████████████████████████████████| 99/99 [04:23<00:00,  2.66s/it]\n",
      "100%|███████████████████████████████████████████████████████████████████████████████████████████████████████████████████████████████████████████████████████████████████████████████████████████████████████| 99/99 [04:20<00:00,  2.63s/it]\n",
      "100%|███████████████████████████████████████████████████████████████████████████████████████████████████████████████████████████████████████████████████████████████████████████████████████████████████████| 99/99 [04:16<00:00,  2.59s/it]\n",
      "100%|███████████████████████████████████████████████████████████████████████████████████████████████████████████████████████████████████████████████████████████████████████████████████████████████████████| 99/99 [04:20<00:00,  2.63s/it]\n",
      "100%|███████████████████████████████████████████████████████████████████████████████████████████████████████████████████████████████████████████████████████████████████████████████████████████████████████| 99/99 [04:21<00:00,  2.64s/it]\n",
      "  0%|                                                                                                                                                                                                                | 0/99 [00:00<?, ?it/s]"
     ]
    },
    {
     "name": "stdout",
     "output_type": "stream",
     "text": [
      "41.0\n"
     ]
    },
    {
     "name": "stderr",
     "output_type": "stream",
     "text": [
      "100%|███████████████████████████████████████████████████████████████████████████████████████████████████████████████████████████████████████████████████████████████████████████████████████████████████████| 99/99 [04:34<00:00,  2.78s/it]\n",
      "100%|███████████████████████████████████████████████████████████████████████████████████████████████████████████████████████████████████████████████████████████████████████████████████████████████████████| 99/99 [04:45<00:00,  2.89s/it]\n",
      "100%|███████████████████████████████████████████████████████████████████████████████████████████████████████████████████████████████████████████████████████████████████████████████████████████████████████| 99/99 [04:52<00:00,  2.96s/it]\n",
      "100%|███████████████████████████████████████████████████████████████████████████████████████████████████████████████████████████████████████████████████████████████████████████████████████████████████████| 99/99 [04:58<00:00,  3.02s/it]\n",
      "100%|███████████████████████████████████████████████████████████████████████████████████████████████████████████████████████████████████████████████████████████████████████████████████████████████████████| 99/99 [05:08<00:00,  3.12s/it]\n",
      "  0%|                                                                                                                                                                                                                | 0/99 [00:00<?, ?it/s]"
     ]
    },
    {
     "name": "stdout",
     "output_type": "stream",
     "text": [
      "42.0\n"
     ]
    },
    {
     "name": "stderr",
     "output_type": "stream",
     "text": [
      " 96%|██████████████████████████████████████████████████████████████████████████████████████████████████████████████████████████████████████████████████████████████████████████████████████████████▉        | 95/99 [04:50<00:11,  2.99s/it]c:\\users\\nabe0\\desktop\\nabepy\\env\\lib\\site-packages\\ipykernel_launcher.py:114: RuntimeWarning: invalid value encountered in double_scalars\n",
      "c:\\users\\nabe0\\desktop\\nabepy\\env\\lib\\site-packages\\ipykernel_launcher.py:115: RuntimeWarning: invalid value encountered in longlong_scalars\n",
      " 99%|████████████████████████████████████████████████████████████████████████████████████████████████████████████████████████████████████████████████████████████████████████████████████████████████████▉  | 98/99 [04:59<00:02,  2.99s/it]c:\\users\\nabe0\\desktop\\nabepy\\env\\lib\\site-packages\\ipykernel_launcher.py:114: RuntimeWarning: invalid value encountered in double_scalars\n",
      "c:\\users\\nabe0\\desktop\\nabepy\\env\\lib\\site-packages\\ipykernel_launcher.py:115: RuntimeWarning: invalid value encountered in longlong_scalars\n",
      "100%|███████████████████████████████████████████████████████████████████████████████████████████████████████████████████████████████████████████████████████████████████████████████████████████████████████| 99/99 [05:02<00:00,  3.05s/it]\n",
      "100%|███████████████████████████████████████████████████████████████████████████████████████████████████████████████████████████████████████████████████████████████████████████████████████████████████████| 99/99 [04:59<00:00,  3.02s/it]\n",
      "100%|███████████████████████████████████████████████████████████████████████████████████████████████████████████████████████████████████████████████████████████████████████████████████████████████████████| 99/99 [05:16<00:00,  3.19s/it]\n",
      "100%|███████████████████████████████████████████████████████████████████████████████████████████████████████████████████████████████████████████████████████████████████████████████████████████████████████| 99/99 [05:22<00:00,  3.26s/it]\n",
      "100%|███████████████████████████████████████████████████████████████████████████████████████████████████████████████████████████████████████████████████████████████████████████████████████████████████████| 99/99 [05:34<00:00,  3.38s/it]\n",
      "  0%|                                                                                                                                                                                                                | 0/99 [00:00<?, ?it/s]"
     ]
    },
    {
     "name": "stdout",
     "output_type": "stream",
     "text": [
      "43.0\n"
     ]
    },
    {
     "name": "stderr",
     "output_type": "stream",
     "text": [
      "100%|███████████████████████████████████████████████████████████████████████████████████████████████████████████████████████████████████████████████████████████████████████████████████████████████████████| 99/99 [04:38<00:00,  2.81s/it]\n",
      "100%|███████████████████████████████████████████████████████████████████████████████████████████████████████████████████████████████████████████████████████████████████████████████████████████████████████| 99/99 [04:46<00:00,  2.89s/it]\n",
      "100%|███████████████████████████████████████████████████████████████████████████████████████████████████████████████████████████████████████████████████████████████████████████████████████████████████████| 99/99 [04:53<00:00,  2.97s/it]\n",
      "100%|███████████████████████████████████████████████████████████████████████████████████████████████████████████████████████████████████████████████████████████████████████████████████████████████████████| 99/99 [05:06<00:00,  3.10s/it]\n",
      "100%|███████████████████████████████████████████████████████████████████████████████████████████████████████████████████████████████████████████████████████████████████████████████████████████████████████| 99/99 [05:18<00:00,  3.22s/it]\n",
      "  0%|                                                                                                                                                                                                                | 0/99 [00:00<?, ?it/s]"
     ]
    },
    {
     "name": "stdout",
     "output_type": "stream",
     "text": [
      "44.0\n"
     ]
    },
    {
     "name": "stderr",
     "output_type": "stream",
     "text": [
      "100%|███████████████████████████████████████████████████████████████████████████████████████████████████████████████████████████████████████████████████████████████████████████████████████████████████████| 99/99 [04:26<00:00,  2.69s/it]\n",
      "100%|███████████████████████████████████████████████████████████████████████████████████████████████████████████████████████████████████████████████████████████████████████████████████████████████████████| 99/99 [04:34<00:00,  2.77s/it]\n",
      "100%|███████████████████████████████████████████████████████████████████████████████████████████████████████████████████████████████████████████████████████████████████████████████████████████████████████| 99/99 [04:39<00:00,  2.83s/it]\n",
      "100%|███████████████████████████████████████████████████████████████████████████████████████████████████████████████████████████████████████████████████████████████████████████████████████████████████████| 99/99 [04:45<00:00,  2.89s/it]\n",
      "100%|███████████████████████████████████████████████████████████████████████████████████████████████████████████████████████████████████████████████████████████████████████████████████████████████████████| 99/99 [04:55<00:00,  2.99s/it]\n",
      "  0%|                                                                                                                                                                                                                | 0/99 [00:00<?, ?it/s]"
     ]
    },
    {
     "name": "stdout",
     "output_type": "stream",
     "text": [
      "45.0\n"
     ]
    },
    {
     "name": "stderr",
     "output_type": "stream",
     "text": [
      " 95%|████████████████████████████████████████████████████████████████████████████████████████████████████████████████████████████████████████████████████████████████████████████████████████████▉          | 94/99 [04:11<00:13,  2.71s/it]c:\\users\\nabe0\\desktop\\nabepy\\env\\lib\\site-packages\\ipykernel_launcher.py:114: RuntimeWarning: invalid value encountered in double_scalars\n",
      "c:\\users\\nabe0\\desktop\\nabepy\\env\\lib\\site-packages\\ipykernel_launcher.py:115: RuntimeWarning: invalid value encountered in longlong_scalars\n",
      " 97%|████████████████████████████████████████████████████████████████████████████████████████████████████████████████████████████████████████████████████████████████████████████████████████████████▉      | 96/99 [04:17<00:08,  2.69s/it]c:\\users\\nabe0\\desktop\\nabepy\\env\\lib\\site-packages\\ipykernel_launcher.py:114: RuntimeWarning: invalid value encountered in double_scalars\n",
      "c:\\users\\nabe0\\desktop\\nabepy\\env\\lib\\site-packages\\ipykernel_launcher.py:115: RuntimeWarning: invalid value encountered in longlong_scalars\n",
      " 98%|██████████████████████████████████████████████████████████████████████████████████████████████████████████████████████████████████████████████████████████████████████████████████████████████████▉    | 97/99 [04:19<00:05,  2.69s/it]c:\\users\\nabe0\\desktop\\nabepy\\env\\lib\\site-packages\\ipykernel_launcher.py:114: RuntimeWarning: invalid value encountered in double_scalars\n",
      "c:\\users\\nabe0\\desktop\\nabepy\\env\\lib\\site-packages\\ipykernel_launcher.py:115: RuntimeWarning: invalid value encountered in longlong_scalars\n",
      " 99%|████████████████████████████████████████████████████████████████████████████████████████████████████████████████████████████████████████████████████████████████████████████████████████████████████▉  | 98/99 [04:22<00:02,  2.70s/it]c:\\users\\nabe0\\desktop\\nabepy\\env\\lib\\site-packages\\ipykernel_launcher.py:114: RuntimeWarning: invalid value encountered in double_scalars\n",
      "c:\\users\\nabe0\\desktop\\nabepy\\env\\lib\\site-packages\\ipykernel_launcher.py:115: RuntimeWarning: invalid value encountered in longlong_scalars\n",
      "100%|███████████████████████████████████████████████████████████████████████████████████████████████████████████████████████████████████████████████████████████████████████████████████████████████████████| 99/99 [04:25<00:00,  2.68s/it]\n",
      "100%|███████████████████████████████████████████████████████████████████████████████████████████████████████████████████████████████████████████████████████████████████████████████████████████████████████| 99/99 [04:28<00:00,  2.71s/it]\n",
      "100%|███████████████████████████████████████████████████████████████████████████████████████████████████████████████████████████████████████████████████████████████████████████████████████████████████████| 99/99 [04:37<00:00,  2.80s/it]\n",
      "100%|███████████████████████████████████████████████████████████████████████████████████████████████████████████████████████████████████████████████████████████████████████████████████████████████████████| 99/99 [04:42<00:00,  2.85s/it]\n",
      "100%|███████████████████████████████████████████████████████████████████████████████████████████████████████████████████████████████████████████████████████████████████████████████████████████████████████| 99/99 [04:47<00:00,  2.90s/it]\n",
      "  0%|                                                                                                                                                                                                                | 0/99 [00:00<?, ?it/s]"
     ]
    },
    {
     "name": "stdout",
     "output_type": "stream",
     "text": [
      "46.0\n"
     ]
    },
    {
     "name": "stderr",
     "output_type": "stream",
     "text": [
      "100%|███████████████████████████████████████████████████████████████████████████████████████████████████████████████████████████████████████████████████████████████████████████████████████████████████████| 99/99 [04:22<00:00,  2.65s/it]\n",
      "100%|███████████████████████████████████████████████████████████████████████████████████████████████████████████████████████████████████████████████████████████████████████████████████████████████████████| 99/99 [04:32<00:00,  2.75s/it]\n",
      "100%|███████████████████████████████████████████████████████████████████████████████████████████████████████████████████████████████████████████████████████████████████████████████████████████████████████| 99/99 [04:38<00:00,  2.81s/it]\n",
      "100%|███████████████████████████████████████████████████████████████████████████████████████████████████████████████████████████████████████████████████████████████████████████████████████████████████████| 99/99 [04:40<00:00,  2.83s/it]\n",
      "100%|███████████████████████████████████████████████████████████████████████████████████████████████████████████████████████████████████████████████████████████████████████████████████████████████████████| 99/99 [04:47<00:00,  2.90s/it]\n",
      "  0%|                                                                                                                                                                                                                | 0/99 [00:00<?, ?it/s]"
     ]
    },
    {
     "name": "stdout",
     "output_type": "stream",
     "text": [
      "47.0\n"
     ]
    },
    {
     "name": "stderr",
     "output_type": "stream",
     "text": [
      "100%|███████████████████████████████████████████████████████████████████████████████████████████████████████████████████████████████████████████████████████████████████████████████████████████████████████| 99/99 [04:17<00:00,  2.60s/it]\n",
      "100%|███████████████████████████████████████████████████████████████████████████████████████████████████████████████████████████████████████████████████████████████████████████████████████████████████████| 99/99 [04:20<00:00,  2.63s/it]\n",
      "100%|███████████████████████████████████████████████████████████████████████████████████████████████████████████████████████████████████████████████████████████████████████████████████████████████████████| 99/99 [04:28<00:00,  2.71s/it]\n",
      "100%|███████████████████████████████████████████████████████████████████████████████████████████████████████████████████████████████████████████████████████████████████████████████████████████████████████| 99/99 [04:30<00:00,  2.73s/it]\n",
      "100%|███████████████████████████████████████████████████████████████████████████████████████████████████████████████████████████████████████████████████████████████████████████████████████████████████████| 99/99 [04:37<00:00,  2.80s/it]\n",
      "  0%|                                                                                                                                                                                                                | 0/99 [00:00<?, ?it/s]"
     ]
    },
    {
     "name": "stdout",
     "output_type": "stream",
     "text": [
      "48.0\n"
     ]
    },
    {
     "name": "stderr",
     "output_type": "stream",
     "text": [
      "100%|███████████████████████████████████████████████████████████████████████████████████████████████████████████████████████████████████████████████████████████████████████████████████████████████████████| 99/99 [04:17<00:00,  2.60s/it]\n",
      "100%|███████████████████████████████████████████████████████████████████████████████████████████████████████████████████████████████████████████████████████████████████████████████████████████████████████| 99/99 [04:23<00:00,  2.66s/it]\n",
      "100%|███████████████████████████████████████████████████████████████████████████████████████████████████████████████████████████████████████████████████████████████████████████████████████████████████████| 99/99 [04:25<00:00,  2.68s/it]\n",
      "100%|███████████████████████████████████████████████████████████████████████████████████████████████████████████████████████████████████████████████████████████████████████████████████████████████████████| 99/99 [04:30<00:00,  2.74s/it]\n",
      "100%|███████████████████████████████████████████████████████████████████████████████████████████████████████████████████████████████████████████████████████████████████████████████████████████████████████| 99/99 [04:36<00:00,  2.79s/it]\n",
      "  0%|                                                                                                                                                                                                                | 0/99 [00:00<?, ?it/s]"
     ]
    },
    {
     "name": "stdout",
     "output_type": "stream",
     "text": [
      "49.0\n"
     ]
    },
    {
     "name": "stderr",
     "output_type": "stream",
     "text": [
      "100%|███████████████████████████████████████████████████████████████████████████████████████████████████████████████████████████████████████████████████████████████████████████████████████████████████████| 99/99 [04:24<00:00,  2.67s/it]\n",
      "100%|███████████████████████████████████████████████████████████████████████████████████████████████████████████████████████████████████████████████████████████████████████████████████████████████████████| 99/99 [04:29<00:00,  2.72s/it]\n",
      "100%|███████████████████████████████████████████████████████████████████████████████████████████████████████████████████████████████████████████████████████████████████████████████████████████████████████| 99/99 [04:38<00:00,  2.81s/it]\n",
      "100%|███████████████████████████████████████████████████████████████████████████████████████████████████████████████████████████████████████████████████████████████████████████████████████████████████████| 99/99 [04:41<00:00,  2.84s/it]\n",
      "100%|███████████████████████████████████████████████████████████████████████████████████████████████████████████████████████████████████████████████████████████████████████████████████████████████████████| 99/99 [04:47<00:00,  2.91s/it]\n",
      "  0%|                                                                                                                                                                                                                | 0/99 [00:00<?, ?it/s]"
     ]
    },
    {
     "name": "stdout",
     "output_type": "stream",
     "text": [
      "50.0\n"
     ]
    },
    {
     "name": "stderr",
     "output_type": "stream",
     "text": [
      "100%|███████████████████████████████████████████████████████████████████████████████████████████████████████████████████████████████████████████████████████████████████████████████████████████████████████| 99/99 [04:17<00:00,  2.60s/it]\n",
      "100%|███████████████████████████████████████████████████████████████████████████████████████████████████████████████████████████████████████████████████████████████████████████████████████████████████████| 99/99 [04:26<00:00,  2.69s/it]\n",
      "100%|███████████████████████████████████████████████████████████████████████████████████████████████████████████████████████████████████████████████████████████████████████████████████████████████████████| 99/99 [04:27<00:00,  2.70s/it]\n",
      "100%|███████████████████████████████████████████████████████████████████████████████████████████████████████████████████████████████████████████████████████████████████████████████████████████████████████| 99/99 [04:31<00:00,  2.74s/it]\n",
      "100%|███████████████████████████████████████████████████████████████████████████████████████████████████████████████████████████████████████████████████████████████████████████████████████████████████████| 99/99 [04:36<00:00,  2.80s/it]\n",
      "  0%|                                                                                                                                                                                                                | 0/99 [00:00<?, ?it/s]"
     ]
    },
    {
     "name": "stdout",
     "output_type": "stream",
     "text": [
      "51.0\n"
     ]
    },
    {
     "name": "stderr",
     "output_type": "stream",
     "text": [
      "100%|███████████████████████████████████████████████████████████████████████████████████████████████████████████████████████████████████████████████████████████████████████████████████████████████████████| 99/99 [04:17<00:00,  2.60s/it]\n",
      "100%|███████████████████████████████████████████████████████████████████████████████████████████████████████████████████████████████████████████████████████████████████████████████████████████████████████| 99/99 [04:21<00:00,  2.64s/it]\n",
      "100%|███████████████████████████████████████████████████████████████████████████████████████████████████████████████████████████████████████████████████████████████████████████████████████████████████████| 99/99 [04:29<00:00,  2.72s/it]\n",
      "100%|███████████████████████████████████████████████████████████████████████████████████████████████████████████████████████████████████████████████████████████████████████████████████████████████████████| 99/99 [04:31<00:00,  2.75s/it]\n",
      "100%|███████████████████████████████████████████████████████████████████████████████████████████████████████████████████████████████████████████████████████████████████████████████████████████████████████| 99/99 [04:37<00:00,  2.80s/it]\n",
      "  0%|                                                                                                                                                                                                                | 0/99 [00:00<?, ?it/s]"
     ]
    },
    {
     "name": "stdout",
     "output_type": "stream",
     "text": [
      "52.0\n"
     ]
    },
    {
     "name": "stderr",
     "output_type": "stream",
     "text": [
      "100%|███████████████████████████████████████████████████████████████████████████████████████████████████████████████████████████████████████████████████████████████████████████████████████████████████████| 99/99 [04:18<00:00,  2.61s/it]\n",
      "100%|███████████████████████████████████████████████████████████████████████████████████████████████████████████████████████████████████████████████████████████████████████████████████████████████████████| 99/99 [04:25<00:00,  2.68s/it]\n",
      "100%|███████████████████████████████████████████████████████████████████████████████████████████████████████████████████████████████████████████████████████████████████████████████████████████████████████| 99/99 [04:27<00:00,  2.70s/it]\n",
      "100%|███████████████████████████████████████████████████████████████████████████████████████████████████████████████████████████████████████████████████████████████████████████████████████████████████████| 99/99 [04:32<00:00,  2.76s/it]\n",
      "100%|███████████████████████████████████████████████████████████████████████████████████████████████████████████████████████████████████████████████████████████████████████████████████████████████████████| 99/99 [04:40<00:00,  2.84s/it]\n",
      "  0%|                                                                                                                                                                                                                | 0/99 [00:00<?, ?it/s]"
     ]
    },
    {
     "name": "stdout",
     "output_type": "stream",
     "text": [
      "53.0\n"
     ]
    },
    {
     "name": "stderr",
     "output_type": "stream",
     "text": [
      "100%|███████████████████████████████████████████████████████████████████████████████████████████████████████████████████████████████████████████████████████████████████████████████████████████████████████| 99/99 [04:20<00:00,  2.63s/it]\n",
      "100%|███████████████████████████████████████████████████████████████████████████████████████████████████████████████████████████████████████████████████████████████████████████████████████████████████████| 99/99 [04:23<00:00,  2.67s/it]\n",
      "100%|███████████████████████████████████████████████████████████████████████████████████████████████████████████████████████████████████████████████████████████████████████████████████████████████████████| 99/99 [04:33<00:00,  2.76s/it]\n",
      "100%|███████████████████████████████████████████████████████████████████████████████████████████████████████████████████████████████████████████████████████████████████████████████████████████████████████| 99/99 [04:35<00:00,  2.78s/it]\n",
      "100%|███████████████████████████████████████████████████████████████████████████████████████████████████████████████████████████████████████████████████████████████████████████████████████████████████████| 99/99 [04:38<00:00,  2.81s/it]\n",
      "  0%|                                                                                                                                                                                                                | 0/99 [00:00<?, ?it/s]"
     ]
    },
    {
     "name": "stdout",
     "output_type": "stream",
     "text": [
      "54.0\n"
     ]
    },
    {
     "name": "stderr",
     "output_type": "stream",
     "text": [
      "100%|███████████████████████████████████████████████████████████████████████████████████████████████████████████████████████████████████████████████████████████████████████████████████████████████████████| 99/99 [04:16<00:00,  2.59s/it]\n",
      "100%|███████████████████████████████████████████████████████████████████████████████████████████████████████████████████████████████████████████████████████████████████████████████████████████████████████| 99/99 [04:23<00:00,  2.66s/it]\n",
      "100%|███████████████████████████████████████████████████████████████████████████████████████████████████████████████████████████████████████████████████████████████████████████████████████████████████████| 99/99 [04:25<00:00,  2.68s/it]\n",
      "100%|███████████████████████████████████████████████████████████████████████████████████████████████████████████████████████████████████████████████████████████████████████████████████████████████████████| 99/99 [04:26<00:00,  2.69s/it]\n",
      "100%|███████████████████████████████████████████████████████████████████████████████████████████████████████████████████████████████████████████████████████████████████████████████████████████████████████| 99/99 [04:33<00:00,  2.76s/it]\n",
      "  0%|                                                                                                                                                                                                                | 0/99 [00:00<?, ?it/s]"
     ]
    },
    {
     "name": "stdout",
     "output_type": "stream",
     "text": [
      "55.0\n"
     ]
    },
    {
     "name": "stderr",
     "output_type": "stream",
     "text": [
      "100%|███████████████████████████████████████████████████████████████████████████████████████████████████████████████████████████████████████████████████████████████████████████████████████████████████████| 99/99 [04:15<00:00,  2.58s/it]\n",
      "100%|███████████████████████████████████████████████████████████████████████████████████████████████████████████████████████████████████████████████████████████████████████████████████████████████████████| 99/99 [04:20<00:00,  2.63s/it]\n",
      "100%|███████████████████████████████████████████████████████████████████████████████████████████████████████████████████████████████████████████████████████████████████████████████████████████████████████| 99/99 [04:23<00:00,  2.66s/it]\n",
      "100%|███████████████████████████████████████████████████████████████████████████████████████████████████████████████████████████████████████████████████████████████████████████████████████████████████████| 99/99 [04:32<00:00,  2.76s/it]\n",
      "100%|███████████████████████████████████████████████████████████████████████████████████████████████████████████████████████████████████████████████████████████████████████████████████████████████████████| 99/99 [04:32<00:00,  2.75s/it]\n",
      "  0%|                                                                                                                                                                                                                | 0/99 [00:00<?, ?it/s]"
     ]
    },
    {
     "name": "stdout",
     "output_type": "stream",
     "text": [
      "56.0\n"
     ]
    },
    {
     "name": "stderr",
     "output_type": "stream",
     "text": [
      "100%|███████████████████████████████████████████████████████████████████████████████████████████████████████████████████████████████████████████████████████████████████████████████████████████████████████| 99/99 [04:14<00:00,  2.57s/it]\n",
      "100%|███████████████████████████████████████████████████████████████████████████████████████████████████████████████████████████████████████████████████████████████████████████████████████████████████████| 99/99 [04:18<00:00,  2.61s/it]\n",
      "100%|███████████████████████████████████████████████████████████████████████████████████████████████████████████████████████████████████████████████████████████████████████████████████████████████████████| 99/99 [04:17<00:00,  2.60s/it]\n",
      "100%|███████████████████████████████████████████████████████████████████████████████████████████████████████████████████████████████████████████████████████████████████████████████████████████████████████| 99/99 [04:20<00:00,  2.63s/it]\n",
      "100%|███████████████████████████████████████████████████████████████████████████████████████████████████████████████████████████████████████████████████████████████████████████████████████████████████████| 99/99 [04:23<00:00,  2.66s/it]\n",
      "  0%|                                                                                                                                                                                                                | 0/99 [00:00<?, ?it/s]"
     ]
    },
    {
     "name": "stdout",
     "output_type": "stream",
     "text": [
      "57.0\n"
     ]
    },
    {
     "name": "stderr",
     "output_type": "stream",
     "text": [
      "100%|███████████████████████████████████████████████████████████████████████████████████████████████████████████████████████████████████████████████████████████████████████████████████████████████████████| 99/99 [04:14<00:00,  2.57s/it]\n",
      "100%|███████████████████████████████████████████████████████████████████████████████████████████████████████████████████████████████████████████████████████████████████████████████████████████████████████| 99/99 [04:19<00:00,  2.62s/it]\n",
      "100%|███████████████████████████████████████████████████████████████████████████████████████████████████████████████████████████████████████████████████████████████████████████████████████████████████████| 99/99 [04:20<00:00,  2.64s/it]\n",
      "100%|███████████████████████████████████████████████████████████████████████████████████████████████████████████████████████████████████████████████████████████████████████████████████████████████████████| 99/99 [04:25<00:00,  2.68s/it]\n",
      "100%|███████████████████████████████████████████████████████████████████████████████████████████████████████████████████████████████████████████████████████████████████████████████████████████████████████| 99/99 [04:25<00:00,  2.69s/it]\n",
      "  0%|                                                                                                                                                                                                                | 0/99 [00:00<?, ?it/s]"
     ]
    },
    {
     "name": "stdout",
     "output_type": "stream",
     "text": [
      "58.0\n"
     ]
    },
    {
     "name": "stderr",
     "output_type": "stream",
     "text": [
      "100%|███████████████████████████████████████████████████████████████████████████████████████████████████████████████████████████████████████████████████████████████████████████████████████████████████████| 99/99 [04:10<00:00,  2.53s/it]\n",
      "100%|███████████████████████████████████████████████████████████████████████████████████████████████████████████████████████████████████████████████████████████████████████████████████████████████████████| 99/99 [04:15<00:00,  2.58s/it]\n",
      "100%|███████████████████████████████████████████████████████████████████████████████████████████████████████████████████████████████████████████████████████████████████████████████████████████████████████| 99/99 [04:30<00:00,  2.73s/it]\n",
      "100%|███████████████████████████████████████████████████████████████████████████████████████████████████████████████████████████████████████████████████████████████████████████████████████████████████████| 99/99 [04:19<00:00,  2.62s/it]\n",
      "100%|███████████████████████████████████████████████████████████████████████████████████████████████████████████████████████████████████████████████████████████████████████████████████████████████████████| 99/99 [04:18<00:00,  2.61s/it]\n",
      "  0%|                                                                                                                                                                                                                | 0/99 [00:00<?, ?it/s]"
     ]
    },
    {
     "name": "stdout",
     "output_type": "stream",
     "text": [
      "59.0\n"
     ]
    },
    {
     "name": "stderr",
     "output_type": "stream",
     "text": [
      "100%|███████████████████████████████████████████████████████████████████████████████████████████████████████████████████████████████████████████████████████████████████████████████████████████████████████| 99/99 [04:18<00:00,  2.61s/it]\n",
      "100%|███████████████████████████████████████████████████████████████████████████████████████████████████████████████████████████████████████████████████████████████████████████████████████████████████████| 99/99 [04:18<00:00,  2.61s/it]\n",
      "100%|███████████████████████████████████████████████████████████████████████████████████████████████████████████████████████████████████████████████████████████████████████████████████████████████████████| 99/99 [03:36<00:00,  2.19s/it]\n",
      "100%|███████████████████████████████████████████████████████████████████████████████████████████████████████████████████████████████████████████████████████████████████████████████████████████████████████| 99/99 [03:29<00:00,  2.12s/it]\n",
      "100%|███████████████████████████████████████████████████████████████████████████████████████████████████████████████████████████████████████████████████████████████████████████████████████████████████████| 99/99 [03:34<00:00,  2.16s/it]\n",
      "  0%|                                                                                                                                                                                                                | 0/99 [00:00<?, ?it/s]"
     ]
    },
    {
     "name": "stdout",
     "output_type": "stream",
     "text": [
      "60.0\n"
     ]
    },
    {
     "name": "stderr",
     "output_type": "stream",
     "text": [
      "100%|███████████████████████████████████████████████████████████████████████████████████████████████████████████████████████████████████████████████████████████████████████████████████████████████████████| 99/99 [03:21<00:00,  2.03s/it]\n",
      "100%|███████████████████████████████████████████████████████████████████████████████████████████████████████████████████████████████████████████████████████████████████████████████████████████████████████| 99/99 [03:23<00:00,  2.06s/it]\n",
      "100%|███████████████████████████████████████████████████████████████████████████████████████████████████████████████████████████████████████████████████████████████████████████████████████████████████████| 99/99 [03:35<00:00,  2.18s/it]\n",
      "100%|███████████████████████████████████████████████████████████████████████████████████████████████████████████████████████████████████████████████████████████████████████████████████████████████████████| 99/99 [04:00<00:00,  2.43s/it]\n",
      "100%|███████████████████████████████████████████████████████████████████████████████████████████████████████████████████████████████████████████████████████████████████████████████████████████████████████| 99/99 [03:27<00:00,  2.10s/it]\n",
      "  0%|                                                                                                                                                                                                                | 0/99 [00:00<?, ?it/s]"
     ]
    },
    {
     "name": "stdout",
     "output_type": "stream",
     "text": [
      "61.0\n"
     ]
    },
    {
     "name": "stderr",
     "output_type": "stream",
     "text": [
      "100%|███████████████████████████████████████████████████████████████████████████████████████████████████████████████████████████████████████████████████████████████████████████████████████████████████████| 99/99 [03:45<00:00,  2.28s/it]\n",
      "100%|███████████████████████████████████████████████████████████████████████████████████████████████████████████████████████████████████████████████████████████████████████████████████████████████████████| 99/99 [03:50<00:00,  2.33s/it]\n",
      "100%|███████████████████████████████████████████████████████████████████████████████████████████████████████████████████████████████████████████████████████████████████████████████████████████████████████| 99/99 [04:33<00:00,  2.76s/it]\n",
      "100%|███████████████████████████████████████████████████████████████████████████████████████████████████████████████████████████████████████████████████████████████████████████████████████████████████████| 99/99 [05:03<00:00,  3.06s/it]\n",
      "100%|███████████████████████████████████████████████████████████████████████████████████████████████████████████████████████████████████████████████████████████████████████████████████████████████████████| 99/99 [04:15<00:00,  2.58s/it]\n",
      "  0%|                                                                                                                                                                                                                | 0/99 [00:00<?, ?it/s]"
     ]
    },
    {
     "name": "stdout",
     "output_type": "stream",
     "text": [
      "62.0\n"
     ]
    },
    {
     "name": "stderr",
     "output_type": "stream",
     "text": [
      "100%|███████████████████████████████████████████████████████████████████████████████████████████████████████████████████████████████████████████████████████████████████████████████████████████████████████| 99/99 [03:39<00:00,  2.22s/it]\n",
      "100%|███████████████████████████████████████████████████████████████████████████████████████████████████████████████████████████████████████████████████████████████████████████████████████████████████████| 99/99 [03:43<00:00,  2.26s/it]\n",
      "100%|███████████████████████████████████████████████████████████████████████████████████████████████████████████████████████████████████████████████████████████████████████████████████████████████████████| 99/99 [03:52<00:00,  2.35s/it]\n",
      "100%|███████████████████████████████████████████████████████████████████████████████████████████████████████████████████████████████████████████████████████████████████████████████████████████████████████| 99/99 [03:58<00:00,  2.41s/it]\n",
      "100%|███████████████████████████████████████████████████████████████████████████████████████████████████████████████████████████████████████████████████████████████████████████████████████████████████████| 99/99 [04:05<00:00,  2.48s/it]\n",
      "  0%|                                                                                                                                                                                                                | 0/99 [00:00<?, ?it/s]"
     ]
    },
    {
     "name": "stdout",
     "output_type": "stream",
     "text": [
      "63.0\n"
     ]
    },
    {
     "name": "stderr",
     "output_type": "stream",
     "text": [
      "100%|███████████████████████████████████████████████████████████████████████████████████████████████████████████████████████████████████████████████████████████████████████████████████████████████████████| 99/99 [03:43<00:00,  2.26s/it]\n",
      "100%|███████████████████████████████████████████████████████████████████████████████████████████████████████████████████████████████████████████████████████████████████████████████████████████████████████| 99/99 [03:51<00:00,  2.33s/it]\n",
      "100%|███████████████████████████████████████████████████████████████████████████████████████████████████████████████████████████████████████████████████████████████████████████████████████████████████████| 99/99 [03:58<00:00,  2.41s/it]\n",
      "100%|███████████████████████████████████████████████████████████████████████████████████████████████████████████████████████████████████████████████████████████████████████████████████████████████████████| 99/99 [04:07<00:00,  2.50s/it]\n",
      "100%|███████████████████████████████████████████████████████████████████████████████████████████████████████████████████████████████████████████████████████████████████████████████████████████████████████| 99/99 [04:14<00:00,  2.57s/it]\n",
      "  0%|                                                                                                                                                                                                                | 0/99 [00:00<?, ?it/s]"
     ]
    },
    {
     "name": "stdout",
     "output_type": "stream",
     "text": [
      "64.0\n"
     ]
    },
    {
     "name": "stderr",
     "output_type": "stream",
     "text": [
      "100%|███████████████████████████████████████████████████████████████████████████████████████████████████████████████████████████████████████████████████████████████████████████████████████████████████████| 99/99 [03:38<00:00,  2.21s/it]\n",
      "100%|███████████████████████████████████████████████████████████████████████████████████████████████████████████████████████████████████████████████████████████████████████████████████████████████████████| 99/99 [03:43<00:00,  2.26s/it]\n",
      "100%|███████████████████████████████████████████████████████████████████████████████████████████████████████████████████████████████████████████████████████████████████████████████████████████████████████| 99/99 [03:52<00:00,  2.35s/it]\n",
      "100%|███████████████████████████████████████████████████████████████████████████████████████████████████████████████████████████████████████████████████████████████████████████████████████████████████████| 99/99 [04:39<00:00,  2.83s/it]\n",
      "100%|███████████████████████████████████████████████████████████████████████████████████████████████████████████████████████████████████████████████████████████████████████████████████████████████████████| 99/99 [04:58<00:00,  3.01s/it]\n",
      "  0%|                                                                                                                                                                                                                | 0/99 [00:00<?, ?it/s]"
     ]
    },
    {
     "name": "stdout",
     "output_type": "stream",
     "text": [
      "65.0\n"
     ]
    },
    {
     "name": "stderr",
     "output_type": "stream",
     "text": [
      "100%|███████████████████████████████████████████████████████████████████████████████████████████████████████████████████████████████████████████████████████████████████████████████████████████████████████| 99/99 [03:33<00:00,  2.16s/it]\n",
      "100%|███████████████████████████████████████████████████████████████████████████████████████████████████████████████████████████████████████████████████████████████████████████████████████████████████████| 99/99 [03:38<00:00,  2.21s/it]\n",
      "100%|███████████████████████████████████████████████████████████████████████████████████████████████████████████████████████████████████████████████████████████████████████████████████████████████████████| 99/99 [03:42<00:00,  2.25s/it]\n",
      "100%|███████████████████████████████████████████████████████████████████████████████████████████████████████████████████████████████████████████████████████████████████████████████████████████████████████| 99/99 [03:44<00:00,  2.27s/it]\n",
      "100%|███████████████████████████████████████████████████████████████████████████████████████████████████████████████████████████████████████████████████████████████████████████████████████████████████████| 99/99 [04:43<00:00,  2.86s/it]\n",
      "  0%|                                                                                                                                                                                                                | 0/99 [00:00<?, ?it/s]"
     ]
    },
    {
     "name": "stdout",
     "output_type": "stream",
     "text": [
      "66.0\n"
     ]
    },
    {
     "name": "stderr",
     "output_type": "stream",
     "text": [
      "100%|███████████████████████████████████████████████████████████████████████████████████████████████████████████████████████████████████████████████████████████████████████████████████████████████████████| 99/99 [04:16<00:00,  2.59s/it]\n",
      "100%|███████████████████████████████████████████████████████████████████████████████████████████████████████████████████████████████████████████████████████████████████████████████████████████████████████| 99/99 [04:20<00:00,  2.64s/it]\n",
      "100%|███████████████████████████████████████████████████████████████████████████████████████████████████████████████████████████████████████████████████████████████████████████████████████████████████████| 99/99 [04:26<00:00,  2.69s/it]\n",
      "100%|███████████████████████████████████████████████████████████████████████████████████████████████████████████████████████████████████████████████████████████████████████████████████████████████████████| 99/99 [04:31<00:00,  2.74s/it]\n",
      "100%|███████████████████████████████████████████████████████████████████████████████████████████████████████████████████████████████████████████████████████████████████████████████████████████████████████| 99/99 [04:32<00:00,  2.75s/it]\n",
      "  0%|                                                                                                                                                                                                                | 0/99 [00:00<?, ?it/s]"
     ]
    },
    {
     "name": "stdout",
     "output_type": "stream",
     "text": [
      "67.0\n"
     ]
    },
    {
     "name": "stderr",
     "output_type": "stream",
     "text": [
      "100%|███████████████████████████████████████████████████████████████████████████████████████████████████████████████████████████████████████████████████████████████████████████████████████████████████████| 99/99 [04:02<00:00,  2.45s/it]\n",
      "100%|███████████████████████████████████████████████████████████████████████████████████████████████████████████████████████████████████████████████████████████████████████████████████████████████████████| 99/99 [03:32<00:00,  2.15s/it]\n",
      "100%|███████████████████████████████████████████████████████████████████████████████████████████████████████████████████████████████████████████████████████████████████████████████████████████████████████| 99/99 [03:35<00:00,  2.17s/it]\n",
      "100%|███████████████████████████████████████████████████████████████████████████████████████████████████████████████████████████████████████████████████████████████████████████████████████████████████████| 99/99 [03:38<00:00,  2.20s/it]\n",
      "100%|███████████████████████████████████████████████████████████████████████████████████████████████████████████████████████████████████████████████████████████████████████████████████████████████████████| 99/99 [03:41<00:00,  2.23s/it]\n",
      "  0%|                                                                                                                                                                                                                | 0/99 [00:00<?, ?it/s]"
     ]
    },
    {
     "name": "stdout",
     "output_type": "stream",
     "text": [
      "68.0\n"
     ]
    },
    {
     "name": "stderr",
     "output_type": "stream",
     "text": [
      "100%|███████████████████████████████████████████████████████████████████████████████████████████████████████████████████████████████████████████████████████████████████████████████████████████████████████| 99/99 [03:25<00:00,  2.08s/it]\n",
      "100%|███████████████████████████████████████████████████████████████████████████████████████████████████████████████████████████████████████████████████████████████████████████████████████████████████████| 99/99 [03:29<00:00,  2.11s/it]\n",
      "100%|███████████████████████████████████████████████████████████████████████████████████████████████████████████████████████████████████████████████████████████████████████████████████████████████████████| 99/99 [03:33<00:00,  2.15s/it]\n",
      "100%|███████████████████████████████████████████████████████████████████████████████████████████████████████████████████████████████████████████████████████████████████████████████████████████████████████| 99/99 [03:34<00:00,  2.17s/it]\n",
      "100%|███████████████████████████████████████████████████████████████████████████████████████████████████████████████████████████████████████████████████████████████████████████████████████████████████████| 99/99 [03:37<00:00,  2.20s/it]\n",
      "  0%|                                                                                                                                                                                                                | 0/99 [00:00<?, ?it/s]"
     ]
    },
    {
     "name": "stdout",
     "output_type": "stream",
     "text": [
      "69.0\n"
     ]
    },
    {
     "name": "stderr",
     "output_type": "stream",
     "text": [
      "100%|███████████████████████████████████████████████████████████████████████████████████████████████████████████████████████████████████████████████████████████████████████████████████████████████████████| 99/99 [03:29<00:00,  2.12s/it]\n",
      "100%|███████████████████████████████████████████████████████████████████████████████████████████████████████████████████████████████████████████████████████████████████████████████████████████████████████| 99/99 [03:33<00:00,  2.15s/it]\n",
      "100%|███████████████████████████████████████████████████████████████████████████████████████████████████████████████████████████████████████████████████████████████████████████████████████████████████████| 99/99 [03:37<00:00,  2.20s/it]\n",
      "100%|███████████████████████████████████████████████████████████████████████████████████████████████████████████████████████████████████████████████████████████████████████████████████████████████████████| 99/99 [03:42<00:00,  2.25s/it]\n",
      "100%|███████████████████████████████████████████████████████████████████████████████████████████████████████████████████████████████████████████████████████████████████████████████████████████████████████| 99/99 [03:47<00:00,  2.29s/it]\n",
      "  0%|                                                                                                                                                                                                                | 0/99 [00:00<?, ?it/s]"
     ]
    },
    {
     "name": "stdout",
     "output_type": "stream",
     "text": [
      "70.0\n"
     ]
    },
    {
     "name": "stderr",
     "output_type": "stream",
     "text": [
      "100%|███████████████████████████████████████████████████████████████████████████████████████████████████████████████████████████████████████████████████████████████████████████████████████████████████████| 99/99 [03:26<00:00,  2.08s/it]\n",
      "100%|███████████████████████████████████████████████████████████████████████████████████████████████████████████████████████████████████████████████████████████████████████████████████████████████████████| 99/99 [04:25<00:00,  2.68s/it]\n",
      "100%|███████████████████████████████████████████████████████████████████████████████████████████████████████████████████████████████████████████████████████████████████████████████████████████████████████| 99/99 [04:27<00:00,  2.70s/it]\n",
      "100%|███████████████████████████████████████████████████████████████████████████████████████████████████████████████████████████████████████████████████████████████████████████████████████████████████████| 99/99 [04:27<00:00,  2.70s/it]\n",
      "100%|███████████████████████████████████████████████████████████████████████████████████████████████████████████████████████████████████████████████████████████████████████████████████████████████████████| 99/99 [03:43<00:00,  2.26s/it]\n",
      "  0%|                                                                                                                                                                                                                | 0/99 [00:00<?, ?it/s]"
     ]
    },
    {
     "name": "stdout",
     "output_type": "stream",
     "text": [
      "71.0\n"
     ]
    },
    {
     "name": "stderr",
     "output_type": "stream",
     "text": [
      "100%|███████████████████████████████████████████████████████████████████████████████████████████████████████████████████████████████████████████████████████████████████████████████████████████████████████| 99/99 [03:24<00:00,  2.07s/it]\n",
      "100%|███████████████████████████████████████████████████████████████████████████████████████████████████████████████████████████████████████████████████████████████████████████████████████████████████████| 99/99 [03:29<00:00,  2.12s/it]\n",
      "100%|███████████████████████████████████████████████████████████████████████████████████████████████████████████████████████████████████████████████████████████████████████████████████████████████████████| 99/99 [03:32<00:00,  2.15s/it]\n",
      "100%|███████████████████████████████████████████████████████████████████████████████████████████████████████████████████████████████████████████████████████████████████████████████████████████████████████| 99/99 [04:10<00:00,  2.53s/it]\n",
      "100%|███████████████████████████████████████████████████████████████████████████████████████████████████████████████████████████████████████████████████████████████████████████████████████████████████████| 99/99 [04:35<00:00,  2.78s/it]\n",
      "  0%|                                                                                                                                                                                                                | 0/99 [00:00<?, ?it/s]"
     ]
    },
    {
     "name": "stdout",
     "output_type": "stream",
     "text": [
      "72.0\n"
     ]
    },
    {
     "name": "stderr",
     "output_type": "stream",
     "text": [
      "100%|███████████████████████████████████████████████████████████████████████████████████████████████████████████████████████████████████████████████████████████████████████████████████████████████████████| 99/99 [04:21<00:00,  2.65s/it]\n",
      "100%|███████████████████████████████████████████████████████████████████████████████████████████████████████████████████████████████████████████████████████████████████████████████████████████████████████| 99/99 [04:21<00:00,  2.64s/it]\n",
      "100%|███████████████████████████████████████████████████████████████████████████████████████████████████████████████████████████████████████████████████████████████████████████████████████████████████████| 99/99 [04:25<00:00,  2.69s/it]\n",
      "100%|███████████████████████████████████████████████████████████████████████████████████████████████████████████████████████████████████████████████████████████████████████████████████████████████████████| 99/99 [04:33<00:00,  2.76s/it]\n",
      "100%|███████████████████████████████████████████████████████████████████████████████████████████████████████████████████████████████████████████████████████████████████████████████████████████████████████| 99/99 [04:33<00:00,  2.76s/it]\n",
      "  0%|                                                                                                                                                                                                                | 0/99 [00:00<?, ?it/s]"
     ]
    },
    {
     "name": "stdout",
     "output_type": "stream",
     "text": [
      "73.0\n"
     ]
    },
    {
     "name": "stderr",
     "output_type": "stream",
     "text": [
      "100%|███████████████████████████████████████████████████████████████████████████████████████████████████████████████████████████████████████████████████████████████████████████████████████████████████████| 99/99 [04:23<00:00,  2.67s/it]\n",
      "100%|███████████████████████████████████████████████████████████████████████████████████████████████████████████████████████████████████████████████████████████████████████████████████████████████████████| 99/99 [04:30<00:00,  2.74s/it]\n",
      "100%|███████████████████████████████████████████████████████████████████████████████████████████████████████████████████████████████████████████████████████████████████████████████████████████████████████| 99/99 [04:41<00:00,  2.84s/it]\n",
      "100%|███████████████████████████████████████████████████████████████████████████████████████████████████████████████████████████████████████████████████████████████████████████████████████████████████████| 99/99 [04:45<00:00,  2.88s/it]\n",
      "100%|███████████████████████████████████████████████████████████████████████████████████████████████████████████████████████████████████████████████████████████████████████████████████████████████████████| 99/99 [04:46<00:00,  2.89s/it]\n",
      "  0%|                                                                                                                                                                                                                | 0/99 [00:00<?, ?it/s]"
     ]
    },
    {
     "name": "stdout",
     "output_type": "stream",
     "text": [
      "74.0\n"
     ]
    },
    {
     "name": "stderr",
     "output_type": "stream",
     "text": [
      "100%|███████████████████████████████████████████████████████████████████████████████████████████████████████████████████████████████████████████████████████████████████████████████████████████████████████| 99/99 [04:18<00:00,  2.61s/it]\n",
      "100%|███████████████████████████████████████████████████████████████████████████████████████████████████████████████████████████████████████████████████████████████████████████████████████████████████████| 99/99 [04:23<00:00,  2.66s/it]\n",
      "100%|███████████████████████████████████████████████████████████████████████████████████████████████████████████████████████████████████████████████████████████████████████████████████████████████████████| 99/99 [04:27<00:00,  2.70s/it]\n",
      "100%|███████████████████████████████████████████████████████████████████████████████████████████████████████████████████████████████████████████████████████████████████████████████████████████████████████| 99/99 [04:34<00:00,  2.78s/it]\n",
      "100%|███████████████████████████████████████████████████████████████████████████████████████████████████████████████████████████████████████████████████████████████████████████████████████████████████████| 99/99 [04:37<00:00,  2.80s/it]\n",
      "  0%|                                                                                                                                                                                                                | 0/99 [00:00<?, ?it/s]"
     ]
    },
    {
     "name": "stdout",
     "output_type": "stream",
     "text": [
      "75.0\n"
     ]
    },
    {
     "name": "stderr",
     "output_type": "stream",
     "text": [
      "100%|███████████████████████████████████████████████████████████████████████████████████████████████████████████████████████████████████████████████████████████████████████████████████████████████████████| 99/99 [04:17<00:00,  2.60s/it]\n",
      "100%|███████████████████████████████████████████████████████████████████████████████████████████████████████████████████████████████████████████████████████████████████████████████████████████████████████| 99/99 [04:21<00:00,  2.64s/it]\n",
      "100%|███████████████████████████████████████████████████████████████████████████████████████████████████████████████████████████████████████████████████████████████████████████████████████████████████████| 99/99 [04:27<00:00,  2.70s/it]\n",
      "100%|███████████████████████████████████████████████████████████████████████████████████████████████████████████████████████████████████████████████████████████████████████████████████████████████████████| 99/99 [04:32<00:00,  2.75s/it]\n",
      "100%|███████████████████████████████████████████████████████████████████████████████████████████████████████████████████████████████████████████████████████████████████████████████████████████████████████| 99/99 [04:34<00:00,  2.78s/it]\n",
      "  0%|                                                                                                                                                                                                                | 0/99 [00:00<?, ?it/s]"
     ]
    },
    {
     "name": "stdout",
     "output_type": "stream",
     "text": [
      "76.0\n"
     ]
    },
    {
     "name": "stderr",
     "output_type": "stream",
     "text": [
      "100%|███████████████████████████████████████████████████████████████████████████████████████████████████████████████████████████████████████████████████████████████████████████████████████████████████████| 99/99 [04:22<00:00,  2.66s/it]\n",
      "100%|███████████████████████████████████████████████████████████████████████████████████████████████████████████████████████████████████████████████████████████████████████████████████████████████████████| 99/99 [04:25<00:00,  2.68s/it]\n",
      "100%|███████████████████████████████████████████████████████████████████████████████████████████████████████████████████████████████████████████████████████████████████████████████████████████████████████| 99/99 [04:43<00:00,  2.87s/it]\n",
      "100%|███████████████████████████████████████████████████████████████████████████████████████████████████████████████████████████████████████████████████████████████████████████████████████████████████████| 99/99 [04:36<00:00,  2.79s/it]\n",
      "100%|███████████████████████████████████████████████████████████████████████████████████████████████████████████████████████████████████████████████████████████████████████████████████████████████████████| 99/99 [04:40<00:00,  2.83s/it]\n",
      "  0%|                                                                                                                                                                                                                | 0/99 [00:00<?, ?it/s]"
     ]
    },
    {
     "name": "stdout",
     "output_type": "stream",
     "text": [
      "77.0\n"
     ]
    },
    {
     "name": "stderr",
     "output_type": "stream",
     "text": [
      "100%|███████████████████████████████████████████████████████████████████████████████████████████████████████████████████████████████████████████████████████████████████████████████████████████████████████| 99/99 [04:22<00:00,  2.65s/it]\n",
      "100%|███████████████████████████████████████████████████████████████████████████████████████████████████████████████████████████████████████████████████████████████████████████████████████████████████████| 99/99 [04:25<00:00,  2.68s/it]\n",
      "100%|███████████████████████████████████████████████████████████████████████████████████████████████████████████████████████████████████████████████████████████████████████████████████████████████████████| 99/99 [04:33<00:00,  2.77s/it]\n",
      "100%|███████████████████████████████████████████████████████████████████████████████████████████████████████████████████████████████████████████████████████████████████████████████████████████████████████| 99/99 [04:35<00:00,  2.78s/it]\n",
      "100%|███████████████████████████████████████████████████████████████████████████████████████████████████████████████████████████████████████████████████████████████████████████████████████████████████████| 99/99 [04:39<00:00,  2.82s/it]\n",
      "  0%|                                                                                                                                                                                                                | 0/99 [00:00<?, ?it/s]"
     ]
    },
    {
     "name": "stdout",
     "output_type": "stream",
     "text": [
      "78.0\n"
     ]
    },
    {
     "name": "stderr",
     "output_type": "stream",
     "text": [
      "100%|███████████████████████████████████████████████████████████████████████████████████████████████████████████████████████████████████████████████████████████████████████████████████████████████████████| 99/99 [04:30<00:00,  2.73s/it]\n",
      "100%|███████████████████████████████████████████████████████████████████████████████████████████████████████████████████████████████████████████████████████████████████████████████████████████████████████| 99/99 [04:19<00:00,  2.62s/it]\n",
      "100%|███████████████████████████████████████████████████████████████████████████████████████████████████████████████████████████████████████████████████████████████████████████████████████████████████████| 99/99 [04:21<00:00,  2.64s/it]\n",
      "100%|███████████████████████████████████████████████████████████████████████████████████████████████████████████████████████████████████████████████████████████████████████████████████████████████████████| 99/99 [04:28<00:00,  2.72s/it]\n",
      "100%|███████████████████████████████████████████████████████████████████████████████████████████████████████████████████████████████████████████████████████████████████████████████████████████████████████| 99/99 [04:32<00:00,  2.75s/it]\n",
      "  0%|                                                                                                                                                                                                                | 0/99 [00:00<?, ?it/s]"
     ]
    },
    {
     "name": "stdout",
     "output_type": "stream",
     "text": [
      "79.0\n"
     ]
    },
    {
     "name": "stderr",
     "output_type": "stream",
     "text": [
      "100%|███████████████████████████████████████████████████████████████████████████████████████████████████████████████████████████████████████████████████████████████████████████████████████████████████████| 99/99 [04:12<00:00,  2.55s/it]\n",
      "100%|███████████████████████████████████████████████████████████████████████████████████████████████████████████████████████████████████████████████████████████████████████████████████████████████████████| 99/99 [04:15<00:00,  2.58s/it]\n",
      "100%|███████████████████████████████████████████████████████████████████████████████████████████████████████████████████████████████████████████████████████████████████████████████████████████████████████| 99/99 [04:22<00:00,  2.65s/it]\n",
      "100%|███████████████████████████████████████████████████████████████████████████████████████████████████████████████████████████████████████████████████████████████████████████████████████████████████████| 99/99 [04:21<00:00,  2.64s/it]\n",
      "100%|███████████████████████████████████████████████████████████████████████████████████████████████████████████████████████████████████████████████████████████████████████████████████████████████████████| 99/99 [04:23<00:00,  2.66s/it]\n",
      "  0%|                                                                                                                                                                                                                | 0/99 [00:00<?, ?it/s]"
     ]
    },
    {
     "name": "stdout",
     "output_type": "stream",
     "text": [
      "80.0\n"
     ]
    },
    {
     "name": "stderr",
     "output_type": "stream",
     "text": [
      "100%|███████████████████████████████████████████████████████████████████████████████████████████████████████████████████████████████████████████████████████████████████████████████████████████████████████| 99/99 [04:16<00:00,  2.59s/it]\n",
      "100%|███████████████████████████████████████████████████████████████████████████████████████████████████████████████████████████████████████████████████████████████████████████████████████████████████████| 99/99 [04:16<00:00,  2.59s/it]\n",
      "100%|███████████████████████████████████████████████████████████████████████████████████████████████████████████████████████████████████████████████████████████████████████████████████████████████████████| 99/99 [04:20<00:00,  2.63s/it]\n",
      "100%|███████████████████████████████████████████████████████████████████████████████████████████████████████████████████████████████████████████████████████████████████████████████████████████████████████| 99/99 [04:23<00:00,  2.66s/it]\n",
      "100%|███████████████████████████████████████████████████████████████████████████████████████████████████████████████████████████████████████████████████████████████████████████████████████████████████████| 99/99 [04:28<00:00,  2.71s/it]\n",
      "  0%|                                                                                                                                                                                                                | 0/99 [00:00<?, ?it/s]"
     ]
    },
    {
     "name": "stdout",
     "output_type": "stream",
     "text": [
      "81.0\n"
     ]
    },
    {
     "name": "stderr",
     "output_type": "stream",
     "text": [
      "100%|███████████████████████████████████████████████████████████████████████████████████████████████████████████████████████████████████████████████████████████████████████████████████████████████████████| 99/99 [04:23<00:00,  2.66s/it]\n",
      "100%|███████████████████████████████████████████████████████████████████████████████████████████████████████████████████████████████████████████████████████████████████████████████████████████████████████| 99/99 [04:28<00:00,  2.72s/it]\n",
      "100%|███████████████████████████████████████████████████████████████████████████████████████████████████████████████████████████████████████████████████████████████████████████████████████████████████████| 99/99 [04:40<00:00,  2.83s/it]\n",
      "100%|███████████████████████████████████████████████████████████████████████████████████████████████████████████████████████████████████████████████████████████████████████████████████████████████████████| 99/99 [04:42<00:00,  2.85s/it]\n",
      "100%|███████████████████████████████████████████████████████████████████████████████████████████████████████████████████████████████████████████████████████████████████████████████████████████████████████| 99/99 [04:45<00:00,  2.88s/it]\n",
      "  0%|                                                                                                                                                                                                                | 0/99 [00:00<?, ?it/s]"
     ]
    },
    {
     "name": "stdout",
     "output_type": "stream",
     "text": [
      "82.0\n"
     ]
    },
    {
     "name": "stderr",
     "output_type": "stream",
     "text": [
      "100%|███████████████████████████████████████████████████████████████████████████████████████████████████████████████████████████████████████████████████████████████████████████████████████████████████████| 99/99 [04:27<00:00,  2.70s/it]\n",
      "100%|███████████████████████████████████████████████████████████████████████████████████████████████████████████████████████████████████████████████████████████████████████████████████████████████████████| 99/99 [04:31<00:00,  2.75s/it]\n",
      "100%|███████████████████████████████████████████████████████████████████████████████████████████████████████████████████████████████████████████████████████████████████████████████████████████████████████| 99/99 [04:36<00:00,  2.79s/it]\n",
      "100%|███████████████████████████████████████████████████████████████████████████████████████████████████████████████████████████████████████████████████████████████████████████████████████████████████████| 99/99 [04:44<00:00,  2.88s/it]\n",
      "100%|███████████████████████████████████████████████████████████████████████████████████████████████████████████████████████████████████████████████████████████████████████████████████████████████████████| 99/99 [04:48<00:00,  2.92s/it]\n",
      "  0%|                                                                                                                                                                                                                | 0/99 [00:00<?, ?it/s]"
     ]
    },
    {
     "name": "stdout",
     "output_type": "stream",
     "text": [
      "83.0\n"
     ]
    },
    {
     "name": "stderr",
     "output_type": "stream",
     "text": [
      "100%|███████████████████████████████████████████████████████████████████████████████████████████████████████████████████████████████████████████████████████████████████████████████████████████████████████| 99/99 [04:31<00:00,  2.74s/it]\n",
      "100%|███████████████████████████████████████████████████████████████████████████████████████████████████████████████████████████████████████████████████████████████████████████████████████████████████████| 99/99 [04:24<00:00,  2.68s/it]\n",
      "100%|███████████████████████████████████████████████████████████████████████████████████████████████████████████████████████████████████████████████████████████████████████████████████████████████████████| 99/99 [04:32<00:00,  2.76s/it]\n",
      "100%|███████████████████████████████████████████████████████████████████████████████████████████████████████████████████████████████████████████████████████████████████████████████████████████████████████| 99/99 [04:35<00:00,  2.78s/it]\n",
      "100%|███████████████████████████████████████████████████████████████████████████████████████████████████████████████████████████████████████████████████████████████████████████████████████████████████████| 99/99 [04:41<00:00,  2.84s/it]\n",
      "  0%|                                                                                                                                                                                                                | 0/99 [00:00<?, ?it/s]"
     ]
    },
    {
     "name": "stdout",
     "output_type": "stream",
     "text": [
      "84.0\n"
     ]
    },
    {
     "name": "stderr",
     "output_type": "stream",
     "text": [
      "100%|███████████████████████████████████████████████████████████████████████████████████████████████████████████████████████████████████████████████████████████████████████████████████████████████████████| 99/99 [03:41<00:00,  2.24s/it]\n",
      "100%|███████████████████████████████████████████████████████████████████████████████████████████████████████████████████████████████████████████████████████████████████████████████████████████████████████| 99/99 [03:27<00:00,  2.09s/it]\n",
      "100%|███████████████████████████████████████████████████████████████████████████████████████████████████████████████████████████████████████████████████████████████████████████████████████████████████████| 99/99 [03:32<00:00,  2.15s/it]\n",
      "100%|███████████████████████████████████████████████████████████████████████████████████████████████████████████████████████████████████████████████████████████████████████████████████████████████████████| 99/99 [03:37<00:00,  2.20s/it]\n",
      "100%|███████████████████████████████████████████████████████████████████████████████████████████████████████████████████████████████████████████████████████████████████████████████████████████████████████| 99/99 [03:40<00:00,  2.23s/it]\n",
      "  0%|                                                                                                                                                                                                                | 0/99 [00:00<?, ?it/s]"
     ]
    },
    {
     "name": "stdout",
     "output_type": "stream",
     "text": [
      "85.0\n"
     ]
    },
    {
     "name": "stderr",
     "output_type": "stream",
     "text": [
      "100%|███████████████████████████████████████████████████████████████████████████████████████████████████████████████████████████████████████████████████████████████████████████████████████████████████████| 99/99 [04:14<00:00,  2.57s/it]\n",
      "100%|███████████████████████████████████████████████████████████████████████████████████████████████████████████████████████████████████████████████████████████████████████████████████████████████████████| 99/99 [04:24<00:00,  2.67s/it]\n",
      "100%|███████████████████████████████████████████████████████████████████████████████████████████████████████████████████████████████████████████████████████████████████████████████████████████████████████| 99/99 [04:28<00:00,  2.71s/it]\n",
      "100%|███████████████████████████████████████████████████████████████████████████████████████████████████████████████████████████████████████████████████████████████████████████████████████████████████████| 99/99 [04:35<00:00,  2.79s/it]\n",
      "100%|███████████████████████████████████████████████████████████████████████████████████████████████████████████████████████████████████████████████████████████████████████████████████████████████████████| 99/99 [04:36<00:00,  2.79s/it]\n",
      "  0%|                                                                                                                                                                                                                | 0/99 [00:00<?, ?it/s]"
     ]
    },
    {
     "name": "stdout",
     "output_type": "stream",
     "text": [
      "86.0\n"
     ]
    },
    {
     "name": "stderr",
     "output_type": "stream",
     "text": [
      "100%|███████████████████████████████████████████████████████████████████████████████████████████████████████████████████████████████████████████████████████████████████████████████████████████████████████| 99/99 [04:13<00:00,  2.56s/it]\n",
      "100%|███████████████████████████████████████████████████████████████████████████████████████████████████████████████████████████████████████████████████████████████████████████████████████████████████████| 99/99 [04:19<00:00,  2.62s/it]\n",
      "100%|███████████████████████████████████████████████████████████████████████████████████████████████████████████████████████████████████████████████████████████████████████████████████████████████████████| 99/99 [04:22<00:00,  2.66s/it]\n",
      "100%|███████████████████████████████████████████████████████████████████████████████████████████████████████████████████████████████████████████████████████████████████████████████████████████████████████| 99/99 [04:22<00:00,  2.65s/it]\n",
      "100%|███████████████████████████████████████████████████████████████████████████████████████████████████████████████████████████████████████████████████████████████████████████████████████████████████████| 99/99 [04:27<00:00,  2.71s/it]\n",
      "  0%|                                                                                                                                                                                                                | 0/99 [00:00<?, ?it/s]"
     ]
    },
    {
     "name": "stdout",
     "output_type": "stream",
     "text": [
      "87.0\n"
     ]
    },
    {
     "name": "stderr",
     "output_type": "stream",
     "text": [
      "100%|███████████████████████████████████████████████████████████████████████████████████████████████████████████████████████████████████████████████████████████████████████████████████████████████████████| 99/99 [04:11<00:00,  2.54s/it]\n",
      "100%|███████████████████████████████████████████████████████████████████████████████████████████████████████████████████████████████████████████████████████████████████████████████████████████████████████| 99/99 [04:13<00:00,  2.56s/it]\n",
      "100%|███████████████████████████████████████████████████████████████████████████████████████████████████████████████████████████████████████████████████████████████████████████████████████████████████████| 99/99 [04:15<00:00,  2.58s/it]\n",
      "100%|███████████████████████████████████████████████████████████████████████████████████████████████████████████████████████████████████████████████████████████████████████████████████████████████████████| 99/99 [04:19<00:00,  2.62s/it]\n",
      "100%|███████████████████████████████████████████████████████████████████████████████████████████████████████████████████████████████████████████████████████████████████████████████████████████████████████| 99/99 [04:20<00:00,  2.63s/it]\n",
      "  0%|                                                                                                                                                                                                                | 0/99 [00:00<?, ?it/s]"
     ]
    },
    {
     "name": "stdout",
     "output_type": "stream",
     "text": [
      "88.0\n"
     ]
    },
    {
     "name": "stderr",
     "output_type": "stream",
     "text": [
      "100%|███████████████████████████████████████████████████████████████████████████████████████████████████████████████████████████████████████████████████████████████████████████████████████████████████████| 99/99 [04:16<00:00,  2.60s/it]\n",
      "100%|███████████████████████████████████████████████████████████████████████████████████████████████████████████████████████████████████████████████████████████████████████████████████████████████████████| 99/99 [05:31<00:00,  3.35s/it]\n",
      "100%|███████████████████████████████████████████████████████████████████████████████████████████████████████████████████████████████████████████████████████████████████████████████████████████████████████| 99/99 [04:16<00:00,  2.59s/it]\n",
      "100%|███████████████████████████████████████████████████████████████████████████████████████████████████████████████████████████████████████████████████████████████████████████████████████████████████████| 99/99 [04:17<00:00,  2.60s/it]\n",
      "100%|███████████████████████████████████████████████████████████████████████████████████████████████████████████████████████████████████████████████████████████████████████████████████████████████████████| 99/99 [04:03<00:00,  2.46s/it]\n",
      "  0%|                                                                                                                                                                                                                | 0/99 [00:00<?, ?it/s]"
     ]
    },
    {
     "name": "stdout",
     "output_type": "stream",
     "text": [
      "89.0\n"
     ]
    },
    {
     "name": "stderr",
     "output_type": "stream",
     "text": [
      "100%|███████████████████████████████████████████████████████████████████████████████████████████████████████████████████████████████████████████████████████████████████████████████████████████████████████| 99/99 [03:17<00:00,  2.00s/it]\n",
      "100%|███████████████████████████████████████████████████████████████████████████████████████████████████████████████████████████████████████████████████████████████████████████████████████████████████████| 99/99 [03:19<00:00,  2.01s/it]\n",
      "100%|███████████████████████████████████████████████████████████████████████████████████████████████████████████████████████████████████████████████████████████████████████████████████████████████████████| 99/99 [03:20<00:00,  2.02s/it]\n",
      "100%|███████████████████████████████████████████████████████████████████████████████████████████████████████████████████████████████████████████████████████████████████████████████████████████████████████| 99/99 [03:22<00:00,  2.04s/it]\n",
      "100%|███████████████████████████████████████████████████████████████████████████████████████████████████████████████████████████████████████████████████████████████████████████████████████████████████████| 99/99 [03:29<00:00,  2.12s/it]\n",
      "  0%|                                                                                                                                                                                                                | 0/99 [00:00<?, ?it/s]"
     ]
    },
    {
     "name": "stdout",
     "output_type": "stream",
     "text": [
      "90.0\n"
     ]
    },
    {
     "name": "stderr",
     "output_type": "stream",
     "text": [
      "100%|███████████████████████████████████████████████████████████████████████████████████████████████████████████████████████████████████████████████████████████████████████████████████████████████████████| 99/99 [03:13<00:00,  1.96s/it]\n",
      "100%|███████████████████████████████████████████████████████████████████████████████████████████████████████████████████████████████████████████████████████████████████████████████████████████████████████| 99/99 [04:02<00:00,  2.45s/it]\n",
      "100%|███████████████████████████████████████████████████████████████████████████████████████████████████████████████████████████████████████████████████████████████████████████████████████████████████████| 99/99 [04:03<00:00,  2.46s/it]\n",
      "100%|███████████████████████████████████████████████████████████████████████████████████████████████████████████████████████████████████████████████████████████████████████████████████████████████████████| 99/99 [04:07<00:00,  2.50s/it]\n",
      "100%|███████████████████████████████████████████████████████████████████████████████████████████████████████████████████████████████████████████████████████████████████████████████████████████████████████| 99/99 [04:05<00:00,  2.48s/it]\n",
      "  0%|                                                                                                                                                                                                                | 0/99 [00:00<?, ?it/s]"
     ]
    },
    {
     "name": "stdout",
     "output_type": "stream",
     "text": [
      "91.0\n"
     ]
    },
    {
     "name": "stderr",
     "output_type": "stream",
     "text": [
      "100%|███████████████████████████████████████████████████████████████████████████████████████████████████████████████████████████████████████████████████████████████████████████████████████████████████████| 99/99 [03:54<00:00,  2.37s/it]\n",
      "100%|███████████████████████████████████████████████████████████████████████████████████████████████████████████████████████████████████████████████████████████████████████████████████████████████████████| 99/99 [03:56<00:00,  2.39s/it]\n",
      "100%|███████████████████████████████████████████████████████████████████████████████████████████████████████████████████████████████████████████████████████████████████████████████████████████████████████| 99/99 [04:01<00:00,  2.44s/it]\n",
      "100%|███████████████████████████████████████████████████████████████████████████████████████████████████████████████████████████████████████████████████████████████████████████████████████████████████████| 99/99 [04:00<00:00,  2.43s/it]\n",
      "100%|███████████████████████████████████████████████████████████████████████████████████████████████████████████████████████████████████████████████████████████████████████████████████████████████████████| 99/99 [04:02<00:00,  2.44s/it]\n",
      "  0%|                                                                                                                                                                                                                | 0/99 [00:00<?, ?it/s]"
     ]
    },
    {
     "name": "stdout",
     "output_type": "stream",
     "text": [
      "92.0\n"
     ]
    },
    {
     "name": "stderr",
     "output_type": "stream",
     "text": [
      "100%|███████████████████████████████████████████████████████████████████████████████████████████████████████████████████████████████████████████████████████████████████████████████████████████████████████| 99/99 [03:56<00:00,  2.39s/it]\n",
      "100%|███████████████████████████████████████████████████████████████████████████████████████████████████████████████████████████████████████████████████████████████████████████████████████████████████████| 99/99 [04:01<00:00,  2.44s/it]\n",
      "100%|███████████████████████████████████████████████████████████████████████████████████████████████████████████████████████████████████████████████████████████████████████████████████████████████████████| 99/99 [04:02<00:00,  2.45s/it]\n",
      "100%|███████████████████████████████████████████████████████████████████████████████████████████████████████████████████████████████████████████████████████████████████████████████████████████████████████| 99/99 [04:04<00:00,  2.47s/it]\n",
      "100%|███████████████████████████████████████████████████████████████████████████████████████████████████████████████████████████████████████████████████████████████████████████████████████████████████████| 99/99 [04:11<00:00,  2.54s/it]\n",
      "  0%|                                                                                                                                                                                                                | 0/99 [00:00<?, ?it/s]"
     ]
    },
    {
     "name": "stdout",
     "output_type": "stream",
     "text": [
      "93.0\n"
     ]
    },
    {
     "name": "stderr",
     "output_type": "stream",
     "text": [
      "100%|███████████████████████████████████████████████████████████████████████████████████████████████████████████████████████████████████████████████████████████████████████████████████████████████████████| 99/99 [04:00<00:00,  2.43s/it]\n",
      "100%|███████████████████████████████████████████████████████████████████████████████████████████████████████████████████████████████████████████████████████████████████████████████████████████████████████| 99/99 [04:04<00:00,  2.47s/it]\n",
      "100%|███████████████████████████████████████████████████████████████████████████████████████████████████████████████████████████████████████████████████████████████████████████████████████████████████████| 99/99 [04:05<00:00,  2.48s/it]\n",
      "100%|███████████████████████████████████████████████████████████████████████████████████████████████████████████████████████████████████████████████████████████████████████████████████████████████████████| 99/99 [04:12<00:00,  2.55s/it]\n",
      "100%|███████████████████████████████████████████████████████████████████████████████████████████████████████████████████████████████████████████████████████████████████████████████████████████████████████| 99/99 [04:21<00:00,  2.64s/it]\n",
      "  0%|                                                                                                                                                                                                                | 0/99 [00:00<?, ?it/s]"
     ]
    },
    {
     "name": "stdout",
     "output_type": "stream",
     "text": [
      "94.0\n"
     ]
    },
    {
     "name": "stderr",
     "output_type": "stream",
     "text": [
      "100%|███████████████████████████████████████████████████████████████████████████████████████████████████████████████████████████████████████████████████████████████████████████████████████████████████████| 99/99 [03:59<00:00,  2.42s/it]\n",
      "100%|███████████████████████████████████████████████████████████████████████████████████████████████████████████████████████████████████████████████████████████████████████████████████████████████████████| 99/99 [04:00<00:00,  2.43s/it]\n",
      "100%|███████████████████████████████████████████████████████████████████████████████████████████████████████████████████████████████████████████████████████████████████████████████████████████████████████| 99/99 [04:05<00:00,  2.48s/it]\n",
      "100%|███████████████████████████████████████████████████████████████████████████████████████████████████████████████████████████████████████████████████████████████████████████████████████████████████████| 99/99 [04:06<00:00,  2.49s/it]\n",
      "100%|███████████████████████████████████████████████████████████████████████████████████████████████████████████████████████████████████████████████████████████████████████████████████████████████████████| 99/99 [04:10<00:00,  2.53s/it]\n",
      "  0%|                                                                                                                                                                                                                | 0/99 [00:00<?, ?it/s]"
     ]
    },
    {
     "name": "stdout",
     "output_type": "stream",
     "text": [
      "95.0\n"
     ]
    },
    {
     "name": "stderr",
     "output_type": "stream",
     "text": [
      "100%|███████████████████████████████████████████████████████████████████████████████████████████████████████████████████████████████████████████████████████████████████████████████████████████████████████| 99/99 [03:56<00:00,  2.39s/it]\n",
      "100%|███████████████████████████████████████████████████████████████████████████████████████████████████████████████████████████████████████████████████████████████████████████████████████████████████████| 99/99 [03:57<00:00,  2.40s/it]\n",
      "100%|███████████████████████████████████████████████████████████████████████████████████████████████████████████████████████████████████████████████████████████████████████████████████████████████████████| 99/99 [04:00<00:00,  2.43s/it]\n",
      "100%|███████████████████████████████████████████████████████████████████████████████████████████████████████████████████████████████████████████████████████████████████████████████████████████████████████| 99/99 [04:01<00:00,  2.44s/it]\n",
      "100%|███████████████████████████████████████████████████████████████████████████████████████████████████████████████████████████████████████████████████████████████████████████████████████████████████████| 99/99 [04:10<00:00,  2.53s/it]\n",
      "  0%|                                                                                                                                                                                                                | 0/99 [00:00<?, ?it/s]"
     ]
    },
    {
     "name": "stdout",
     "output_type": "stream",
     "text": [
      "96.0\n"
     ]
    },
    {
     "name": "stderr",
     "output_type": "stream",
     "text": [
      "100%|███████████████████████████████████████████████████████████████████████████████████████████████████████████████████████████████████████████████████████████████████████████████████████████████████████| 99/99 [03:57<00:00,  2.40s/it]\n",
      "100%|███████████████████████████████████████████████████████████████████████████████████████████████████████████████████████████████████████████████████████████████████████████████████████████████████████| 99/99 [03:51<00:00,  2.34s/it]\n",
      "100%|███████████████████████████████████████████████████████████████████████████████████████████████████████████████████████████████████████████████████████████████████████████████████████████████████████| 99/99 [03:16<00:00,  1.98s/it]\n",
      "100%|███████████████████████████████████████████████████████████████████████████████████████████████████████████████████████████████████████████████████████████████████████████████████████████████████████| 99/99 [03:20<00:00,  2.03s/it]\n",
      "100%|███████████████████████████████████████████████████████████████████████████████████████████████████████████████████████████████████████████████████████████████████████████████████████████████████████| 99/99 [03:18<00:00,  2.01s/it]\n",
      "  0%|                                                                                                                                                                                                                | 0/99 [00:00<?, ?it/s]"
     ]
    },
    {
     "name": "stdout",
     "output_type": "stream",
     "text": [
      "97.0\n"
     ]
    },
    {
     "name": "stderr",
     "output_type": "stream",
     "text": [
      "100%|███████████████████████████████████████████████████████████████████████████████████████████████████████████████████████████████████████████████████████████████████████████████████████████████████████| 99/99 [03:12<00:00,  1.95s/it]\n",
      "100%|███████████████████████████████████████████████████████████████████████████████████████████████████████████████████████████████████████████████████████████████████████████████████████████████████████| 99/99 [03:15<00:00,  1.97s/it]\n",
      "100%|███████████████████████████████████████████████████████████████████████████████████████████████████████████████████████████████████████████████████████████████████████████████████████████████████████| 99/99 [03:16<00:00,  1.98s/it]\n",
      "100%|███████████████████████████████████████████████████████████████████████████████████████████████████████████████████████████████████████████████████████████████████████████████████████████████████████| 99/99 [03:19<00:00,  2.02s/it]\n",
      "100%|███████████████████████████████████████████████████████████████████████████████████████████████████████████████████████████████████████████████████████████████████████████████████████████████████████| 99/99 [03:19<00:00,  2.02s/it]\n",
      "  0%|                                                                                                                                                                                                                | 0/99 [00:00<?, ?it/s]"
     ]
    },
    {
     "name": "stdout",
     "output_type": "stream",
     "text": [
      "98.0\n"
     ]
    },
    {
     "name": "stderr",
     "output_type": "stream",
     "text": [
      "100%|███████████████████████████████████████████████████████████████████████████████████████████████████████████████████████████████████████████████████████████████████████████████████████████████████████| 99/99 [03:11<00:00,  1.93s/it]\n",
      "100%|███████████████████████████████████████████████████████████████████████████████████████████████████████████████████████████████████████████████████████████████████████████████████████████████████████| 99/99 [03:12<00:00,  1.94s/it]\n",
      "100%|███████████████████████████████████████████████████████████████████████████████████████████████████████████████████████████████████████████████████████████████████████████████████████████████████████| 99/99 [03:14<00:00,  1.96s/it]\n",
      "100%|███████████████████████████████████████████████████████████████████████████████████████████████████████████████████████████████████████████████████████████████████████████████████████████████████████| 99/99 [03:15<00:00,  1.98s/it]\n",
      "100%|███████████████████████████████████████████████████████████████████████████████████████████████████████████████████████████████████████████████████████████████████████████████████████████████████████| 99/99 [03:16<00:00,  1.99s/it]\n",
      "  0%|                                                                                                                                                                                                                | 0/99 [00:00<?, ?it/s]"
     ]
    },
    {
     "name": "stdout",
     "output_type": "stream",
     "text": [
      "99.0\n"
     ]
    },
    {
     "name": "stderr",
     "output_type": "stream",
     "text": [
      "100%|███████████████████████████████████████████████████████████████████████████████████████████████████████████████████████████████████████████████████████████████████████████████████████████████████████| 99/99 [03:09<00:00,  1.92s/it]\n",
      "100%|███████████████████████████████████████████████████████████████████████████████████████████████████████████████████████████████████████████████████████████████████████████████████████████████████████| 99/99 [03:11<00:00,  1.93s/it]\n",
      "100%|███████████████████████████████████████████████████████████████████████████████████████████████████████████████████████████████████████████████████████████████████████████████████████████████████████| 99/99 [03:14<00:00,  1.97s/it]\n",
      "100%|███████████████████████████████████████████████████████████████████████████████████████████████████████████████████████████████████████████████████████████████████████████████████████████████████████| 99/99 [03:57<00:00,  2.40s/it]\n",
      "100%|███████████████████████████████████████████████████████████████████████████████████████████████████████████████████████████████████████████████████████████████████████████████████████████████████████| 99/99 [04:01<00:00,  2.44s/it]\n",
      "  0%|                                                                                                                                                                                                                | 0/99 [00:00<?, ?it/s]"
     ]
    },
    {
     "name": "stdout",
     "output_type": "stream",
     "text": [
      "100.0\n"
     ]
    },
    {
     "name": "stderr",
     "output_type": "stream",
     "text": [
      "100%|███████████████████████████████████████████████████████████████████████████████████████████████████████████████████████████████████████████████████████████████████████████████████████████████████████| 99/99 [03:52<00:00,  2.35s/it]\n",
      "100%|███████████████████████████████████████████████████████████████████████████████████████████████████████████████████████████████████████████████████████████████████████████████████████████████████████| 99/99 [03:57<00:00,  2.40s/it]\n",
      "100%|███████████████████████████████████████████████████████████████████████████████████████████████████████████████████████████████████████████████████████████████████████████████████████████████████████| 99/99 [03:58<00:00,  2.41s/it]\n",
      "100%|███████████████████████████████████████████████████████████████████████████████████████████████████████████████████████████████████████████████████████████████████████████████████████████████████████| 99/99 [03:58<00:00,  2.41s/it]\n",
      "100%|███████████████████████████████████████████████████████████████████████████████████████████████████████████████████████████████████████████████████████████████████████████████████████████████████████| 99/99 [03:53<00:00,  2.36s/it]\n",
      "  0%|                                                                                                                                                                                                                | 0/99 [00:00<?, ?it/s]"
     ]
    },
    {
     "name": "stdout",
     "output_type": "stream",
     "text": [
      "101.0\n"
     ]
    },
    {
     "name": "stderr",
     "output_type": "stream",
     "text": [
      "100%|███████████████████████████████████████████████████████████████████████████████████████████████████████████████████████████████████████████████████████████████████████████████████████████████████████| 99/99 [03:26<00:00,  2.08s/it]\n",
      "100%|███████████████████████████████████████████████████████████████████████████████████████████████████████████████████████████████████████████████████████████████████████████████████████████████████████| 99/99 [03:27<00:00,  2.09s/it]\n",
      "100%|███████████████████████████████████████████████████████████████████████████████████████████████████████████████████████████████████████████████████████████████████████████████████████████████████████| 99/99 [03:30<00:00,  2.13s/it]\n",
      "100%|███████████████████████████████████████████████████████████████████████████████████████████████████████████████████████████████████████████████████████████████████████████████████████████████████████| 99/99 [03:32<00:00,  2.15s/it]\n",
      "100%|███████████████████████████████████████████████████████████████████████████████████████████████████████████████████████████████████████████████████████████████████████████████████████████████████████| 99/99 [04:32<00:00,  2.75s/it]\n",
      "  0%|                                                                                                                                                                                                                | 0/99 [00:00<?, ?it/s]"
     ]
    },
    {
     "name": "stdout",
     "output_type": "stream",
     "text": [
      "102.0\n"
     ]
    },
    {
     "name": "stderr",
     "output_type": "stream",
     "text": [
      "100%|███████████████████████████████████████████████████████████████████████████████████████████████████████████████████████████████████████████████████████████████████████████████████████████████████████| 99/99 [04:11<00:00,  2.54s/it]\n",
      "100%|███████████████████████████████████████████████████████████████████████████████████████████████████████████████████████████████████████████████████████████████████████████████████████████████████████| 99/99 [04:14<00:00,  2.57s/it]\n",
      "100%|███████████████████████████████████████████████████████████████████████████████████████████████████████████████████████████████████████████████████████████████████████████████████████████████████████| 99/99 [04:19<00:00,  2.62s/it]\n",
      "100%|███████████████████████████████████████████████████████████████████████████████████████████████████████████████████████████████████████████████████████████████████████████████████████████████████████| 99/99 [04:20<00:00,  2.64s/it]\n",
      "100%|███████████████████████████████████████████████████████████████████████████████████████████████████████████████████████████████████████████████████████████████████████████████████████████████████████| 99/99 [04:21<00:00,  2.64s/it]\n",
      "  0%|                                                                                                                                                                                                                | 0/99 [00:00<?, ?it/s]"
     ]
    },
    {
     "name": "stdout",
     "output_type": "stream",
     "text": [
      "103.0\n"
     ]
    },
    {
     "name": "stderr",
     "output_type": "stream",
     "text": [
      "100%|███████████████████████████████████████████████████████████████████████████████████████████████████████████████████████████████████████████████████████████████████████████████████████████████████████| 99/99 [04:12<00:00,  2.55s/it]\n",
      "100%|███████████████████████████████████████████████████████████████████████████████████████████████████████████████████████████████████████████████████████████████████████████████████████████████████████| 99/99 [04:19<00:00,  2.62s/it]\n",
      "100%|███████████████████████████████████████████████████████████████████████████████████████████████████████████████████████████████████████████████████████████████████████████████████████████████████████| 99/99 [04:19<00:00,  2.62s/it]\n",
      "100%|███████████████████████████████████████████████████████████████████████████████████████████████████████████████████████████████████████████████████████████████████████████████████████████████████████| 99/99 [04:23<00:00,  2.66s/it]\n",
      "100%|███████████████████████████████████████████████████████████████████████████████████████████████████████████████████████████████████████████████████████████████████████████████████████████████████████| 99/99 [04:28<00:00,  2.71s/it]\n",
      "  0%|                                                                                                                                                                                                                | 0/99 [00:00<?, ?it/s]"
     ]
    },
    {
     "name": "stdout",
     "output_type": "stream",
     "text": [
      "104.0\n"
     ]
    },
    {
     "name": "stderr",
     "output_type": "stream",
     "text": [
      "100%|███████████████████████████████████████████████████████████████████████████████████████████████████████████████████████████████████████████████████████████████████████████████████████████████████████| 99/99 [04:09<00:00,  2.52s/it]\n",
      "100%|███████████████████████████████████████████████████████████████████████████████████████████████████████████████████████████████████████████████████████████████████████████████████████████████████████| 99/99 [03:46<00:00,  2.29s/it]\n",
      "100%|███████████████████████████████████████████████████████████████████████████████████████████████████████████████████████████████████████████████████████████████████████████████████████████████████████| 99/99 [03:21<00:00,  2.03s/it]\n",
      "100%|███████████████████████████████████████████████████████████████████████████████████████████████████████████████████████████████████████████████████████████████████████████████████████████████████████| 99/99 [03:24<00:00,  2.07s/it]\n",
      "100%|███████████████████████████████████████████████████████████████████████████████████████████████████████████████████████████████████████████████████████████████████████████████████████████████████████| 99/99 [03:23<00:00,  2.06s/it]\n",
      "  0%|                                                                                                                                                                                                                | 0/99 [00:00<?, ?it/s]"
     ]
    },
    {
     "name": "stdout",
     "output_type": "stream",
     "text": [
      "105.0\n"
     ]
    },
    {
     "name": "stderr",
     "output_type": "stream",
     "text": [
      "100%|███████████████████████████████████████████████████████████████████████████████████████████████████████████████████████████████████████████████████████████████████████████████████████████████████████| 99/99 [03:28<00:00,  2.11s/it]\n",
      "100%|███████████████████████████████████████████████████████████████████████████████████████████████████████████████████████████████████████████████████████████████████████████████████████████████████████| 99/99 [04:14<00:00,  2.58s/it]\n",
      "100%|███████████████████████████████████████████████████████████████████████████████████████████████████████████████████████████████████████████████████████████████████████████████████████████████████████| 99/99 [04:45<00:00,  2.89s/it]\n",
      "100%|███████████████████████████████████████████████████████████████████████████████████████████████████████████████████████████████████████████████████████████████████████████████████████████████████████| 99/99 [04:38<00:00,  2.82s/it]\n",
      "100%|███████████████████████████████████████████████████████████████████████████████████████████████████████████████████████████████████████████████████████████████████████████████████████████████████████| 99/99 [03:40<00:00,  2.23s/it]\n",
      "  0%|                                                                                                                                                                                                                | 0/99 [00:00<?, ?it/s]"
     ]
    },
    {
     "name": "stdout",
     "output_type": "stream",
     "text": [
      "106.0\n"
     ]
    },
    {
     "name": "stderr",
     "output_type": "stream",
     "text": [
      "100%|███████████████████████████████████████████████████████████████████████████████████████████████████████████████████████████████████████████████████████████████████████████████████████████████████████| 99/99 [03:19<00:00,  2.02s/it]\n",
      "100%|███████████████████████████████████████████████████████████████████████████████████████████████████████████████████████████████████████████████████████████████████████████████████████████████████████| 99/99 [03:25<00:00,  2.07s/it]\n",
      "100%|███████████████████████████████████████████████████████████████████████████████████████████████████████████████████████████████████████████████████████████████████████████████████████████████████████| 99/99 [03:24<00:00,  2.06s/it]\n",
      "100%|███████████████████████████████████████████████████████████████████████████████████████████████████████████████████████████████████████████████████████████████████████████████████████████████████████| 99/99 [03:24<00:00,  2.07s/it]\n",
      "100%|███████████████████████████████████████████████████████████████████████████████████████████████████████████████████████████████████████████████████████████████████████████████████████████████████████| 99/99 [03:26<00:00,  2.08s/it]\n",
      "  0%|                                                                                                                                                                                                                | 0/99 [00:00<?, ?it/s]"
     ]
    },
    {
     "name": "stdout",
     "output_type": "stream",
     "text": [
      "107.0\n"
     ]
    },
    {
     "name": "stderr",
     "output_type": "stream",
     "text": [
      "100%|███████████████████████████████████████████████████████████████████████████████████████████████████████████████████████████████████████████████████████████████████████████████████████████████████████| 99/99 [03:38<00:00,  2.21s/it]\n",
      "100%|███████████████████████████████████████████████████████████████████████████████████████████████████████████████████████████████████████████████████████████████████████████████████████████████████████| 99/99 [04:13<00:00,  2.56s/it]\n",
      "100%|███████████████████████████████████████████████████████████████████████████████████████████████████████████████████████████████████████████████████████████████████████████████████████████████████████| 99/99 [04:15<00:00,  2.58s/it]\n",
      "100%|███████████████████████████████████████████████████████████████████████████████████████████████████████████████████████████████████████████████████████████████████████████████████████████████████████| 99/99 [04:18<00:00,  2.61s/it]\n",
      "100%|███████████████████████████████████████████████████████████████████████████████████████████████████████████████████████████████████████████████████████████████████████████████████████████████████████| 99/99 [04:21<00:00,  2.64s/it]\n",
      "  0%|                                                                                                                                                                                                                | 0/99 [00:00<?, ?it/s]"
     ]
    },
    {
     "name": "stdout",
     "output_type": "stream",
     "text": [
      "108.0\n"
     ]
    },
    {
     "name": "stderr",
     "output_type": "stream",
     "text": [
      "100%|███████████████████████████████████████████████████████████████████████████████████████████████████████████████████████████████████████████████████████████████████████████████████████████████████████| 99/99 [04:07<00:00,  2.50s/it]\n",
      "100%|███████████████████████████████████████████████████████████████████████████████████████████████████████████████████████████████████████████████████████████████████████████████████████████████████████| 99/99 [04:09<00:00,  2.52s/it]\n",
      "100%|███████████████████████████████████████████████████████████████████████████████████████████████████████████████████████████████████████████████████████████████████████████████████████████████████████| 99/99 [04:14<00:00,  2.57s/it]\n",
      "100%|███████████████████████████████████████████████████████████████████████████████████████████████████████████████████████████████████████████████████████████████████████████████████████████████████████| 99/99 [04:18<00:00,  2.61s/it]\n",
      "100%|███████████████████████████████████████████████████████████████████████████████████████████████████████████████████████████████████████████████████████████████████████████████████████████████████████| 99/99 [04:16<00:00,  2.59s/it]\n",
      "  0%|                                                                                                                                                                                                                | 0/99 [00:00<?, ?it/s]"
     ]
    },
    {
     "name": "stdout",
     "output_type": "stream",
     "text": [
      "109.0\n"
     ]
    },
    {
     "name": "stderr",
     "output_type": "stream",
     "text": [
      "100%|███████████████████████████████████████████████████████████████████████████████████████████████████████████████████████████████████████████████████████████████████████████████████████████████████████| 99/99 [04:11<00:00,  2.54s/it]\n",
      "100%|███████████████████████████████████████████████████████████████████████████████████████████████████████████████████████████████████████████████████████████████████████████████████████████████████████| 99/99 [04:16<00:00,  2.59s/it]\n",
      "100%|███████████████████████████████████████████████████████████████████████████████████████████████████████████████████████████████████████████████████████████████████████████████████████████████████████| 99/99 [04:15<00:00,  2.58s/it]\n",
      "100%|███████████████████████████████████████████████████████████████████████████████████████████████████████████████████████████████████████████████████████████████████████████████████████████████████████| 99/99 [04:17<00:00,  2.60s/it]\n",
      "100%|███████████████████████████████████████████████████████████████████████████████████████████████████████████████████████████████████████████████████████████████████████████████████████████████████████| 99/99 [04:23<00:00,  2.66s/it]\n",
      "  0%|                                                                                                                                                                                                                | 0/99 [00:00<?, ?it/s]"
     ]
    },
    {
     "name": "stdout",
     "output_type": "stream",
     "text": [
      "110.0\n"
     ]
    },
    {
     "name": "stderr",
     "output_type": "stream",
     "text": [
      "100%|███████████████████████████████████████████████████████████████████████████████████████████████████████████████████████████████████████████████████████████████████████████████████████████████████████| 99/99 [04:07<00:00,  2.50s/it]\n",
      "100%|███████████████████████████████████████████████████████████████████████████████████████████████████████████████████████████████████████████████████████████████████████████████████████████████████████| 99/99 [04:09<00:00,  2.52s/it]\n",
      "100%|███████████████████████████████████████████████████████████████████████████████████████████████████████████████████████████████████████████████████████████████████████████████████████████████████████| 99/99 [04:11<00:00,  2.54s/it]\n",
      "100%|███████████████████████████████████████████████████████████████████████████████████████████████████████████████████████████████████████████████████████████████████████████████████████████████████████| 99/99 [04:11<00:00,  2.54s/it]\n",
      "100%|███████████████████████████████████████████████████████████████████████████████████████████████████████████████████████████████████████████████████████████████████████████████████████████████████████| 99/99 [04:09<00:00,  2.52s/it]\n",
      "  0%|                                                                                                                                                                                                                | 0/99 [00:00<?, ?it/s]"
     ]
    },
    {
     "name": "stdout",
     "output_type": "stream",
     "text": [
      "111.0\n"
     ]
    },
    {
     "name": "stderr",
     "output_type": "stream",
     "text": [
      "100%|███████████████████████████████████████████████████████████████████████████████████████████████████████████████████████████████████████████████████████████████████████████████████████████████████████| 99/99 [04:08<00:00,  2.51s/it]\n",
      "100%|███████████████████████████████████████████████████████████████████████████████████████████████████████████████████████████████████████████████████████████████████████████████████████████████████████| 99/99 [04:08<00:00,  2.51s/it]\n",
      "100%|███████████████████████████████████████████████████████████████████████████████████████████████████████████████████████████████████████████████████████████████████████████████████████████████████████| 99/99 [04:14<00:00,  2.57s/it]\n",
      "100%|███████████████████████████████████████████████████████████████████████████████████████████████████████████████████████████████████████████████████████████████████████████████████████████████████████| 99/99 [04:12<00:00,  2.55s/it]\n",
      "100%|███████████████████████████████████████████████████████████████████████████████████████████████████████████████████████████████████████████████████████████████████████████████████████████████████████| 99/99 [04:13<00:00,  2.56s/it]\n",
      "  0%|                                                                                                                                                                                                                | 0/99 [00:00<?, ?it/s]"
     ]
    },
    {
     "name": "stdout",
     "output_type": "stream",
     "text": [
      "113.0\n"
     ]
    },
    {
     "name": "stderr",
     "output_type": "stream",
     "text": [
      "100%|███████████████████████████████████████████████████████████████████████████████████████████████████████████████████████████████████████████████████████████████████████████████████████████████████████| 99/99 [04:12<00:00,  2.55s/it]\n",
      "100%|███████████████████████████████████████████████████████████████████████████████████████████████████████████████████████████████████████████████████████████████████████████████████████████████████████| 99/99 [04:14<00:00,  2.57s/it]\n",
      "100%|███████████████████████████████████████████████████████████████████████████████████████████████████████████████████████████████████████████████████████████████████████████████████████████████████████| 99/99 [04:13<00:00,  2.56s/it]\n",
      "100%|███████████████████████████████████████████████████████████████████████████████████████████████████████████████████████████████████████████████████████████████████████████████████████████████████████| 99/99 [04:17<00:00,  2.60s/it]\n",
      "100%|███████████████████████████████████████████████████████████████████████████████████████████████████████████████████████████████████████████████████████████████████████████████████████████████████████| 99/99 [04:35<00:00,  2.78s/it]\n",
      "  0%|                                                                                                                                                                                                                | 0/99 [00:00<?, ?it/s]"
     ]
    },
    {
     "name": "stdout",
     "output_type": "stream",
     "text": [
      "114.0\n"
     ]
    },
    {
     "name": "stderr",
     "output_type": "stream",
     "text": [
      "100%|███████████████████████████████████████████████████████████████████████████████████████████████████████████████████████████████████████████████████████████████████████████████████████████████████████| 99/99 [04:09<00:00,  2.52s/it]\n",
      "100%|███████████████████████████████████████████████████████████████████████████████████████████████████████████████████████████████████████████████████████████████████████████████████████████████████████| 99/99 [04:10<00:00,  2.53s/it]\n",
      "100%|███████████████████████████████████████████████████████████████████████████████████████████████████████████████████████████████████████████████████████████████████████████████████████████████████████| 99/99 [04:14<00:00,  2.57s/it]\n",
      "100%|███████████████████████████████████████████████████████████████████████████████████████████████████████████████████████████████████████████████████████████████████████████████████████████████████████| 99/99 [04:13<00:00,  2.56s/it]\n",
      "100%|███████████████████████████████████████████████████████████████████████████████████████████████████████████████████████████████████████████████████████████████████████████████████████████████████████| 99/99 [04:15<00:00,  2.58s/it]\n",
      "  0%|                                                                                                                                                                                                                | 0/99 [00:00<?, ?it/s]"
     ]
    },
    {
     "name": "stdout",
     "output_type": "stream",
     "text": [
      "115.0\n"
     ]
    },
    {
     "name": "stderr",
     "output_type": "stream",
     "text": [
      "100%|███████████████████████████████████████████████████████████████████████████████████████████████████████████████████████████████████████████████████████████████████████████████████████████████████████| 99/99 [04:07<00:00,  2.50s/it]\n",
      "100%|███████████████████████████████████████████████████████████████████████████████████████████████████████████████████████████████████████████████████████████████████████████████████████████████████████| 99/99 [04:14<00:00,  2.57s/it]\n",
      "100%|███████████████████████████████████████████████████████████████████████████████████████████████████████████████████████████████████████████████████████████████████████████████████████████████████████| 99/99 [04:11<00:00,  2.54s/it]\n",
      "100%|███████████████████████████████████████████████████████████████████████████████████████████████████████████████████████████████████████████████████████████████████████████████████████████████████████| 99/99 [04:13<00:00,  2.56s/it]\n",
      "100%|███████████████████████████████████████████████████████████████████████████████████████████████████████████████████████████████████████████████████████████████████████████████████████████████████████| 99/99 [04:15<00:00,  2.58s/it]\n",
      "  0%|                                                                                                                                                                                                                | 0/99 [00:00<?, ?it/s]"
     ]
    },
    {
     "name": "stdout",
     "output_type": "stream",
     "text": [
      "116.0\n"
     ]
    },
    {
     "name": "stderr",
     "output_type": "stream",
     "text": [
      "100%|███████████████████████████████████████████████████████████████████████████████████████████████████████████████████████████████████████████████████████████████████████████████████████████████████████| 99/99 [04:06<00:00,  2.49s/it]\n",
      "100%|███████████████████████████████████████████████████████████████████████████████████████████████████████████████████████████████████████████████████████████████████████████████████████████████████████| 99/99 [04:07<00:00,  2.50s/it]\n",
      "100%|███████████████████████████████████████████████████████████████████████████████████████████████████████████████████████████████████████████████████████████████████████████████████████████████████████| 99/99 [04:08<00:00,  2.51s/it]\n",
      "100%|███████████████████████████████████████████████████████████████████████████████████████████████████████████████████████████████████████████████████████████████████████████████████████████████████████| 99/99 [04:13<00:00,  2.56s/it]\n",
      "100%|███████████████████████████████████████████████████████████████████████████████████████████████████████████████████████████████████████████████████████████████████████████████████████████████████████| 99/99 [04:12<00:00,  2.55s/it]\n",
      "  0%|                                                                                                                                                                                                                | 0/99 [00:00<?, ?it/s]"
     ]
    },
    {
     "name": "stdout",
     "output_type": "stream",
     "text": [
      "117.0\n"
     ]
    },
    {
     "name": "stderr",
     "output_type": "stream",
     "text": [
      "100%|███████████████████████████████████████████████████████████████████████████████████████████████████████████████████████████████████████████████████████████████████████████████████████████████████████| 99/99 [04:09<00:00,  2.52s/it]\n",
      "100%|███████████████████████████████████████████████████████████████████████████████████████████████████████████████████████████████████████████████████████████████████████████████████████████████████████| 99/99 [04:10<00:00,  2.53s/it]\n",
      "100%|███████████████████████████████████████████████████████████████████████████████████████████████████████████████████████████████████████████████████████████████████████████████████████████████████████| 99/99 [04:16<00:00,  2.59s/it]\n",
      "100%|███████████████████████████████████████████████████████████████████████████████████████████████████████████████████████████████████████████████████████████████████████████████████████████████████████| 99/99 [04:16<00:00,  2.59s/it]\n",
      "100%|███████████████████████████████████████████████████████████████████████████████████████████████████████████████████████████████████████████████████████████████████████████████████████████████████████| 99/99 [04:17<00:00,  2.60s/it]\n",
      "  0%|                                                                                                                                                                                                                | 0/99 [00:00<?, ?it/s]"
     ]
    },
    {
     "name": "stdout",
     "output_type": "stream",
     "text": [
      "118.0\n"
     ]
    },
    {
     "name": "stderr",
     "output_type": "stream",
     "text": [
      "100%|███████████████████████████████████████████████████████████████████████████████████████████████████████████████████████████████████████████████████████████████████████████████████████████████████████| 99/99 [04:07<00:00,  2.50s/it]\n",
      "100%|███████████████████████████████████████████████████████████████████████████████████████████████████████████████████████████████████████████████████████████████████████████████████████████████████████| 99/99 [04:07<00:00,  2.50s/it]\n",
      "100%|███████████████████████████████████████████████████████████████████████████████████████████████████████████████████████████████████████████████████████████████████████████████████████████████████████| 99/99 [04:18<00:00,  2.61s/it]\n",
      "100%|███████████████████████████████████████████████████████████████████████████████████████████████████████████████████████████████████████████████████████████████████████████████████████████████████████| 99/99 [04:06<00:00,  2.49s/it]\n",
      "100%|███████████████████████████████████████████████████████████████████████████████████████████████████████████████████████████████████████████████████████████████████████████████████████████████████████| 99/99 [04:09<00:00,  2.52s/it]\n",
      "  0%|                                                                                                                                                                                                                | 0/99 [00:00<?, ?it/s]"
     ]
    },
    {
     "name": "stdout",
     "output_type": "stream",
     "text": [
      "119.0\n"
     ]
    },
    {
     "name": "stderr",
     "output_type": "stream",
     "text": [
      "100%|███████████████████████████████████████████████████████████████████████████████████████████████████████████████████████████████████████████████████████████████████████████████████████████████████████| 99/99 [04:06<00:00,  2.49s/it]\n",
      "100%|███████████████████████████████████████████████████████████████████████████████████████████████████████████████████████████████████████████████████████████████████████████████████████████████████████| 99/99 [04:08<00:00,  2.51s/it]\n",
      "100%|███████████████████████████████████████████████████████████████████████████████████████████████████████████████████████████████████████████████████████████████████████████████████████████████████████| 99/99 [04:11<00:00,  2.54s/it]\n",
      "100%|███████████████████████████████████████████████████████████████████████████████████████████████████████████████████████████████████████████████████████████████████████████████████████████████████████| 99/99 [04:09<00:00,  2.52s/it]\n",
      "100%|███████████████████████████████████████████████████████████████████████████████████████████████████████████████████████████████████████████████████████████████████████████████████████████████████████| 99/99 [04:10<00:00,  2.53s/it]\n"
     ]
    }
   ],
   "source": [
    "#result_com=1\n",
    "#depth=5\n",
    "model_score_df=pd.DataFrame(columns=['target_com','depth','target_per','総収益', '投資金額','出現数','購買予測数','利益率','購買的中率','的中数'])\n",
    "for result_com_number in result_com_df['result_com'].values:\n",
    "    print(result_com_number)\n",
    "    result_com=result_com_number\n",
    "    #result_comごとの閾値の決定========================================================================\n",
    "    \n",
    "    gain_th=10#利益率の閾値\n",
    "    result_s=result_com_df[result_com_df['result_com']==result_com]\n",
    "    buy_accuracy_th=result_s['result_com_per'].values[0]*1.1#買ったうちの的中率の閾値\n",
    "    num_tp_th=result_s['result_com_num'].values[0]*0.2#あたった回数の閾値(出現回数の20%が的中)\n",
    "    #===============================================================================\n",
    "    #学習データのラベル変換==========================================================\n",
    "    result_train_df=train_df.copy() \n",
    "    result_arr=[0]*len(result_train_df)\n",
    "    i=0\n",
    "    for result in result_train_df['result_com']:\n",
    "        if ((result==result_com)):\n",
    "            result_arr[i]=1\n",
    "        else:\n",
    "            result_arr[i]=0\n",
    "        i+=1\n",
    "    result_train_df['result_com']=result_arr\n",
    "    result_valid_df=valid_df.copy() \n",
    "    result_arr=[0]*len(result_valid_df)\n",
    "    i=0\n",
    "    for result in result_valid_df['result_com']:\n",
    "        if ((result==result_com)):\n",
    "            result_arr[i]=1\n",
    "        else:\n",
    "            result_arr[i]=0\n",
    "        i+=1\n",
    "\n",
    "    result_valid_df['result_com']=result_arr\n",
    "\n",
    "    result_train_df['money']=train_money\n",
    "    result_valid_df['money']=valid_money\n",
    "    #学習データラベル変換終わり============================================\n",
    "\n",
    "    for_arr=np.arange(1,100,1)\n",
    "    accuracy_arr=[0]*len(for_arr)\n",
    "    target_per_arr=[0]*len(for_arr)\n",
    "    pred_0=[0]*len(for_arr)\n",
    "    gain_arr=[0]*len(for_arr)\n",
    "    model_gain_arr=[0]*len(result_valid_df)\n",
    "    valid_gain_arr=valid_money.values\n",
    "\n",
    "    depths_arr=[4,5,6,7,8]\n",
    "    for depth in depths_arr:\n",
    "        for sum_target_per in tqdm(for_arr):\n",
    "            \n",
    "            index=sum_target_per-1\n",
    "            target_per=50+sum_target_per\n",
    "            target_per_arr[index]=target_per\n",
    "\n",
    "            #モデルの評価指標値を格納するseries======================\n",
    "            model_score_s=pd.Series(index=['target_com','depth','target_per','総収益', '投資金額','出現数','購買予測数','利益率','購買的中率','的中数'])\n",
    "            model_score_s['target_com']=result_com#目標としているresult_comラベル番号\n",
    "            model_score_s['depth']=depth#ハイパーパラメータ＿木の深さ\n",
    "            model_score_s['target_per']=target_per#学習データ_1に対してどの程度の0のデータを持たせるか。\n",
    "            #======================\n",
    "            #trainの[0]に対して、target_perの割合の量[1]を持った学習データの作成\n",
    "            # 一層目の判別機のtrainデータ　:terget_result_df\n",
    "            target_df=result_train_df#ベースのデータフレームをコピー\n",
    "            target_df=target_df.sample(frac=1, random_state=1)#シャッフル、時系列の偏りを無くす\n",
    "            target_1_df=target_df[target_df['result_com']==1]\n",
    "            len_1=len(target_1_df)\n",
    "            target_0_df=target_df[target_df['result_com']==0]\n",
    "            len_0=len(target_0_df)\n",
    "            target_0_df=target_0_df.iloc[(len_0-int(len_1*(target_per/100))):len_0]#1に対する目標の割合ぶん0の結果だったレースを抽出（後ろから抽出）\n",
    "            target_train_df=pd.concat([target_1_df, target_0_df])\n",
    "            #以下学習パート======================================================\n",
    "            target_x_train=target_train_df.drop('money',axis=1)\n",
    "            target_x_train=target_x_train.drop('result_com',axis=1)\n",
    "            target_y_train=target_train_df['result_com']\n",
    "            #テストデータ\n",
    "            target_y_valid=result_valid_df['result_com']\n",
    "            target_x_valid=result_valid_df.drop('money',axis=1)\n",
    "            target_x_valid=target_x_valid.drop('result_com',axis=1)\n",
    "            RF = RandomForestClassifier(random_state=1,n_estimators=1000,max_depth=depth)\n",
    "            RF = RF.fit(target_x_train,target_y_train)\n",
    "\n",
    "\n",
    "            #以下精度検証(１の正答率のみ調査)\n",
    "\n",
    "            # 未知データに対する予測値\n",
    "            predict_y_valid = RF.predict(target_x_valid)\n",
    "\n",
    "            #[1]の正答率を見る\n",
    "            pred_valid_df=pd.DataFrame({'pred':predict_y_valid\n",
    "                                      , 'valid':target_y_valid})\n",
    "            num_1=len(pred_valid_df[pred_valid_df['valid']==1])\n",
    "            count=0\n",
    "            #追加　配当金の情報も考慮する。\n",
    "            gain_index=0\n",
    "            model_gain_arr=[0]*len(result_valid_df)\n",
    "            for _, s in pred_valid_df.iterrows():\n",
    "                if ((s['pred']==1) and (s['valid']==1)):\n",
    "                    count+=1#的中回数\n",
    "                    model_gain_arr[gain_index]=valid_gain_arr[gain_index]\n",
    "                gain_index+=1\n",
    "            #print('test accyracy: {}'.format((count/num_1)*100))\n",
    "            gain_arr[index]=sum(model_gain_arr)\n",
    "            accuracy_arr[index]=(count/num_1)*100\n",
    "            try:\n",
    "                pred_0[index]=pred_valid_df['pred'].value_counts()[0]\n",
    "            except:\n",
    "                pred_0[index]=0\n",
    "            #scoreのseriesに情報書き込み==================\n",
    "            model_score_s['総収益']=sum(model_gain_arr)\n",
    "            model_score_s['投資金額']=100*sum(predict_y_valid)\n",
    "            model_score_s['出現数']=sum(target_y_valid)\n",
    "            model_score_s['購買予測数']=sum(predict_y_valid)\n",
    "            model_score_s['利益率']=(model_score_s['総収益']/model_score_s['投資金額'])*100\n",
    "            model_score_s['購買的中率']=(count/sum(predict_y_valid))*100\n",
    "            model_score_s['的中数']=count\n",
    "            model_score_df=model_score_df.append(model_score_s,ignore_index=True)\n",
    "            \n",
    "#モデルの「スコアを保存        \n",
    "model_score_df.to_csv('model_score.csv', encoding='utf_8_sig')\n",
    "            \n",
    "            "
   ]
  },
  {
   "cell_type": "markdown",
   "metadata": {},
   "source": [
    "## モデルのスコアを保存"
   ]
  },
  {
   "cell_type": "code",
   "execution_count": 28,
   "metadata": {},
   "outputs": [],
   "source": [
    "model_score_df.to_csv('model_score.csv', encoding='utf_8_sig')"
   ]
  },
  {
   "cell_type": "markdown",
   "metadata": {},
   "source": [
    "### モデリング用＿動作確認"
   ]
  },
  {
   "cell_type": "code",
   "execution_count": 29,
   "metadata": {},
   "outputs": [
    {
     "data": {
      "text/plain": [
       "\"\\nresult_com=1\\ndepth=5\\nmodel_score_df=pd.DataFrame(columns=['target_com','depth','target_per','総収益', '投資金額','出現数','購買予測数','利益率','購買的中率','的中数'])\\n\\n#result_comごとの閾値の決定========================================================================\\ngain_th=10#利益率の閾値\\nresult_s=result_com_df[result_com_df['result_com']==result_com]\\nbuy_accuracy_th=result_s['result_com_per'].values[0]*1.1#買ったうちの的中率の閾値\\nnum_tp_th=result_s['result_com_num'].values[0]*0.2#あたった回数の閾値(出現回数の20%が的中)\\n#===============================================================================\\n#学習データのラベル変換==========================================================\\nresult_train_df=train_df\\nresult_arr=[0]*len(result_train_df)\\ni=0\\nfor result in result_train_df['result_com']:\\n    if ((result==result_com)):\\n        result_arr[i]=1\\n    else:\\n        result_arr[i]=0\\n    i+=1\\nresult_train_df['result_com']=result_arr\\n\\nresult_valid_df=valid_df\\nresult_arr=[0]*len(result_valid_df)\\ni=0\\nfor result in result_valid_df['result_com']:\\n    if ((result==result_com)):\\n        result_arr[i]=1\\n    else:\\n        result_arr[i]=0\\n    i+=1\\n\\nresult_valid_df['result_com']=result_arr\\n\\nresult_train_df['money']=train_money\\nresult_valid_df['money']=valid_money\\n#学習データラベル変換終わり============================================\\n\\nfor_arr=np.arange(1,100,1)\\naccuracy_arr=[0]*len(for_arr)\\ntarget_per_arr=[0]*len(for_arr)\\npred_0=[0]*len(for_arr)\\ngain_arr=[0]*len(for_arr)\\nmodel_gain_arr=[0]*len(result_valid_df)\\nvalid_gain_arr=valid_money.values\\nfor sum_target_per in for_arr:\\n    \\n    index=sum_target_per-1\\n    target_per=50+sum_target_per\\n    target_per_arr[index]=target_per\\n    \\n    #モデルの評価指標値を格納するseries======================\\n    model_score_s=pd.Series(index=['target_com','depth','target_per','総収益', '投資金額','出現数','購買予測数','利益率','購買的中率','的中数'])\\n    model_score_s['target_com']=result_com#目標としているresult_comラベル番号\\n    model_score_s['depth']=depth#ハイパーパラメータ＿木の深さ\\n    model_score_s['target_per']=target_per#学習データ_1に対してどの程度の0のデータを持たせるか。\\n    #======================\\n    #trainの[0]に対して、target_perの割合の量[1]を持った学習データの作成\\n    # 一層目の判別機のtrainデータ\\u3000:terget_result_df\\n    target_df=result_train_df#ベースのデータフレームをコピー\\n    target_df=target_df.sample(frac=1, random_state=1)#シャッフル、時系列の偏りを無くす\\n    target_1_df=target_df[target_df['result_com']==1]\\n    len_1=len(target_1_df)\\n    target_0_df=target_df[target_df['result_com']==0]\\n    len_0=len(target_0_df)\\n    target_0_df=target_0_df.iloc[(len_0-int(len_1*(target_per/100))):len_0]#1に対する目標の割合ぶん0の結果だったレースを抽出（後ろから抽出）\\n    target_train_df=pd.concat([target_1_df, target_0_df])\\n    #以下学習パート======================================================\\n    target_x_train=target_train_df.drop('money',axis=1)\\n    target_x_train=target_x_train.drop('result_com',axis=1)\\n    target_y_train=target_train_df['result_com']\\n    #テストデータ\\n    target_y_valid=result_valid_df['result_com']\\n    target_x_valid=result_valid_df.drop('money',axis=1)\\n    target_x_valid=target_x_valid.drop('result_com',axis=1)\\n    RF = RandomForestClassifier(random_state=1,n_estimators=1000,max_depth=depth)\\n    RF = RF.fit(target_x_train,target_y_train)\\n\\n\\n    #以下精度検証(１の正答率のみ調査)\\n\\n    # 未知データに対する予測値\\n    predict_y_valid = RF.predict(target_x_valid)\\n\\n    #[1]の正答率を見る\\n    pred_valid_df=pd.DataFrame({'pred':predict_y_valid\\n                              , 'valid':target_y_valid})\\n    num_1=len(pred_valid_df[pred_valid_df['valid']==1])\\n    count=0\\n    #追加\\u3000配当金の情報も考慮する。\\n    gain_index=0\\n    model_gain_arr=[0]*len(result_valid_df)\\n    for _, s in pred_valid_df.iterrows():\\n        if ((s['pred']==1) and (s['valid']==1)):\\n            count+=1#的中回数\\n            model_gain_arr[gain_index]=valid_gain_arr[gain_index]\\n        gain_index+=1\\n    #print('test accyracy: {}'.format((count/num_1)*100))\\n    gain_arr[index]=sum(model_gain_arr)\\n    accuracy_arr[index]=(count/num_1)*100\\n    try:\\n        pred_0[index]=pred_valid_df['pred'].value_counts()[0]\\n    except:\\n        pred_0[index]=0\\n    #scoreのseriesに情報書き込み==================\\n    model_score_s['総収益']=sum(model_gain_arr)\\n    model_score_s['投資金額']=100*sum(predict_y_valid)\\n    model_score_s['出現数']=sum(target_y_valid)\\n    model_score_s['購買予測数']=sum(predict_y_valid)\\n    model_score_s['利益率']=(model_score_s['総収益']/model_score_s['投資金額'])*100\\n    model_score_s['購買的中率']=(count/sum(predict_y_valid))*100\\n    model_score_s['的中数']=count\\n    model_score_df=model_score_df.append(model_score_s,ignore_index=True)\\n\\n\""
      ]
     },
     "execution_count": 29,
     "metadata": {},
     "output_type": "execute_result"
    }
   ],
   "source": [
    "\"\"\"\n",
    "result_com=1\n",
    "depth=5\n",
    "model_score_df=pd.DataFrame(columns=['target_com','depth','target_per','総収益', '投資金額','出現数','購買予測数','利益率','購買的中率','的中数'])\n",
    "\n",
    "#result_comごとの閾値の決定========================================================================\n",
    "gain_th=10#利益率の閾値\n",
    "result_s=result_com_df[result_com_df['result_com']==result_com]\n",
    "buy_accuracy_th=result_s['result_com_per'].values[0]*1.1#買ったうちの的中率の閾値\n",
    "num_tp_th=result_s['result_com_num'].values[0]*0.2#あたった回数の閾値(出現回数の20%が的中)\n",
    "#===============================================================================\n",
    "#学習データのラベル変換==========================================================\n",
    "result_train_df=train_df\n",
    "result_arr=[0]*len(result_train_df)\n",
    "i=0\n",
    "for result in result_train_df['result_com']:\n",
    "    if ((result==result_com)):\n",
    "        result_arr[i]=1\n",
    "    else:\n",
    "        result_arr[i]=0\n",
    "    i+=1\n",
    "result_train_df['result_com']=result_arr\n",
    "\n",
    "result_valid_df=valid_df\n",
    "result_arr=[0]*len(result_valid_df)\n",
    "i=0\n",
    "for result in result_valid_df['result_com']:\n",
    "    if ((result==result_com)):\n",
    "        result_arr[i]=1\n",
    "    else:\n",
    "        result_arr[i]=0\n",
    "    i+=1\n",
    "\n",
    "result_valid_df['result_com']=result_arr\n",
    "\n",
    "result_train_df['money']=train_money\n",
    "result_valid_df['money']=valid_money\n",
    "#学習データラベル変換終わり============================================\n",
    "\n",
    "for_arr=np.arange(1,100,1)\n",
    "accuracy_arr=[0]*len(for_arr)\n",
    "target_per_arr=[0]*len(for_arr)\n",
    "pred_0=[0]*len(for_arr)\n",
    "gain_arr=[0]*len(for_arr)\n",
    "model_gain_arr=[0]*len(result_valid_df)\n",
    "valid_gain_arr=valid_money.values\n",
    "for sum_target_per in for_arr:\n",
    "    \n",
    "    index=sum_target_per-1\n",
    "    target_per=50+sum_target_per\n",
    "    target_per_arr[index]=target_per\n",
    "    \n",
    "    #モデルの評価指標値を格納するseries======================\n",
    "    model_score_s=pd.Series(index=['target_com','depth','target_per','総収益', '投資金額','出現数','購買予測数','利益率','購買的中率','的中数'])\n",
    "    model_score_s['target_com']=result_com#目標としているresult_comラベル番号\n",
    "    model_score_s['depth']=depth#ハイパーパラメータ＿木の深さ\n",
    "    model_score_s['target_per']=target_per#学習データ_1に対してどの程度の0のデータを持たせるか。\n",
    "    #======================\n",
    "    #trainの[0]に対して、target_perの割合の量[1]を持った学習データの作成\n",
    "    # 一層目の判別機のtrainデータ　:terget_result_df\n",
    "    target_df=result_train_df#ベースのデータフレームをコピー\n",
    "    target_df=target_df.sample(frac=1, random_state=1)#シャッフル、時系列の偏りを無くす\n",
    "    target_1_df=target_df[target_df['result_com']==1]\n",
    "    len_1=len(target_1_df)\n",
    "    target_0_df=target_df[target_df['result_com']==0]\n",
    "    len_0=len(target_0_df)\n",
    "    target_0_df=target_0_df.iloc[(len_0-int(len_1*(target_per/100))):len_0]#1に対する目標の割合ぶん0の結果だったレースを抽出（後ろから抽出）\n",
    "    target_train_df=pd.concat([target_1_df, target_0_df])\n",
    "    #以下学習パート======================================================\n",
    "    target_x_train=target_train_df.drop('money',axis=1)\n",
    "    target_x_train=target_x_train.drop('result_com',axis=1)\n",
    "    target_y_train=target_train_df['result_com']\n",
    "    #テストデータ\n",
    "    target_y_valid=result_valid_df['result_com']\n",
    "    target_x_valid=result_valid_df.drop('money',axis=1)\n",
    "    target_x_valid=target_x_valid.drop('result_com',axis=1)\n",
    "    RF = RandomForestClassifier(random_state=1,n_estimators=1000,max_depth=depth)\n",
    "    RF = RF.fit(target_x_train,target_y_train)\n",
    "\n",
    "\n",
    "    #以下精度検証(１の正答率のみ調査)\n",
    "\n",
    "    # 未知データに対する予測値\n",
    "    predict_y_valid = RF.predict(target_x_valid)\n",
    "\n",
    "    #[1]の正答率を見る\n",
    "    pred_valid_df=pd.DataFrame({'pred':predict_y_valid\n",
    "                              , 'valid':target_y_valid})\n",
    "    num_1=len(pred_valid_df[pred_valid_df['valid']==1])\n",
    "    count=0\n",
    "    #追加　配当金の情報も考慮する。\n",
    "    gain_index=0\n",
    "    model_gain_arr=[0]*len(result_valid_df)\n",
    "    for _, s in pred_valid_df.iterrows():\n",
    "        if ((s['pred']==1) and (s['valid']==1)):\n",
    "            count+=1#的中回数\n",
    "            model_gain_arr[gain_index]=valid_gain_arr[gain_index]\n",
    "        gain_index+=1\n",
    "    #print('test accyracy: {}'.format((count/num_1)*100))\n",
    "    gain_arr[index]=sum(model_gain_arr)\n",
    "    accuracy_arr[index]=(count/num_1)*100\n",
    "    try:\n",
    "        pred_0[index]=pred_valid_df['pred'].value_counts()[0]\n",
    "    except:\n",
    "        pred_0[index]=0\n",
    "    #scoreのseriesに情報書き込み==================\n",
    "    model_score_s['総収益']=sum(model_gain_arr)\n",
    "    model_score_s['投資金額']=100*sum(predict_y_valid)\n",
    "    model_score_s['出現数']=sum(target_y_valid)\n",
    "    model_score_s['購買予測数']=sum(predict_y_valid)\n",
    "    model_score_s['利益率']=(model_score_s['総収益']/model_score_s['投資金額'])*100\n",
    "    model_score_s['購買的中率']=(count/sum(predict_y_valid))*100\n",
    "    model_score_s['的中数']=count\n",
    "    model_score_df=model_score_df.append(model_score_s,ignore_index=True)\n",
    "\n",
    "\"\"\""
   ]
  },
  {
   "cell_type": "code",
   "execution_count": 12,
   "metadata": {},
   "outputs": [
    {
     "data": {
      "text/plain": [
       "5900"
      ]
     },
     "execution_count": 12,
     "metadata": {},
     "output_type": "execute_result"
    }
   ],
   "source": [
    "100*sum(predict_y_valid)"
   ]
  },
  {
   "cell_type": "code",
   "execution_count": 13,
   "metadata": {},
   "outputs": [
    {
     "data": {
      "text/plain": [
       "3262.7"
      ]
     },
     "execution_count": 13,
     "metadata": {},
     "output_type": "execute_result"
    }
   ],
   "source": [
    "(sum(model_gain_arr)/100*sum(predict_y_valid))"
   ]
  },
  {
   "cell_type": "code",
   "execution_count": 54,
   "metadata": {},
   "outputs": [
    {
     "data": {
      "text/html": [
       "<div>\n",
       "<style scoped>\n",
       "    .dataframe tbody tr th:only-of-type {\n",
       "        vertical-align: middle;\n",
       "    }\n",
       "\n",
       "    .dataframe tbody tr th {\n",
       "        vertical-align: top;\n",
       "    }\n",
       "\n",
       "    .dataframe thead th {\n",
       "        text-align: right;\n",
       "    }\n",
       "</style>\n",
       "<table border=\"1\" class=\"dataframe\">\n",
       "  <thead>\n",
       "    <tr style=\"text-align: right;\">\n",
       "      <th></th>\n",
       "      <th>target_com</th>\n",
       "      <th>depth</th>\n",
       "      <th>target_per</th>\n",
       "      <th>総収益</th>\n",
       "      <th>投資金額</th>\n",
       "      <th>出現数</th>\n",
       "      <th>購買予測数</th>\n",
       "      <th>利益率</th>\n",
       "      <th>購買的中率</th>\n",
       "      <th>的中数</th>\n",
       "    </tr>\n",
       "  </thead>\n",
       "  <tbody>\n",
       "    <tr>\n",
       "      <th>0</th>\n",
       "      <td>1.0</td>\n",
       "      <td>4.0</td>\n",
       "      <td>51.0</td>\n",
       "      <td>256020.0</td>\n",
       "      <td>314900.0</td>\n",
       "      <td>234.0</td>\n",
       "      <td>3149.0</td>\n",
       "      <td>81.302001</td>\n",
       "      <td>7.430930</td>\n",
       "      <td>234.0</td>\n",
       "    </tr>\n",
       "    <tr>\n",
       "      <th>1</th>\n",
       "      <td>1.0</td>\n",
       "      <td>4.0</td>\n",
       "      <td>52.0</td>\n",
       "      <td>256020.0</td>\n",
       "      <td>314900.0</td>\n",
       "      <td>234.0</td>\n",
       "      <td>3149.0</td>\n",
       "      <td>81.302001</td>\n",
       "      <td>7.430930</td>\n",
       "      <td>234.0</td>\n",
       "    </tr>\n",
       "    <tr>\n",
       "      <th>2</th>\n",
       "      <td>1.0</td>\n",
       "      <td>4.0</td>\n",
       "      <td>53.0</td>\n",
       "      <td>256020.0</td>\n",
       "      <td>314900.0</td>\n",
       "      <td>234.0</td>\n",
       "      <td>3149.0</td>\n",
       "      <td>81.302001</td>\n",
       "      <td>7.430930</td>\n",
       "      <td>234.0</td>\n",
       "    </tr>\n",
       "    <tr>\n",
       "      <th>3</th>\n",
       "      <td>1.0</td>\n",
       "      <td>4.0</td>\n",
       "      <td>54.0</td>\n",
       "      <td>256020.0</td>\n",
       "      <td>314900.0</td>\n",
       "      <td>234.0</td>\n",
       "      <td>3149.0</td>\n",
       "      <td>81.302001</td>\n",
       "      <td>7.430930</td>\n",
       "      <td>234.0</td>\n",
       "    </tr>\n",
       "    <tr>\n",
       "      <th>4</th>\n",
       "      <td>1.0</td>\n",
       "      <td>4.0</td>\n",
       "      <td>55.0</td>\n",
       "      <td>256020.0</td>\n",
       "      <td>314900.0</td>\n",
       "      <td>234.0</td>\n",
       "      <td>3149.0</td>\n",
       "      <td>81.302001</td>\n",
       "      <td>7.430930</td>\n",
       "      <td>234.0</td>\n",
       "    </tr>\n",
       "    <tr>\n",
       "      <th>5</th>\n",
       "      <td>1.0</td>\n",
       "      <td>4.0</td>\n",
       "      <td>56.0</td>\n",
       "      <td>256020.0</td>\n",
       "      <td>314900.0</td>\n",
       "      <td>234.0</td>\n",
       "      <td>3149.0</td>\n",
       "      <td>81.302001</td>\n",
       "      <td>7.430930</td>\n",
       "      <td>234.0</td>\n",
       "    </tr>\n",
       "    <tr>\n",
       "      <th>6</th>\n",
       "      <td>1.0</td>\n",
       "      <td>4.0</td>\n",
       "      <td>57.0</td>\n",
       "      <td>256020.0</td>\n",
       "      <td>314900.0</td>\n",
       "      <td>234.0</td>\n",
       "      <td>3149.0</td>\n",
       "      <td>81.302001</td>\n",
       "      <td>7.430930</td>\n",
       "      <td>234.0</td>\n",
       "    </tr>\n",
       "    <tr>\n",
       "      <th>7</th>\n",
       "      <td>1.0</td>\n",
       "      <td>4.0</td>\n",
       "      <td>58.0</td>\n",
       "      <td>256020.0</td>\n",
       "      <td>314900.0</td>\n",
       "      <td>234.0</td>\n",
       "      <td>3149.0</td>\n",
       "      <td>81.302001</td>\n",
       "      <td>7.430930</td>\n",
       "      <td>234.0</td>\n",
       "    </tr>\n",
       "    <tr>\n",
       "      <th>8</th>\n",
       "      <td>1.0</td>\n",
       "      <td>4.0</td>\n",
       "      <td>59.0</td>\n",
       "      <td>256020.0</td>\n",
       "      <td>314900.0</td>\n",
       "      <td>234.0</td>\n",
       "      <td>3149.0</td>\n",
       "      <td>81.302001</td>\n",
       "      <td>7.430930</td>\n",
       "      <td>234.0</td>\n",
       "    </tr>\n",
       "    <tr>\n",
       "      <th>9</th>\n",
       "      <td>1.0</td>\n",
       "      <td>4.0</td>\n",
       "      <td>60.0</td>\n",
       "      <td>256020.0</td>\n",
       "      <td>314900.0</td>\n",
       "      <td>234.0</td>\n",
       "      <td>3149.0</td>\n",
       "      <td>81.302001</td>\n",
       "      <td>7.430930</td>\n",
       "      <td>234.0</td>\n",
       "    </tr>\n",
       "    <tr>\n",
       "      <th>10</th>\n",
       "      <td>1.0</td>\n",
       "      <td>4.0</td>\n",
       "      <td>61.0</td>\n",
       "      <td>256020.0</td>\n",
       "      <td>314900.0</td>\n",
       "      <td>234.0</td>\n",
       "      <td>3149.0</td>\n",
       "      <td>81.302001</td>\n",
       "      <td>7.430930</td>\n",
       "      <td>234.0</td>\n",
       "    </tr>\n",
       "    <tr>\n",
       "      <th>11</th>\n",
       "      <td>1.0</td>\n",
       "      <td>4.0</td>\n",
       "      <td>62.0</td>\n",
       "      <td>256020.0</td>\n",
       "      <td>314900.0</td>\n",
       "      <td>234.0</td>\n",
       "      <td>3149.0</td>\n",
       "      <td>81.302001</td>\n",
       "      <td>7.430930</td>\n",
       "      <td>234.0</td>\n",
       "    </tr>\n",
       "    <tr>\n",
       "      <th>12</th>\n",
       "      <td>1.0</td>\n",
       "      <td>4.0</td>\n",
       "      <td>63.0</td>\n",
       "      <td>256020.0</td>\n",
       "      <td>314900.0</td>\n",
       "      <td>234.0</td>\n",
       "      <td>3149.0</td>\n",
       "      <td>81.302001</td>\n",
       "      <td>7.430930</td>\n",
       "      <td>234.0</td>\n",
       "    </tr>\n",
       "    <tr>\n",
       "      <th>13</th>\n",
       "      <td>1.0</td>\n",
       "      <td>4.0</td>\n",
       "      <td>64.0</td>\n",
       "      <td>256020.0</td>\n",
       "      <td>314800.0</td>\n",
       "      <td>234.0</td>\n",
       "      <td>3148.0</td>\n",
       "      <td>81.327827</td>\n",
       "      <td>7.433291</td>\n",
       "      <td>234.0</td>\n",
       "    </tr>\n",
       "    <tr>\n",
       "      <th>14</th>\n",
       "      <td>1.0</td>\n",
       "      <td>4.0</td>\n",
       "      <td>65.0</td>\n",
       "      <td>256020.0</td>\n",
       "      <td>314700.0</td>\n",
       "      <td>234.0</td>\n",
       "      <td>3147.0</td>\n",
       "      <td>81.353670</td>\n",
       "      <td>7.435653</td>\n",
       "      <td>234.0</td>\n",
       "    </tr>\n",
       "    <tr>\n",
       "      <th>15</th>\n",
       "      <td>1.0</td>\n",
       "      <td>4.0</td>\n",
       "      <td>66.0</td>\n",
       "      <td>256020.0</td>\n",
       "      <td>314700.0</td>\n",
       "      <td>234.0</td>\n",
       "      <td>3147.0</td>\n",
       "      <td>81.353670</td>\n",
       "      <td>7.435653</td>\n",
       "      <td>234.0</td>\n",
       "    </tr>\n",
       "    <tr>\n",
       "      <th>16</th>\n",
       "      <td>1.0</td>\n",
       "      <td>4.0</td>\n",
       "      <td>67.0</td>\n",
       "      <td>256020.0</td>\n",
       "      <td>314800.0</td>\n",
       "      <td>234.0</td>\n",
       "      <td>3148.0</td>\n",
       "      <td>81.327827</td>\n",
       "      <td>7.433291</td>\n",
       "      <td>234.0</td>\n",
       "    </tr>\n",
       "    <tr>\n",
       "      <th>17</th>\n",
       "      <td>1.0</td>\n",
       "      <td>4.0</td>\n",
       "      <td>68.0</td>\n",
       "      <td>256020.0</td>\n",
       "      <td>314700.0</td>\n",
       "      <td>234.0</td>\n",
       "      <td>3147.0</td>\n",
       "      <td>81.353670</td>\n",
       "      <td>7.435653</td>\n",
       "      <td>234.0</td>\n",
       "    </tr>\n",
       "    <tr>\n",
       "      <th>18</th>\n",
       "      <td>1.0</td>\n",
       "      <td>4.0</td>\n",
       "      <td>69.0</td>\n",
       "      <td>256020.0</td>\n",
       "      <td>314600.0</td>\n",
       "      <td>234.0</td>\n",
       "      <td>3146.0</td>\n",
       "      <td>81.379530</td>\n",
       "      <td>7.438017</td>\n",
       "      <td>234.0</td>\n",
       "    </tr>\n",
       "    <tr>\n",
       "      <th>19</th>\n",
       "      <td>1.0</td>\n",
       "      <td>4.0</td>\n",
       "      <td>70.0</td>\n",
       "      <td>256020.0</td>\n",
       "      <td>314600.0</td>\n",
       "      <td>234.0</td>\n",
       "      <td>3146.0</td>\n",
       "      <td>81.379530</td>\n",
       "      <td>7.438017</td>\n",
       "      <td>234.0</td>\n",
       "    </tr>\n",
       "    <tr>\n",
       "      <th>20</th>\n",
       "      <td>1.0</td>\n",
       "      <td>4.0</td>\n",
       "      <td>71.0</td>\n",
       "      <td>256020.0</td>\n",
       "      <td>314000.0</td>\n",
       "      <td>234.0</td>\n",
       "      <td>3140.0</td>\n",
       "      <td>81.535032</td>\n",
       "      <td>7.452229</td>\n",
       "      <td>234.0</td>\n",
       "    </tr>\n",
       "    <tr>\n",
       "      <th>21</th>\n",
       "      <td>1.0</td>\n",
       "      <td>4.0</td>\n",
       "      <td>72.0</td>\n",
       "      <td>256020.0</td>\n",
       "      <td>314000.0</td>\n",
       "      <td>234.0</td>\n",
       "      <td>3140.0</td>\n",
       "      <td>81.535032</td>\n",
       "      <td>7.452229</td>\n",
       "      <td>234.0</td>\n",
       "    </tr>\n",
       "    <tr>\n",
       "      <th>22</th>\n",
       "      <td>1.0</td>\n",
       "      <td>4.0</td>\n",
       "      <td>73.0</td>\n",
       "      <td>256020.0</td>\n",
       "      <td>313300.0</td>\n",
       "      <td>234.0</td>\n",
       "      <td>3133.0</td>\n",
       "      <td>81.717204</td>\n",
       "      <td>7.468880</td>\n",
       "      <td>234.0</td>\n",
       "    </tr>\n",
       "    <tr>\n",
       "      <th>23</th>\n",
       "      <td>1.0</td>\n",
       "      <td>4.0</td>\n",
       "      <td>74.0</td>\n",
       "      <td>256020.0</td>\n",
       "      <td>313200.0</td>\n",
       "      <td>234.0</td>\n",
       "      <td>3132.0</td>\n",
       "      <td>81.743295</td>\n",
       "      <td>7.471264</td>\n",
       "      <td>234.0</td>\n",
       "    </tr>\n",
       "    <tr>\n",
       "      <th>24</th>\n",
       "      <td>1.0</td>\n",
       "      <td>4.0</td>\n",
       "      <td>75.0</td>\n",
       "      <td>256020.0</td>\n",
       "      <td>312300.0</td>\n",
       "      <td>234.0</td>\n",
       "      <td>3123.0</td>\n",
       "      <td>81.978866</td>\n",
       "      <td>7.492795</td>\n",
       "      <td>234.0</td>\n",
       "    </tr>\n",
       "    <tr>\n",
       "      <th>25</th>\n",
       "      <td>1.0</td>\n",
       "      <td>4.0</td>\n",
       "      <td>76.0</td>\n",
       "      <td>256020.0</td>\n",
       "      <td>310600.0</td>\n",
       "      <td>234.0</td>\n",
       "      <td>3106.0</td>\n",
       "      <td>82.427560</td>\n",
       "      <td>7.533806</td>\n",
       "      <td>234.0</td>\n",
       "    </tr>\n",
       "    <tr>\n",
       "      <th>26</th>\n",
       "      <td>1.0</td>\n",
       "      <td>4.0</td>\n",
       "      <td>77.0</td>\n",
       "      <td>254340.0</td>\n",
       "      <td>310000.0</td>\n",
       "      <td>234.0</td>\n",
       "      <td>3100.0</td>\n",
       "      <td>82.045161</td>\n",
       "      <td>7.516129</td>\n",
       "      <td>233.0</td>\n",
       "    </tr>\n",
       "    <tr>\n",
       "      <th>27</th>\n",
       "      <td>1.0</td>\n",
       "      <td>4.0</td>\n",
       "      <td>78.0</td>\n",
       "      <td>250410.0</td>\n",
       "      <td>307600.0</td>\n",
       "      <td>234.0</td>\n",
       "      <td>3076.0</td>\n",
       "      <td>81.407672</td>\n",
       "      <td>7.542263</td>\n",
       "      <td>232.0</td>\n",
       "    </tr>\n",
       "    <tr>\n",
       "      <th>28</th>\n",
       "      <td>1.0</td>\n",
       "      <td>4.0</td>\n",
       "      <td>79.0</td>\n",
       "      <td>246300.0</td>\n",
       "      <td>304700.0</td>\n",
       "      <td>234.0</td>\n",
       "      <td>3047.0</td>\n",
       "      <td>80.833607</td>\n",
       "      <td>7.581227</td>\n",
       "      <td>231.0</td>\n",
       "    </tr>\n",
       "    <tr>\n",
       "      <th>29</th>\n",
       "      <td>1.0</td>\n",
       "      <td>4.0</td>\n",
       "      <td>80.0</td>\n",
       "      <td>250230.0</td>\n",
       "      <td>302700.0</td>\n",
       "      <td>234.0</td>\n",
       "      <td>3027.0</td>\n",
       "      <td>82.666006</td>\n",
       "      <td>7.664354</td>\n",
       "      <td>232.0</td>\n",
       "    </tr>\n",
       "  </tbody>\n",
       "</table>\n",
       "</div>"
      ],
      "text/plain": [
       "    target_com  depth  target_per       総収益      投資金額    出現数   購買予測数        利益率     購買的中率    的中数\n",
       "0          1.0    4.0        51.0  256020.0  314900.0  234.0  3149.0  81.302001  7.430930  234.0\n",
       "1          1.0    4.0        52.0  256020.0  314900.0  234.0  3149.0  81.302001  7.430930  234.0\n",
       "2          1.0    4.0        53.0  256020.0  314900.0  234.0  3149.0  81.302001  7.430930  234.0\n",
       "3          1.0    4.0        54.0  256020.0  314900.0  234.0  3149.0  81.302001  7.430930  234.0\n",
       "4          1.0    4.0        55.0  256020.0  314900.0  234.0  3149.0  81.302001  7.430930  234.0\n",
       "5          1.0    4.0        56.0  256020.0  314900.0  234.0  3149.0  81.302001  7.430930  234.0\n",
       "6          1.0    4.0        57.0  256020.0  314900.0  234.0  3149.0  81.302001  7.430930  234.0\n",
       "7          1.0    4.0        58.0  256020.0  314900.0  234.0  3149.0  81.302001  7.430930  234.0\n",
       "8          1.0    4.0        59.0  256020.0  314900.0  234.0  3149.0  81.302001  7.430930  234.0\n",
       "9          1.0    4.0        60.0  256020.0  314900.0  234.0  3149.0  81.302001  7.430930  234.0\n",
       "10         1.0    4.0        61.0  256020.0  314900.0  234.0  3149.0  81.302001  7.430930  234.0\n",
       "11         1.0    4.0        62.0  256020.0  314900.0  234.0  3149.0  81.302001  7.430930  234.0\n",
       "12         1.0    4.0        63.0  256020.0  314900.0  234.0  3149.0  81.302001  7.430930  234.0\n",
       "13         1.0    4.0        64.0  256020.0  314800.0  234.0  3148.0  81.327827  7.433291  234.0\n",
       "14         1.0    4.0        65.0  256020.0  314700.0  234.0  3147.0  81.353670  7.435653  234.0\n",
       "15         1.0    4.0        66.0  256020.0  314700.0  234.0  3147.0  81.353670  7.435653  234.0\n",
       "16         1.0    4.0        67.0  256020.0  314800.0  234.0  3148.0  81.327827  7.433291  234.0\n",
       "17         1.0    4.0        68.0  256020.0  314700.0  234.0  3147.0  81.353670  7.435653  234.0\n",
       "18         1.0    4.0        69.0  256020.0  314600.0  234.0  3146.0  81.379530  7.438017  234.0\n",
       "19         1.0    4.0        70.0  256020.0  314600.0  234.0  3146.0  81.379530  7.438017  234.0\n",
       "20         1.0    4.0        71.0  256020.0  314000.0  234.0  3140.0  81.535032  7.452229  234.0\n",
       "21         1.0    4.0        72.0  256020.0  314000.0  234.0  3140.0  81.535032  7.452229  234.0\n",
       "22         1.0    4.0        73.0  256020.0  313300.0  234.0  3133.0  81.717204  7.468880  234.0\n",
       "23         1.0    4.0        74.0  256020.0  313200.0  234.0  3132.0  81.743295  7.471264  234.0\n",
       "24         1.0    4.0        75.0  256020.0  312300.0  234.0  3123.0  81.978866  7.492795  234.0\n",
       "25         1.0    4.0        76.0  256020.0  310600.0  234.0  3106.0  82.427560  7.533806  234.0\n",
       "26         1.0    4.0        77.0  254340.0  310000.0  234.0  3100.0  82.045161  7.516129  233.0\n",
       "27         1.0    4.0        78.0  250410.0  307600.0  234.0  3076.0  81.407672  7.542263  232.0\n",
       "28         1.0    4.0        79.0  246300.0  304700.0  234.0  3047.0  80.833607  7.581227  231.0\n",
       "29         1.0    4.0        80.0  250230.0  302700.0  234.0  3027.0  82.666006  7.664354  232.0"
      ]
     },
     "execution_count": 54,
     "metadata": {},
     "output_type": "execute_result"
    }
   ],
   "source": [
    "model_score_df[:30]"
   ]
  },
  {
   "cell_type": "code",
   "execution_count": 20,
   "metadata": {},
   "outputs": [
    {
     "data": {
      "text/html": [
       "<div>\n",
       "<style scoped>\n",
       "    .dataframe tbody tr th:only-of-type {\n",
       "        vertical-align: middle;\n",
       "    }\n",
       "\n",
       "    .dataframe tbody tr th {\n",
       "        vertical-align: top;\n",
       "    }\n",
       "\n",
       "    .dataframe thead th {\n",
       "        text-align: right;\n",
       "    }\n",
       "</style>\n",
       "<table border=\"1\" class=\"dataframe\">\n",
       "  <thead>\n",
       "    <tr style=\"text-align: right;\">\n",
       "      <th></th>\n",
       "      <th>result_com</th>\n",
       "      <th>result_com_num</th>\n",
       "      <th>result_com_per</th>\n",
       "      <th>gain_mean</th>\n",
       "      <th>gain_median</th>\n",
       "    </tr>\n",
       "  </thead>\n",
       "  <tbody>\n",
       "    <tr>\n",
       "      <th>0</th>\n",
       "      <td>1.0</td>\n",
       "      <td>234</td>\n",
       "      <td>7.43093</td>\n",
       "      <td>1094.102564</td>\n",
       "      <td>785.0</td>\n",
       "    </tr>\n",
       "  </tbody>\n",
       "</table>\n",
       "</div>"
      ],
      "text/plain": [
       "   result_com  result_com_num  result_com_per    gain_mean  gain_median\n",
       "0         1.0             234         7.43093  1094.102564        785.0"
      ]
     },
     "execution_count": 20,
     "metadata": {},
     "output_type": "execute_result"
    }
   ],
   "source": [
    "result_s"
   ]
  },
  {
   "cell_type": "code",
   "execution_count": null,
   "metadata": {},
   "outputs": [],
   "source": []
  }
 ],
 "metadata": {
  "kernelspec": {
   "display_name": "Python 3",
   "language": "python",
   "name": "python3"
  },
  "language_info": {
   "codemirror_mode": {
    "name": "ipython",
    "version": 3
   },
   "file_extension": ".py",
   "mimetype": "text/x-python",
   "name": "python",
   "nbconvert_exporter": "python",
   "pygments_lexer": "ipython3",
   "version": "3.7.4"
  }
 },
 "nbformat": 4,
 "nbformat_minor": 2
}
